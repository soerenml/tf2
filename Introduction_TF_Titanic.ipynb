{
  "nbformat": 4,
  "nbformat_minor": 0,
  "metadata": {
    "colab": {
      "name": "end to end TF.ipynb",
      "provenance": [],
      "collapsed_sections": [],
      "authorship_tag": "ABX9TyMwMBjkzLcbaxKN8aOnp9WH",
      "include_colab_link": true
    },
    "kernelspec": {
      "name": "python3",
      "display_name": "Python 3"
    }
  },
  "cells": [
    {
      "cell_type": "markdown",
      "metadata": {
        "id": "view-in-github",
        "colab_type": "text"
      },
      "source": [
        "<a href=\"https://colab.research.google.com/github/soerenml/tf2/blob/master/Introduction_TF_Titanic.ipynb\" target=\"_parent\"><img src=\"https://colab.research.google.com/assets/colab-badge.svg\" alt=\"Open In Colab\"/></a>"
      ]
    },
    {
      "cell_type": "markdown",
      "metadata": {
        "colab_type": "text",
        "id": "oSfwp-3jd35h"
      },
      "source": [
        "# End to end ML project\n",
        "\n",
        "Before you start with the project, make sure you **understand the underlying logic of the problem**. \n",
        "\n",
        "It is important to think in causal relationships first and have a look at the data later. I.e. there should be a clear logical representation of the problem **before** you jump into the process of data analysis.\n",
        "\n",
        "Furthermore, make sure you select the correct **performance measure** which is suitable for your problem. For example, it makes a significant difference if you use RMSE or RME when sensitivity to outliers is an issue.\n",
        "\n"
      ]
    },
    {
      "cell_type": "code",
      "metadata": {
        "id": "L0zn8hE1pW4s",
        "colab_type": "code",
        "outputId": "738ef3aa-22f3-46b4-c24c-6cd16a24c3fc",
        "colab": {
          "base_uri": "https://localhost:8080/",
          "height": 70
        }
      },
      "source": [
        "from __future__ import absolute_import, division, print_function, unicode_literals\n",
        "import tensorflow as tf\n",
        "print(\"Tensorflow version: {}\".format(tf.__version__))\n",
        "\n",
        "%load_ext tensorboard"
      ],
      "execution_count": 0,
      "outputs": [
        {
          "output_type": "stream",
          "text": [
            "Tensorflow version: 2.2.0-rc2\n",
            "The tensorboard extension is already loaded. To reload it, use:\n",
            "  %reload_ext tensorboard\n"
          ],
          "name": "stdout"
        }
      ]
    },
    {
      "cell_type": "markdown",
      "metadata": {
        "id": "UxJLvDn_hamk",
        "colab_type": "text"
      },
      "source": [
        "# Load the data"
      ]
    },
    {
      "cell_type": "markdown",
      "metadata": {
        "id": "OzAvTpMphdMM",
        "colab_type": "text"
      },
      "source": [
        "## Download and extract\n",
        "\n",
        "I am consuming data directly from github. This tutorial in not aiming to show production ready ML pipelines. It's a gentle introduction to TF."
      ]
    },
    {
      "cell_type": "code",
      "metadata": {
        "id": "iGVELrlnSR3m",
        "colab_type": "code",
        "outputId": "a3c9d778-15c9-4427-f8d8-5d658b406b6b",
        "colab": {
          "base_uri": "https://localhost:8080/",
          "height": 35
        }
      },
      "source": [
        "TRAIN_DATA_URL = \"https://storage.googleapis.com/tf-datasets/titanic/train.csv\"\n",
        "TEST_DATA_URL = \"https://storage.googleapis.com/tf-datasets/titanic/eval.csv\"\n",
        "\n",
        "train_file_path = tf.keras.utils.get_file(\"train.csv\", TRAIN_DATA_URL)\n",
        "eval_file_path = tf.keras.utils.get_file(\"eval.csv\", TEST_DATA_URL)\n",
        "\n",
        "print(train_file_path)"
      ],
      "execution_count": 0,
      "outputs": [
        {
          "output_type": "stream",
          "text": [
            "/root/.keras/datasets/train.csv\n"
          ],
          "name": "stdout"
        }
      ]
    },
    {
      "cell_type": "code",
      "metadata": {
        "id": "bKd97vo8n_ty",
        "colab_type": "code",
        "outputId": "0e851304-ccb5-462d-cb45-c6a3295ffdae",
        "colab": {
          "base_uri": "https://localhost:8080/",
          "height": 193
        }
      },
      "source": [
        "# Quick check if has beeen exported correctly.\n",
        "!head {train_file_path}"
      ],
      "execution_count": 0,
      "outputs": [
        {
          "output_type": "stream",
          "text": [
            "survived,sex,age,n_siblings_spouses,parch,fare,class,deck,embark_town,alone\n",
            "0,male,22.0,1,0,7.25,Third,unknown,Southampton,n\n",
            "1,female,38.0,1,0,71.2833,First,C,Cherbourg,n\n",
            "1,female,26.0,0,0,7.925,Third,unknown,Southampton,y\n",
            "1,female,35.0,1,0,53.1,First,C,Southampton,n\n",
            "0,male,28.0,0,0,8.4583,Third,unknown,Queenstown,y\n",
            "0,male,2.0,3,1,21.075,Third,unknown,Southampton,n\n",
            "1,female,27.0,0,2,11.1333,Third,unknown,Southampton,n\n",
            "1,female,14.0,1,0,30.0708,Second,unknown,Cherbourg,n\n",
            "1,female,4.0,1,1,16.7,Third,G,Southampton,n\n"
          ],
          "name": "stdout"
        }
      ]
    },
    {
      "cell_type": "code",
      "metadata": {
        "id": "xKNEFJyQTapM",
        "colab_type": "code",
        "colab": {}
      },
      "source": [
        "df_train = pd.read_csv(train_file_path)"
      ],
      "execution_count": 0,
      "outputs": []
    },
    {
      "cell_type": "markdown",
      "metadata": {
        "id": "-RwMsxNDhzCS",
        "colab_type": "text"
      },
      "source": [
        "## Check the data"
      ]
    },
    {
      "cell_type": "code",
      "metadata": {
        "id": "VATtCJXqi5ak",
        "colab_type": "code",
        "outputId": "15849f84-f1f4-4749-803a-a580ef854f8f",
        "colab": {
          "base_uri": "https://localhost:8080/",
          "height": 334
        }
      },
      "source": [
        "import pandas as pd\n",
        "df_train.iloc[1:10,:]"
      ],
      "execution_count": 0,
      "outputs": [
        {
          "output_type": "execute_result",
          "data": {
            "text/html": [
              "<div>\n",
              "<style scoped>\n",
              "    .dataframe tbody tr th:only-of-type {\n",
              "        vertical-align: middle;\n",
              "    }\n",
              "\n",
              "    .dataframe tbody tr th {\n",
              "        vertical-align: top;\n",
              "    }\n",
              "\n",
              "    .dataframe thead th {\n",
              "        text-align: right;\n",
              "    }\n",
              "</style>\n",
              "<table border=\"1\" class=\"dataframe\">\n",
              "  <thead>\n",
              "    <tr style=\"text-align: right;\">\n",
              "      <th></th>\n",
              "      <th>survived</th>\n",
              "      <th>sex</th>\n",
              "      <th>age</th>\n",
              "      <th>n_siblings_spouses</th>\n",
              "      <th>parch</th>\n",
              "      <th>fare</th>\n",
              "      <th>class</th>\n",
              "      <th>deck</th>\n",
              "      <th>embark_town</th>\n",
              "      <th>alone</th>\n",
              "    </tr>\n",
              "  </thead>\n",
              "  <tbody>\n",
              "    <tr>\n",
              "      <th>1</th>\n",
              "      <td>1</td>\n",
              "      <td>female</td>\n",
              "      <td>38.0</td>\n",
              "      <td>1</td>\n",
              "      <td>0</td>\n",
              "      <td>71.2833</td>\n",
              "      <td>First</td>\n",
              "      <td>C</td>\n",
              "      <td>Cherbourg</td>\n",
              "      <td>n</td>\n",
              "    </tr>\n",
              "    <tr>\n",
              "      <th>2</th>\n",
              "      <td>1</td>\n",
              "      <td>female</td>\n",
              "      <td>26.0</td>\n",
              "      <td>0</td>\n",
              "      <td>0</td>\n",
              "      <td>7.9250</td>\n",
              "      <td>Third</td>\n",
              "      <td>unknown</td>\n",
              "      <td>Southampton</td>\n",
              "      <td>y</td>\n",
              "    </tr>\n",
              "    <tr>\n",
              "      <th>3</th>\n",
              "      <td>1</td>\n",
              "      <td>female</td>\n",
              "      <td>35.0</td>\n",
              "      <td>1</td>\n",
              "      <td>0</td>\n",
              "      <td>53.1000</td>\n",
              "      <td>First</td>\n",
              "      <td>C</td>\n",
              "      <td>Southampton</td>\n",
              "      <td>n</td>\n",
              "    </tr>\n",
              "    <tr>\n",
              "      <th>4</th>\n",
              "      <td>0</td>\n",
              "      <td>male</td>\n",
              "      <td>28.0</td>\n",
              "      <td>0</td>\n",
              "      <td>0</td>\n",
              "      <td>8.4583</td>\n",
              "      <td>Third</td>\n",
              "      <td>unknown</td>\n",
              "      <td>Queenstown</td>\n",
              "      <td>y</td>\n",
              "    </tr>\n",
              "    <tr>\n",
              "      <th>5</th>\n",
              "      <td>0</td>\n",
              "      <td>male</td>\n",
              "      <td>2.0</td>\n",
              "      <td>3</td>\n",
              "      <td>1</td>\n",
              "      <td>21.0750</td>\n",
              "      <td>Third</td>\n",
              "      <td>unknown</td>\n",
              "      <td>Southampton</td>\n",
              "      <td>n</td>\n",
              "    </tr>\n",
              "    <tr>\n",
              "      <th>6</th>\n",
              "      <td>1</td>\n",
              "      <td>female</td>\n",
              "      <td>27.0</td>\n",
              "      <td>0</td>\n",
              "      <td>2</td>\n",
              "      <td>11.1333</td>\n",
              "      <td>Third</td>\n",
              "      <td>unknown</td>\n",
              "      <td>Southampton</td>\n",
              "      <td>n</td>\n",
              "    </tr>\n",
              "    <tr>\n",
              "      <th>7</th>\n",
              "      <td>1</td>\n",
              "      <td>female</td>\n",
              "      <td>14.0</td>\n",
              "      <td>1</td>\n",
              "      <td>0</td>\n",
              "      <td>30.0708</td>\n",
              "      <td>Second</td>\n",
              "      <td>unknown</td>\n",
              "      <td>Cherbourg</td>\n",
              "      <td>n</td>\n",
              "    </tr>\n",
              "    <tr>\n",
              "      <th>8</th>\n",
              "      <td>1</td>\n",
              "      <td>female</td>\n",
              "      <td>4.0</td>\n",
              "      <td>1</td>\n",
              "      <td>1</td>\n",
              "      <td>16.7000</td>\n",
              "      <td>Third</td>\n",
              "      <td>G</td>\n",
              "      <td>Southampton</td>\n",
              "      <td>n</td>\n",
              "    </tr>\n",
              "    <tr>\n",
              "      <th>9</th>\n",
              "      <td>0</td>\n",
              "      <td>male</td>\n",
              "      <td>20.0</td>\n",
              "      <td>0</td>\n",
              "      <td>0</td>\n",
              "      <td>8.0500</td>\n",
              "      <td>Third</td>\n",
              "      <td>unknown</td>\n",
              "      <td>Southampton</td>\n",
              "      <td>y</td>\n",
              "    </tr>\n",
              "  </tbody>\n",
              "</table>\n",
              "</div>"
            ],
            "text/plain": [
              "   survived     sex   age  ...     deck  embark_town  alone\n",
              "1         1  female  38.0  ...        C    Cherbourg      n\n",
              "2         1  female  26.0  ...  unknown  Southampton      y\n",
              "3         1  female  35.0  ...        C  Southampton      n\n",
              "4         0    male  28.0  ...  unknown   Queenstown      y\n",
              "5         0    male   2.0  ...  unknown  Southampton      n\n",
              "6         1  female  27.0  ...  unknown  Southampton      n\n",
              "7         1  female  14.0  ...  unknown    Cherbourg      n\n",
              "8         1  female   4.0  ...        G  Southampton      n\n",
              "9         0    male  20.0  ...  unknown  Southampton      y\n",
              "\n",
              "[9 rows x 10 columns]"
            ]
          },
          "metadata": {
            "tags": []
          },
          "execution_count": 105
        }
      ]
    },
    {
      "cell_type": "code",
      "metadata": {
        "id": "uMCAli8ikH1_",
        "colab_type": "code",
        "outputId": "88009e3e-38ff-4eda-8078-183e2e4d83b3",
        "colab": {
          "base_uri": "https://localhost:8080/",
          "height": 316
        }
      },
      "source": [
        "df_train.info()"
      ],
      "execution_count": 0,
      "outputs": [
        {
          "output_type": "stream",
          "text": [
            "<class 'pandas.core.frame.DataFrame'>\n",
            "RangeIndex: 627 entries, 0 to 626\n",
            "Data columns (total 10 columns):\n",
            " #   Column              Non-Null Count  Dtype  \n",
            "---  ------              --------------  -----  \n",
            " 0   survived            627 non-null    int64  \n",
            " 1   sex                 627 non-null    object \n",
            " 2   age                 627 non-null    float64\n",
            " 3   n_siblings_spouses  627 non-null    int64  \n",
            " 4   parch               627 non-null    int64  \n",
            " 5   fare                627 non-null    float64\n",
            " 6   class               627 non-null    object \n",
            " 7   deck                627 non-null    object \n",
            " 8   embark_town         627 non-null    object \n",
            " 9   alone               627 non-null    object \n",
            "dtypes: float64(2), int64(3), object(5)\n",
            "memory usage: 49.1+ KB\n"
          ],
          "name": "stdout"
        }
      ]
    },
    {
      "cell_type": "code",
      "metadata": {
        "id": "7m33f317knRE",
        "colab_type": "code",
        "outputId": "f755eef9-a219-447e-fd1c-54c83a4d4bb4",
        "colab": {
          "base_uri": "https://localhost:8080/",
          "height": 303
        }
      },
      "source": [
        "df_train.describe()"
      ],
      "execution_count": 0,
      "outputs": [
        {
          "output_type": "execute_result",
          "data": {
            "text/html": [
              "<div>\n",
              "<style scoped>\n",
              "    .dataframe tbody tr th:only-of-type {\n",
              "        vertical-align: middle;\n",
              "    }\n",
              "\n",
              "    .dataframe tbody tr th {\n",
              "        vertical-align: top;\n",
              "    }\n",
              "\n",
              "    .dataframe thead th {\n",
              "        text-align: right;\n",
              "    }\n",
              "</style>\n",
              "<table border=\"1\" class=\"dataframe\">\n",
              "  <thead>\n",
              "    <tr style=\"text-align: right;\">\n",
              "      <th></th>\n",
              "      <th>survived</th>\n",
              "      <th>age</th>\n",
              "      <th>n_siblings_spouses</th>\n",
              "      <th>parch</th>\n",
              "      <th>fare</th>\n",
              "    </tr>\n",
              "  </thead>\n",
              "  <tbody>\n",
              "    <tr>\n",
              "      <th>count</th>\n",
              "      <td>627.000000</td>\n",
              "      <td>627.000000</td>\n",
              "      <td>627.000000</td>\n",
              "      <td>627.000000</td>\n",
              "      <td>627.000000</td>\n",
              "    </tr>\n",
              "    <tr>\n",
              "      <th>mean</th>\n",
              "      <td>0.387560</td>\n",
              "      <td>29.631308</td>\n",
              "      <td>0.545455</td>\n",
              "      <td>0.379585</td>\n",
              "      <td>34.385399</td>\n",
              "    </tr>\n",
              "    <tr>\n",
              "      <th>std</th>\n",
              "      <td>0.487582</td>\n",
              "      <td>12.511818</td>\n",
              "      <td>1.151090</td>\n",
              "      <td>0.792999</td>\n",
              "      <td>54.597730</td>\n",
              "    </tr>\n",
              "    <tr>\n",
              "      <th>min</th>\n",
              "      <td>0.000000</td>\n",
              "      <td>0.750000</td>\n",
              "      <td>0.000000</td>\n",
              "      <td>0.000000</td>\n",
              "      <td>0.000000</td>\n",
              "    </tr>\n",
              "    <tr>\n",
              "      <th>25%</th>\n",
              "      <td>0.000000</td>\n",
              "      <td>23.000000</td>\n",
              "      <td>0.000000</td>\n",
              "      <td>0.000000</td>\n",
              "      <td>7.895800</td>\n",
              "    </tr>\n",
              "    <tr>\n",
              "      <th>50%</th>\n",
              "      <td>0.000000</td>\n",
              "      <td>28.000000</td>\n",
              "      <td>0.000000</td>\n",
              "      <td>0.000000</td>\n",
              "      <td>15.045800</td>\n",
              "    </tr>\n",
              "    <tr>\n",
              "      <th>75%</th>\n",
              "      <td>1.000000</td>\n",
              "      <td>35.000000</td>\n",
              "      <td>1.000000</td>\n",
              "      <td>0.000000</td>\n",
              "      <td>31.387500</td>\n",
              "    </tr>\n",
              "    <tr>\n",
              "      <th>max</th>\n",
              "      <td>1.000000</td>\n",
              "      <td>80.000000</td>\n",
              "      <td>8.000000</td>\n",
              "      <td>5.000000</td>\n",
              "      <td>512.329200</td>\n",
              "    </tr>\n",
              "  </tbody>\n",
              "</table>\n",
              "</div>"
            ],
            "text/plain": [
              "         survived         age  n_siblings_spouses       parch        fare\n",
              "count  627.000000  627.000000          627.000000  627.000000  627.000000\n",
              "mean     0.387560   29.631308            0.545455    0.379585   34.385399\n",
              "std      0.487582   12.511818            1.151090    0.792999   54.597730\n",
              "min      0.000000    0.750000            0.000000    0.000000    0.000000\n",
              "25%      0.000000   23.000000            0.000000    0.000000    7.895800\n",
              "50%      0.000000   28.000000            0.000000    0.000000   15.045800\n",
              "75%      1.000000   35.000000            1.000000    0.000000   31.387500\n",
              "max      1.000000   80.000000            8.000000    5.000000  512.329200"
            ]
          },
          "metadata": {
            "tags": []
          },
          "execution_count": 107
        }
      ]
    },
    {
      "cell_type": "code",
      "metadata": {
        "id": "H31W-RTWUp3v",
        "colab_type": "code",
        "outputId": "d7abb539-21a2-4d22-dd1b-6c90c6e2a342",
        "colab": {
          "base_uri": "https://localhost:8080/",
          "height": 105
        }
      },
      "source": [
        "df_train[\"embark_town\"].value_counts()"
      ],
      "execution_count": 0,
      "outputs": [
        {
          "output_type": "execute_result",
          "data": {
            "text/plain": [
              "Southampton    450\n",
              "Cherbourg      123\n",
              "Queenstown      53\n",
              "unknown          1\n",
              "Name: embark_town, dtype: int64"
            ]
          },
          "metadata": {
            "tags": []
          },
          "execution_count": 108
        }
      ]
    },
    {
      "cell_type": "markdown",
      "metadata": {
        "id": "S5xviWXLlW3z",
        "colab_type": "text"
      },
      "source": [
        "## Install facets"
      ]
    },
    {
      "cell_type": "code",
      "metadata": {
        "id": "XXVf9LnalL7r",
        "colab_type": "code",
        "outputId": "3008d3e7-3c8e-4431-a62d-4662c96823ec",
        "colab": {
          "base_uri": "https://localhost:8080/",
          "height": 158
        }
      },
      "source": [
        "!pip install facets-overview"
      ],
      "execution_count": 0,
      "outputs": [
        {
          "output_type": "stream",
          "text": [
            "Requirement already satisfied: facets-overview in /usr/local/lib/python3.6/dist-packages (1.0.0)\n",
            "Requirement already satisfied: numpy>=1.16.0 in /usr/local/lib/python3.6/dist-packages (from facets-overview) (1.18.2)\n",
            "Requirement already satisfied: pandas>=0.22.0 in /usr/local/lib/python3.6/dist-packages (from facets-overview) (1.0.3)\n",
            "Requirement already satisfied: protobuf>=3.7.0 in /usr/local/lib/python3.6/dist-packages (from facets-overview) (3.10.0)\n",
            "Requirement already satisfied: python-dateutil>=2.6.1 in /usr/local/lib/python3.6/dist-packages (from pandas>=0.22.0->facets-overview) (2.8.1)\n",
            "Requirement already satisfied: pytz>=2017.2 in /usr/local/lib/python3.6/dist-packages (from pandas>=0.22.0->facets-overview) (2018.9)\n",
            "Requirement already satisfied: setuptools in /usr/local/lib/python3.6/dist-packages (from protobuf>=3.7.0->facets-overview) (46.1.3)\n",
            "Requirement already satisfied: six>=1.9 in /usr/local/lib/python3.6/dist-packages (from protobuf>=3.7.0->facets-overview) (1.12.0)\n"
          ],
          "name": "stdout"
        }
      ]
    },
    {
      "cell_type": "code",
      "metadata": {
        "id": "Ny1XsSzMkl5W",
        "colab_type": "code",
        "outputId": "ad47a58a-7321-4877-9510-7196158d18b6",
        "colab": {
          "base_uri": "https://localhost:8080/",
          "height": 617
        }
      },
      "source": [
        "# Source: https://colab.research.google.com/github/PAIR-code/facets/blob/master/colab_facets.ipynb\n",
        "\n",
        "jsonstr = df.to_json(orient='records')\n",
        "sprite_size = 32 if len(df.index)>50000 else 64\n",
        "\n",
        "from IPython.core.display import display, HTML\n",
        "\n",
        "jsonstr = df_train.to_json(orient='records')\n",
        "HTML_TEMPLATE = \"\"\"\n",
        "        <script src=\"https://cdnjs.cloudflare.com/ajax/libs/webcomponentsjs/1.3.3/webcomponents-lite.js\"></script>\n",
        "        <link rel=\"import\" href=\"https://raw.githubusercontent.com/PAIR-code/facets/1.0.0/facets-dist/facets-jupyter.html\">\n",
        "        <facets-dive id=\"elem\" height=\"600\"></facets-dive>\n",
        "        <script>\n",
        "          var data = {jsonstr};\n",
        "          document.querySelector(\"#elem\").data = data;\n",
        "        </script>\"\"\"\n",
        "html = HTML_TEMPLATE.format(jsonstr=jsonstr)\n",
        "display(HTML(html))"
      ],
      "execution_count": 0,
      "outputs": [
        {
          "output_type": "display_data",
          "data": {
            "text/html": [
              "\n",
              "        <script src=\"https://cdnjs.cloudflare.com/ajax/libs/webcomponentsjs/1.3.3/webcomponents-lite.js\"></script>\n",
              "        <link rel=\"import\" href=\"https://raw.githubusercontent.com/PAIR-code/facets/1.0.0/facets-dist/facets-jupyter.html\">\n",
              "        <facets-dive id=\"elem\" height=\"600\"></facets-dive>\n",
              "        <script>\n",
              "          var data = [{\"survived\":0,\"sex\":\"male\",\"age\":22.0,\"n_siblings_spouses\":1,\"parch\":0,\"fare\":7.25,\"class\":\"Third\",\"deck\":\"unknown\",\"embark_town\":\"Southampton\",\"alone\":\"n\"},{\"survived\":1,\"sex\":\"female\",\"age\":38.0,\"n_siblings_spouses\":1,\"parch\":0,\"fare\":71.2833,\"class\":\"First\",\"deck\":\"C\",\"embark_town\":\"Cherbourg\",\"alone\":\"n\"},{\"survived\":1,\"sex\":\"female\",\"age\":26.0,\"n_siblings_spouses\":0,\"parch\":0,\"fare\":7.925,\"class\":\"Third\",\"deck\":\"unknown\",\"embark_town\":\"Southampton\",\"alone\":\"y\"},{\"survived\":1,\"sex\":\"female\",\"age\":35.0,\"n_siblings_spouses\":1,\"parch\":0,\"fare\":53.1,\"class\":\"First\",\"deck\":\"C\",\"embark_town\":\"Southampton\",\"alone\":\"n\"},{\"survived\":0,\"sex\":\"male\",\"age\":28.0,\"n_siblings_spouses\":0,\"parch\":0,\"fare\":8.4583,\"class\":\"Third\",\"deck\":\"unknown\",\"embark_town\":\"Queenstown\",\"alone\":\"y\"},{\"survived\":0,\"sex\":\"male\",\"age\":2.0,\"n_siblings_spouses\":3,\"parch\":1,\"fare\":21.075,\"class\":\"Third\",\"deck\":\"unknown\",\"embark_town\":\"Southampton\",\"alone\":\"n\"},{\"survived\":1,\"sex\":\"female\",\"age\":27.0,\"n_siblings_spouses\":0,\"parch\":2,\"fare\":11.1333,\"class\":\"Third\",\"deck\":\"unknown\",\"embark_town\":\"Southampton\",\"alone\":\"n\"},{\"survived\":1,\"sex\":\"female\",\"age\":14.0,\"n_siblings_spouses\":1,\"parch\":0,\"fare\":30.0708,\"class\":\"Second\",\"deck\":\"unknown\",\"embark_town\":\"Cherbourg\",\"alone\":\"n\"},{\"survived\":1,\"sex\":\"female\",\"age\":4.0,\"n_siblings_spouses\":1,\"parch\":1,\"fare\":16.7,\"class\":\"Third\",\"deck\":\"G\",\"embark_town\":\"Southampton\",\"alone\":\"n\"},{\"survived\":0,\"sex\":\"male\",\"age\":20.0,\"n_siblings_spouses\":0,\"parch\":0,\"fare\":8.05,\"class\":\"Third\",\"deck\":\"unknown\",\"embark_town\":\"Southampton\",\"alone\":\"y\"},{\"survived\":0,\"sex\":\"male\",\"age\":39.0,\"n_siblings_spouses\":1,\"parch\":5,\"fare\":31.275,\"class\":\"Third\",\"deck\":\"unknown\",\"embark_town\":\"Southampton\",\"alone\":\"n\"},{\"survived\":0,\"sex\":\"female\",\"age\":14.0,\"n_siblings_spouses\":0,\"parch\":0,\"fare\":7.8542,\"class\":\"Third\",\"deck\":\"unknown\",\"embark_town\":\"Southampton\",\"alone\":\"y\"},{\"survived\":0,\"sex\":\"male\",\"age\":2.0,\"n_siblings_spouses\":4,\"parch\":1,\"fare\":29.125,\"class\":\"Third\",\"deck\":\"unknown\",\"embark_town\":\"Queenstown\",\"alone\":\"n\"},{\"survived\":1,\"sex\":\"male\",\"age\":28.0,\"n_siblings_spouses\":0,\"parch\":0,\"fare\":13.0,\"class\":\"Second\",\"deck\":\"unknown\",\"embark_town\":\"Southampton\",\"alone\":\"y\"},{\"survived\":0,\"sex\":\"female\",\"age\":31.0,\"n_siblings_spouses\":1,\"parch\":0,\"fare\":18.0,\"class\":\"Third\",\"deck\":\"unknown\",\"embark_town\":\"Southampton\",\"alone\":\"n\"},{\"survived\":1,\"sex\":\"female\",\"age\":28.0,\"n_siblings_spouses\":0,\"parch\":0,\"fare\":7.225,\"class\":\"Third\",\"deck\":\"unknown\",\"embark_town\":\"Cherbourg\",\"alone\":\"y\"},{\"survived\":0,\"sex\":\"male\",\"age\":35.0,\"n_siblings_spouses\":0,\"parch\":0,\"fare\":26.0,\"class\":\"Second\",\"deck\":\"unknown\",\"embark_town\":\"Southampton\",\"alone\":\"y\"},{\"survived\":1,\"sex\":\"male\",\"age\":28.0,\"n_siblings_spouses\":0,\"parch\":0,\"fare\":35.5,\"class\":\"First\",\"deck\":\"A\",\"embark_town\":\"Southampton\",\"alone\":\"y\"},{\"survived\":1,\"sex\":\"female\",\"age\":38.0,\"n_siblings_spouses\":1,\"parch\":5,\"fare\":31.3875,\"class\":\"Third\",\"deck\":\"unknown\",\"embark_town\":\"Southampton\",\"alone\":\"n\"},{\"survived\":0,\"sex\":\"male\",\"age\":28.0,\"n_siblings_spouses\":0,\"parch\":0,\"fare\":7.225,\"class\":\"Third\",\"deck\":\"unknown\",\"embark_town\":\"Cherbourg\",\"alone\":\"y\"},{\"survived\":0,\"sex\":\"male\",\"age\":19.0,\"n_siblings_spouses\":3,\"parch\":2,\"fare\":263.0,\"class\":\"First\",\"deck\":\"C\",\"embark_town\":\"Southampton\",\"alone\":\"n\"},{\"survived\":1,\"sex\":\"female\",\"age\":28.0,\"n_siblings_spouses\":0,\"parch\":0,\"fare\":7.8792,\"class\":\"Third\",\"deck\":\"unknown\",\"embark_town\":\"Queenstown\",\"alone\":\"y\"},{\"survived\":0,\"sex\":\"male\",\"age\":28.0,\"n_siblings_spouses\":0,\"parch\":0,\"fare\":7.8958,\"class\":\"Third\",\"deck\":\"unknown\",\"embark_town\":\"Southampton\",\"alone\":\"y\"},{\"survived\":0,\"sex\":\"male\",\"age\":40.0,\"n_siblings_spouses\":0,\"parch\":0,\"fare\":27.7208,\"class\":\"First\",\"deck\":\"unknown\",\"embark_town\":\"Cherbourg\",\"alone\":\"y\"},{\"survived\":1,\"sex\":\"female\",\"age\":28.0,\"n_siblings_spouses\":1,\"parch\":0,\"fare\":146.5208,\"class\":\"First\",\"deck\":\"B\",\"embark_town\":\"Cherbourg\",\"alone\":\"n\"},{\"survived\":1,\"sex\":\"female\",\"age\":28.0,\"n_siblings_spouses\":0,\"parch\":0,\"fare\":7.75,\"class\":\"Third\",\"deck\":\"unknown\",\"embark_town\":\"Queenstown\",\"alone\":\"y\"},{\"survived\":0,\"sex\":\"male\",\"age\":66.0,\"n_siblings_spouses\":0,\"parch\":0,\"fare\":10.5,\"class\":\"Second\",\"deck\":\"unknown\",\"embark_town\":\"Southampton\",\"alone\":\"y\"},{\"survived\":0,\"sex\":\"male\",\"age\":28.0,\"n_siblings_spouses\":1,\"parch\":0,\"fare\":82.1708,\"class\":\"First\",\"deck\":\"unknown\",\"embark_town\":\"Cherbourg\",\"alone\":\"n\"},{\"survived\":0,\"sex\":\"male\",\"age\":42.0,\"n_siblings_spouses\":1,\"parch\":0,\"fare\":52.0,\"class\":\"First\",\"deck\":\"unknown\",\"embark_town\":\"Southampton\",\"alone\":\"n\"},{\"survived\":1,\"sex\":\"male\",\"age\":28.0,\"n_siblings_spouses\":0,\"parch\":0,\"fare\":7.2292,\"class\":\"Third\",\"deck\":\"unknown\",\"embark_town\":\"Cherbourg\",\"alone\":\"y\"},{\"survived\":1,\"sex\":\"female\",\"age\":14.0,\"n_siblings_spouses\":1,\"parch\":0,\"fare\":11.2417,\"class\":\"Third\",\"deck\":\"unknown\",\"embark_town\":\"Cherbourg\",\"alone\":\"n\"},{\"survived\":0,\"sex\":\"female\",\"age\":40.0,\"n_siblings_spouses\":1,\"parch\":0,\"fare\":9.475,\"class\":\"Third\",\"deck\":\"unknown\",\"embark_town\":\"Southampton\",\"alone\":\"n\"},{\"survived\":0,\"sex\":\"female\",\"age\":27.0,\"n_siblings_spouses\":1,\"parch\":0,\"fare\":21.0,\"class\":\"Second\",\"deck\":\"unknown\",\"embark_town\":\"Southampton\",\"alone\":\"n\"},{\"survived\":0,\"sex\":\"male\",\"age\":28.0,\"n_siblings_spouses\":0,\"parch\":0,\"fare\":7.8958,\"class\":\"Third\",\"deck\":\"unknown\",\"embark_town\":\"Cherbourg\",\"alone\":\"y\"},{\"survived\":1,\"sex\":\"female\",\"age\":3.0,\"n_siblings_spouses\":1,\"parch\":2,\"fare\":41.5792,\"class\":\"Second\",\"deck\":\"unknown\",\"embark_town\":\"Cherbourg\",\"alone\":\"n\"},{\"survived\":0,\"sex\":\"male\",\"age\":28.0,\"n_siblings_spouses\":0,\"parch\":0,\"fare\":8.05,\"class\":\"Third\",\"deck\":\"unknown\",\"embark_town\":\"Southampton\",\"alone\":\"y\"},{\"survived\":0,\"sex\":\"male\",\"age\":28.0,\"n_siblings_spouses\":1,\"parch\":0,\"fare\":15.5,\"class\":\"Third\",\"deck\":\"unknown\",\"embark_town\":\"Queenstown\",\"alone\":\"n\"},{\"survived\":0,\"sex\":\"male\",\"age\":28.0,\"n_siblings_spouses\":2,\"parch\":0,\"fare\":21.6792,\"class\":\"Third\",\"deck\":\"unknown\",\"embark_town\":\"Cherbourg\",\"alone\":\"n\"},{\"survived\":0,\"sex\":\"female\",\"age\":18.0,\"n_siblings_spouses\":1,\"parch\":0,\"fare\":17.8,\"class\":\"Third\",\"deck\":\"unknown\",\"embark_town\":\"Southampton\",\"alone\":\"n\"},{\"survived\":0,\"sex\":\"male\",\"age\":7.0,\"n_siblings_spouses\":4,\"parch\":1,\"fare\":39.6875,\"class\":\"Third\",\"deck\":\"unknown\",\"embark_town\":\"Southampton\",\"alone\":\"n\"},{\"survived\":1,\"sex\":\"female\",\"age\":49.0,\"n_siblings_spouses\":1,\"parch\":0,\"fare\":76.7292,\"class\":\"First\",\"deck\":\"D\",\"embark_town\":\"Cherbourg\",\"alone\":\"n\"},{\"survived\":1,\"sex\":\"female\",\"age\":29.0,\"n_siblings_spouses\":1,\"parch\":0,\"fare\":26.0,\"class\":\"Second\",\"deck\":\"unknown\",\"embark_town\":\"Southampton\",\"alone\":\"n\"},{\"survived\":0,\"sex\":\"male\",\"age\":65.0,\"n_siblings_spouses\":0,\"parch\":1,\"fare\":61.9792,\"class\":\"First\",\"deck\":\"B\",\"embark_town\":\"Cherbourg\",\"alone\":\"n\"},{\"survived\":1,\"sex\":\"male\",\"age\":28.0,\"n_siblings_spouses\":0,\"parch\":0,\"fare\":35.5,\"class\":\"First\",\"deck\":\"C\",\"embark_town\":\"Southampton\",\"alone\":\"y\"},{\"survived\":1,\"sex\":\"female\",\"age\":21.0,\"n_siblings_spouses\":0,\"parch\":0,\"fare\":10.5,\"class\":\"Second\",\"deck\":\"unknown\",\"embark_town\":\"Southampton\",\"alone\":\"y\"},{\"survived\":0,\"sex\":\"male\",\"age\":28.5,\"n_siblings_spouses\":0,\"parch\":0,\"fare\":7.2292,\"class\":\"Third\",\"deck\":\"unknown\",\"embark_town\":\"Cherbourg\",\"alone\":\"y\"},{\"survived\":0,\"sex\":\"male\",\"age\":11.0,\"n_siblings_spouses\":5,\"parch\":2,\"fare\":46.9,\"class\":\"Third\",\"deck\":\"unknown\",\"embark_town\":\"Southampton\",\"alone\":\"n\"},{\"survived\":0,\"sex\":\"male\",\"age\":22.0,\"n_siblings_spouses\":0,\"parch\":0,\"fare\":7.2292,\"class\":\"Third\",\"deck\":\"unknown\",\"embark_town\":\"Cherbourg\",\"alone\":\"y\"},{\"survived\":1,\"sex\":\"female\",\"age\":38.0,\"n_siblings_spouses\":0,\"parch\":0,\"fare\":80.0,\"class\":\"First\",\"deck\":\"B\",\"embark_town\":\"unknown\",\"alone\":\"y\"},{\"survived\":0,\"sex\":\"male\",\"age\":45.0,\"n_siblings_spouses\":1,\"parch\":0,\"fare\":83.475,\"class\":\"First\",\"deck\":\"C\",\"embark_town\":\"Southampton\",\"alone\":\"n\"},{\"survived\":0,\"sex\":\"male\",\"age\":4.0,\"n_siblings_spouses\":3,\"parch\":2,\"fare\":27.9,\"class\":\"Third\",\"deck\":\"unknown\",\"embark_town\":\"Southampton\",\"alone\":\"n\"},{\"survived\":1,\"sex\":\"male\",\"age\":28.0,\"n_siblings_spouses\":1,\"parch\":1,\"fare\":15.2458,\"class\":\"Third\",\"deck\":\"unknown\",\"embark_town\":\"Cherbourg\",\"alone\":\"n\"},{\"survived\":0,\"sex\":\"male\",\"age\":19.0,\"n_siblings_spouses\":0,\"parch\":0,\"fare\":8.1583,\"class\":\"Third\",\"deck\":\"unknown\",\"embark_town\":\"Southampton\",\"alone\":\"y\"},{\"survived\":1,\"sex\":\"female\",\"age\":17.0,\"n_siblings_spouses\":4,\"parch\":2,\"fare\":7.925,\"class\":\"Third\",\"deck\":\"unknown\",\"embark_town\":\"Southampton\",\"alone\":\"n\"},{\"survived\":0,\"sex\":\"male\",\"age\":26.0,\"n_siblings_spouses\":2,\"parch\":0,\"fare\":8.6625,\"class\":\"Third\",\"deck\":\"unknown\",\"embark_town\":\"Southampton\",\"alone\":\"n\"},{\"survived\":0,\"sex\":\"male\",\"age\":32.0,\"n_siblings_spouses\":0,\"parch\":0,\"fare\":10.5,\"class\":\"Second\",\"deck\":\"unknown\",\"embark_town\":\"Southampton\",\"alone\":\"y\"},{\"survived\":0,\"sex\":\"male\",\"age\":21.0,\"n_siblings_spouses\":0,\"parch\":0,\"fare\":73.5,\"class\":\"Second\",\"deck\":\"unknown\",\"embark_town\":\"Southampton\",\"alone\":\"y\"},{\"survived\":1,\"sex\":\"male\",\"age\":32.0,\"n_siblings_spouses\":0,\"parch\":0,\"fare\":56.4958,\"class\":\"Third\",\"deck\":\"unknown\",\"embark_town\":\"Southampton\",\"alone\":\"y\"},{\"survived\":0,\"sex\":\"male\",\"age\":25.0,\"n_siblings_spouses\":0,\"parch\":0,\"fare\":7.65,\"class\":\"Third\",\"deck\":\"F\",\"embark_town\":\"Southampton\",\"alone\":\"y\"},{\"survived\":0,\"sex\":\"male\",\"age\":28.0,\"n_siblings_spouses\":0,\"parch\":0,\"fare\":7.8958,\"class\":\"Third\",\"deck\":\"unknown\",\"embark_town\":\"Southampton\",\"alone\":\"y\"},{\"survived\":0,\"sex\":\"male\",\"age\":28.0,\"n_siblings_spouses\":0,\"parch\":0,\"fare\":8.05,\"class\":\"Third\",\"deck\":\"unknown\",\"embark_town\":\"Southampton\",\"alone\":\"y\"},{\"survived\":1,\"sex\":\"male\",\"age\":0.83,\"n_siblings_spouses\":0,\"parch\":2,\"fare\":29.0,\"class\":\"Second\",\"deck\":\"unknown\",\"embark_town\":\"Southampton\",\"alone\":\"n\"},{\"survived\":1,\"sex\":\"female\",\"age\":30.0,\"n_siblings_spouses\":0,\"parch\":0,\"fare\":12.475,\"class\":\"Third\",\"deck\":\"unknown\",\"embark_town\":\"Southampton\",\"alone\":\"y\"},{\"survived\":0,\"sex\":\"male\",\"age\":22.0,\"n_siblings_spouses\":0,\"parch\":0,\"fare\":9.0,\"class\":\"Third\",\"deck\":\"unknown\",\"embark_town\":\"Southampton\",\"alone\":\"y\"},{\"survived\":1,\"sex\":\"male\",\"age\":29.0,\"n_siblings_spouses\":0,\"parch\":0,\"fare\":9.5,\"class\":\"Third\",\"deck\":\"unknown\",\"embark_town\":\"Southampton\",\"alone\":\"y\"},{\"survived\":1,\"sex\":\"female\",\"age\":28.0,\"n_siblings_spouses\":0,\"parch\":0,\"fare\":7.7875,\"class\":\"Third\",\"deck\":\"unknown\",\"embark_town\":\"Queenstown\",\"alone\":\"y\"},{\"survived\":0,\"sex\":\"male\",\"age\":28.0,\"n_siblings_spouses\":0,\"parch\":0,\"fare\":47.1,\"class\":\"First\",\"deck\":\"unknown\",\"embark_town\":\"Southampton\",\"alone\":\"y\"},{\"survived\":0,\"sex\":\"male\",\"age\":16.0,\"n_siblings_spouses\":1,\"parch\":3,\"fare\":34.375,\"class\":\"Third\",\"deck\":\"unknown\",\"embark_town\":\"Southampton\",\"alone\":\"n\"},{\"survived\":0,\"sex\":\"male\",\"age\":28.0,\"n_siblings_spouses\":0,\"parch\":0,\"fare\":8.05,\"class\":\"Third\",\"deck\":\"unknown\",\"embark_town\":\"Southampton\",\"alone\":\"y\"},{\"survived\":1,\"sex\":\"female\",\"age\":23.0,\"n_siblings_spouses\":3,\"parch\":2,\"fare\":263.0,\"class\":\"First\",\"deck\":\"C\",\"embark_town\":\"Southampton\",\"alone\":\"n\"},{\"survived\":0,\"sex\":\"male\",\"age\":24.0,\"n_siblings_spouses\":0,\"parch\":0,\"fare\":8.05,\"class\":\"Third\",\"deck\":\"unknown\",\"embark_town\":\"Southampton\",\"alone\":\"y\"},{\"survived\":0,\"sex\":\"male\",\"age\":46.0,\"n_siblings_spouses\":1,\"parch\":0,\"fare\":61.175,\"class\":\"First\",\"deck\":\"E\",\"embark_town\":\"Southampton\",\"alone\":\"n\"},{\"survived\":0,\"sex\":\"male\",\"age\":59.0,\"n_siblings_spouses\":0,\"parch\":0,\"fare\":7.25,\"class\":\"Third\",\"deck\":\"unknown\",\"embark_town\":\"Southampton\",\"alone\":\"y\"},{\"survived\":0,\"sex\":\"male\",\"age\":28.0,\"n_siblings_spouses\":0,\"parch\":0,\"fare\":8.05,\"class\":\"Third\",\"deck\":\"unknown\",\"embark_town\":\"Southampton\",\"alone\":\"y\"},{\"survived\":0,\"sex\":\"male\",\"age\":71.0,\"n_siblings_spouses\":0,\"parch\":0,\"fare\":34.6542,\"class\":\"First\",\"deck\":\"A\",\"embark_town\":\"Cherbourg\",\"alone\":\"y\"},{\"survived\":1,\"sex\":\"male\",\"age\":23.0,\"n_siblings_spouses\":0,\"parch\":1,\"fare\":63.3583,\"class\":\"First\",\"deck\":\"D\",\"embark_town\":\"Cherbourg\",\"alone\":\"n\"},{\"survived\":1,\"sex\":\"female\",\"age\":34.0,\"n_siblings_spouses\":0,\"parch\":1,\"fare\":23.0,\"class\":\"Second\",\"deck\":\"unknown\",\"embark_town\":\"Southampton\",\"alone\":\"n\"},{\"survived\":0,\"sex\":\"male\",\"age\":34.0,\"n_siblings_spouses\":1,\"parch\":0,\"fare\":26.0,\"class\":\"Second\",\"deck\":\"unknown\",\"embark_town\":\"Southampton\",\"alone\":\"n\"},{\"survived\":0,\"sex\":\"female\",\"age\":28.0,\"n_siblings_spouses\":0,\"parch\":0,\"fare\":7.8958,\"class\":\"Third\",\"deck\":\"unknown\",\"embark_town\":\"Southampton\",\"alone\":\"y\"},{\"survived\":0,\"sex\":\"male\",\"age\":28.0,\"n_siblings_spouses\":0,\"parch\":0,\"fare\":7.8958,\"class\":\"Third\",\"deck\":\"unknown\",\"embark_town\":\"Southampton\",\"alone\":\"y\"},{\"survived\":0,\"sex\":\"male\",\"age\":21.0,\"n_siblings_spouses\":0,\"parch\":1,\"fare\":77.2875,\"class\":\"First\",\"deck\":\"D\",\"embark_town\":\"Southampton\",\"alone\":\"n\"},{\"survived\":0,\"sex\":\"male\",\"age\":33.0,\"n_siblings_spouses\":0,\"parch\":0,\"fare\":8.6542,\"class\":\"Third\",\"deck\":\"unknown\",\"embark_town\":\"Southampton\",\"alone\":\"y\"},{\"survived\":0,\"sex\":\"male\",\"age\":37.0,\"n_siblings_spouses\":2,\"parch\":0,\"fare\":7.925,\"class\":\"Third\",\"deck\":\"unknown\",\"embark_town\":\"Southampton\",\"alone\":\"n\"},{\"survived\":0,\"sex\":\"male\",\"age\":28.0,\"n_siblings_spouses\":0,\"parch\":0,\"fare\":7.8958,\"class\":\"Third\",\"deck\":\"unknown\",\"embark_town\":\"Southampton\",\"alone\":\"y\"},{\"survived\":1,\"sex\":\"male\",\"age\":28.0,\"n_siblings_spouses\":0,\"parch\":0,\"fare\":7.775,\"class\":\"Third\",\"deck\":\"unknown\",\"embark_town\":\"Southampton\",\"alone\":\"y\"},{\"survived\":1,\"sex\":\"female\",\"age\":28.0,\"n_siblings_spouses\":1,\"parch\":0,\"fare\":24.15,\"class\":\"Third\",\"deck\":\"unknown\",\"embark_town\":\"Queenstown\",\"alone\":\"n\"},{\"survived\":0,\"sex\":\"male\",\"age\":47.0,\"n_siblings_spouses\":0,\"parch\":0,\"fare\":52.0,\"class\":\"First\",\"deck\":\"C\",\"embark_town\":\"Southampton\",\"alone\":\"y\"},{\"survived\":0,\"sex\":\"female\",\"age\":14.5,\"n_siblings_spouses\":1,\"parch\":0,\"fare\":14.4542,\"class\":\"Third\",\"deck\":\"unknown\",\"embark_town\":\"Cherbourg\",\"alone\":\"n\"},{\"survived\":0,\"sex\":\"male\",\"age\":22.0,\"n_siblings_spouses\":0,\"parch\":0,\"fare\":8.05,\"class\":\"Third\",\"deck\":\"unknown\",\"embark_town\":\"Southampton\",\"alone\":\"y\"},{\"survived\":0,\"sex\":\"female\",\"age\":17.0,\"n_siblings_spouses\":0,\"parch\":0,\"fare\":14.4583,\"class\":\"Third\",\"deck\":\"unknown\",\"embark_town\":\"Cherbourg\",\"alone\":\"y\"},{\"survived\":0,\"sex\":\"male\",\"age\":21.0,\"n_siblings_spouses\":0,\"parch\":0,\"fare\":7.925,\"class\":\"Third\",\"deck\":\"unknown\",\"embark_town\":\"Southampton\",\"alone\":\"y\"},{\"survived\":0,\"sex\":\"male\",\"age\":70.5,\"n_siblings_spouses\":0,\"parch\":0,\"fare\":7.75,\"class\":\"Third\",\"deck\":\"unknown\",\"embark_town\":\"Queenstown\",\"alone\":\"y\"},{\"survived\":0,\"sex\":\"male\",\"age\":29.0,\"n_siblings_spouses\":1,\"parch\":0,\"fare\":21.0,\"class\":\"Second\",\"deck\":\"unknown\",\"embark_town\":\"Southampton\",\"alone\":\"n\"},{\"survived\":0,\"sex\":\"male\",\"age\":24.0,\"n_siblings_spouses\":0,\"parch\":1,\"fare\":247.5208,\"class\":\"First\",\"deck\":\"B\",\"embark_town\":\"Cherbourg\",\"alone\":\"n\"},{\"survived\":0,\"sex\":\"male\",\"age\":28.0,\"n_siblings_spouses\":0,\"parch\":0,\"fare\":8.05,\"class\":\"Third\",\"deck\":\"unknown\",\"embark_town\":\"Southampton\",\"alone\":\"y\"},{\"survived\":0,\"sex\":\"male\",\"age\":32.5,\"n_siblings_spouses\":1,\"parch\":0,\"fare\":30.0708,\"class\":\"Second\",\"deck\":\"unknown\",\"embark_town\":\"Cherbourg\",\"alone\":\"n\"},{\"survived\":1,\"sex\":\"female\",\"age\":32.5,\"n_siblings_spouses\":0,\"parch\":0,\"fare\":13.0,\"class\":\"Second\",\"deck\":\"E\",\"embark_town\":\"Southampton\",\"alone\":\"y\"},{\"survived\":0,\"sex\":\"male\",\"age\":28.0,\"n_siblings_spouses\":0,\"parch\":0,\"fare\":7.75,\"class\":\"Third\",\"deck\":\"unknown\",\"embark_town\":\"Queenstown\",\"alone\":\"y\"},{\"survived\":1,\"sex\":\"male\",\"age\":24.0,\"n_siblings_spouses\":0,\"parch\":0,\"fare\":7.1417,\"class\":\"Third\",\"deck\":\"unknown\",\"embark_town\":\"Southampton\",\"alone\":\"y\"},{\"survived\":0,\"sex\":\"male\",\"age\":45.0,\"n_siblings_spouses\":0,\"parch\":0,\"fare\":6.975,\"class\":\"Third\",\"deck\":\"unknown\",\"embark_town\":\"Southampton\",\"alone\":\"y\"},{\"survived\":0,\"sex\":\"male\",\"age\":20.0,\"n_siblings_spouses\":0,\"parch\":0,\"fare\":7.05,\"class\":\"Third\",\"deck\":\"unknown\",\"embark_town\":\"Southampton\",\"alone\":\"y\"},{\"survived\":0,\"sex\":\"female\",\"age\":47.0,\"n_siblings_spouses\":1,\"parch\":0,\"fare\":14.5,\"class\":\"Third\",\"deck\":\"unknown\",\"embark_town\":\"Southampton\",\"alone\":\"n\"},{\"survived\":0,\"sex\":\"male\",\"age\":23.0,\"n_siblings_spouses\":0,\"parch\":0,\"fare\":15.0458,\"class\":\"Second\",\"deck\":\"unknown\",\"embark_town\":\"Cherbourg\",\"alone\":\"y\"},{\"survived\":1,\"sex\":\"female\",\"age\":19.0,\"n_siblings_spouses\":0,\"parch\":2,\"fare\":26.2833,\"class\":\"First\",\"deck\":\"D\",\"embark_town\":\"Southampton\",\"alone\":\"n\"},{\"survived\":0,\"sex\":\"male\",\"age\":37.0,\"n_siblings_spouses\":1,\"parch\":0,\"fare\":53.1,\"class\":\"First\",\"deck\":\"C\",\"embark_town\":\"Southampton\",\"alone\":\"n\"},{\"survived\":0,\"sex\":\"male\",\"age\":16.0,\"n_siblings_spouses\":0,\"parch\":0,\"fare\":9.2167,\"class\":\"Third\",\"deck\":\"unknown\",\"embark_town\":\"Southampton\",\"alone\":\"y\"},{\"survived\":0,\"sex\":\"male\",\"age\":24.0,\"n_siblings_spouses\":0,\"parch\":0,\"fare\":79.2,\"class\":\"First\",\"deck\":\"B\",\"embark_town\":\"Cherbourg\",\"alone\":\"y\"},{\"survived\":0,\"sex\":\"female\",\"age\":28.0,\"n_siblings_spouses\":0,\"parch\":2,\"fare\":15.2458,\"class\":\"Third\",\"deck\":\"unknown\",\"embark_town\":\"Cherbourg\",\"alone\":\"n\"},{\"survived\":1,\"sex\":\"female\",\"age\":22.0,\"n_siblings_spouses\":0,\"parch\":0,\"fare\":7.75,\"class\":\"Third\",\"deck\":\"unknown\",\"embark_town\":\"Southampton\",\"alone\":\"y\"},{\"survived\":0,\"sex\":\"male\",\"age\":19.0,\"n_siblings_spouses\":0,\"parch\":0,\"fare\":6.75,\"class\":\"Third\",\"deck\":\"unknown\",\"embark_town\":\"Queenstown\",\"alone\":\"y\"},{\"survived\":0,\"sex\":\"male\",\"age\":18.0,\"n_siblings_spouses\":0,\"parch\":0,\"fare\":11.5,\"class\":\"Second\",\"deck\":\"unknown\",\"embark_town\":\"Southampton\",\"alone\":\"y\"},{\"survived\":0,\"sex\":\"female\",\"age\":9.0,\"n_siblings_spouses\":2,\"parch\":2,\"fare\":34.375,\"class\":\"Third\",\"deck\":\"unknown\",\"embark_town\":\"Southampton\",\"alone\":\"n\"},{\"survived\":0,\"sex\":\"male\",\"age\":51.0,\"n_siblings_spouses\":0,\"parch\":0,\"fare\":12.525,\"class\":\"Second\",\"deck\":\"unknown\",\"embark_town\":\"Southampton\",\"alone\":\"y\"},{\"survived\":0,\"sex\":\"male\",\"age\":55.5,\"n_siblings_spouses\":0,\"parch\":0,\"fare\":8.05,\"class\":\"Third\",\"deck\":\"unknown\",\"embark_town\":\"Southampton\",\"alone\":\"y\"},{\"survived\":0,\"sex\":\"male\",\"age\":40.5,\"n_siblings_spouses\":0,\"parch\":2,\"fare\":14.5,\"class\":\"Third\",\"deck\":\"unknown\",\"embark_town\":\"Southampton\",\"alone\":\"n\"},{\"survived\":0,\"sex\":\"male\",\"age\":28.0,\"n_siblings_spouses\":0,\"parch\":0,\"fare\":7.3125,\"class\":\"Third\",\"deck\":\"unknown\",\"embark_town\":\"Southampton\",\"alone\":\"y\"},{\"survived\":0,\"sex\":\"male\",\"age\":51.0,\"n_siblings_spouses\":0,\"parch\":1,\"fare\":61.3792,\"class\":\"First\",\"deck\":\"unknown\",\"embark_town\":\"Cherbourg\",\"alone\":\"n\"},{\"survived\":1,\"sex\":\"female\",\"age\":16.0,\"n_siblings_spouses\":0,\"parch\":0,\"fare\":7.7333,\"class\":\"Third\",\"deck\":\"unknown\",\"embark_town\":\"Queenstown\",\"alone\":\"y\"},{\"survived\":0,\"sex\":\"male\",\"age\":28.0,\"n_siblings_spouses\":0,\"parch\":0,\"fare\":8.6625,\"class\":\"Third\",\"deck\":\"unknown\",\"embark_town\":\"Southampton\",\"alone\":\"y\"},{\"survived\":0,\"sex\":\"male\",\"age\":28.0,\"n_siblings_spouses\":8,\"parch\":2,\"fare\":69.55,\"class\":\"Third\",\"deck\":\"unknown\",\"embark_town\":\"Southampton\",\"alone\":\"n\"},{\"survived\":0,\"sex\":\"male\",\"age\":44.0,\"n_siblings_spouses\":0,\"parch\":1,\"fare\":16.1,\"class\":\"Third\",\"deck\":\"unknown\",\"embark_town\":\"Southampton\",\"alone\":\"n\"},{\"survived\":0,\"sex\":\"male\",\"age\":26.0,\"n_siblings_spouses\":0,\"parch\":0,\"fare\":7.775,\"class\":\"Third\",\"deck\":\"unknown\",\"embark_town\":\"Southampton\",\"alone\":\"y\"},{\"survived\":0,\"sex\":\"male\",\"age\":17.0,\"n_siblings_spouses\":0,\"parch\":0,\"fare\":8.6625,\"class\":\"Third\",\"deck\":\"unknown\",\"embark_town\":\"Southampton\",\"alone\":\"y\"},{\"survived\":0,\"sex\":\"male\",\"age\":1.0,\"n_siblings_spouses\":4,\"parch\":1,\"fare\":39.6875,\"class\":\"Third\",\"deck\":\"unknown\",\"embark_town\":\"Southampton\",\"alone\":\"n\"},{\"survived\":1,\"sex\":\"female\",\"age\":28.0,\"n_siblings_spouses\":0,\"parch\":1,\"fare\":55.0,\"class\":\"First\",\"deck\":\"E\",\"embark_town\":\"Southampton\",\"alone\":\"n\"},{\"survived\":0,\"sex\":\"male\",\"age\":28.0,\"n_siblings_spouses\":0,\"parch\":0,\"fare\":56.4958,\"class\":\"Third\",\"deck\":\"unknown\",\"embark_town\":\"Southampton\",\"alone\":\"y\"},{\"survived\":0,\"sex\":\"male\",\"age\":4.0,\"n_siblings_spouses\":4,\"parch\":1,\"fare\":29.125,\"class\":\"Third\",\"deck\":\"unknown\",\"embark_town\":\"Queenstown\",\"alone\":\"n\"},{\"survived\":0,\"sex\":\"male\",\"age\":18.0,\"n_siblings_spouses\":1,\"parch\":1,\"fare\":7.8542,\"class\":\"Third\",\"deck\":\"unknown\",\"embark_town\":\"Southampton\",\"alone\":\"n\"},{\"survived\":0,\"sex\":\"male\",\"age\":28.0,\"n_siblings_spouses\":3,\"parch\":1,\"fare\":25.4667,\"class\":\"Third\",\"deck\":\"unknown\",\"embark_town\":\"Southampton\",\"alone\":\"n\"},{\"survived\":0,\"sex\":\"female\",\"age\":50.0,\"n_siblings_spouses\":0,\"parch\":0,\"fare\":28.7125,\"class\":\"First\",\"deck\":\"C\",\"embark_town\":\"Cherbourg\",\"alone\":\"y\"},{\"survived\":0,\"sex\":\"male\",\"age\":30.0,\"n_siblings_spouses\":0,\"parch\":0,\"fare\":13.0,\"class\":\"Second\",\"deck\":\"unknown\",\"embark_town\":\"Southampton\",\"alone\":\"y\"},{\"survived\":0,\"sex\":\"male\",\"age\":36.0,\"n_siblings_spouses\":0,\"parch\":0,\"fare\":0.0,\"class\":\"Third\",\"deck\":\"unknown\",\"embark_town\":\"Southampton\",\"alone\":\"y\"},{\"survived\":0,\"sex\":\"female\",\"age\":28.0,\"n_siblings_spouses\":8,\"parch\":2,\"fare\":69.55,\"class\":\"Third\",\"deck\":\"unknown\",\"embark_town\":\"Southampton\",\"alone\":\"n\"},{\"survived\":0,\"sex\":\"male\",\"age\":28.0,\"n_siblings_spouses\":0,\"parch\":0,\"fare\":15.05,\"class\":\"Second\",\"deck\":\"unknown\",\"embark_town\":\"Cherbourg\",\"alone\":\"y\"},{\"survived\":0,\"sex\":\"male\",\"age\":9.0,\"n_siblings_spouses\":4,\"parch\":2,\"fare\":31.3875,\"class\":\"Third\",\"deck\":\"unknown\",\"embark_town\":\"Southampton\",\"alone\":\"n\"},{\"survived\":1,\"sex\":\"female\",\"age\":4.0,\"n_siblings_spouses\":0,\"parch\":2,\"fare\":22.025,\"class\":\"Third\",\"deck\":\"unknown\",\"embark_town\":\"Southampton\",\"alone\":\"n\"},{\"survived\":1,\"sex\":\"female\",\"age\":28.0,\"n_siblings_spouses\":1,\"parch\":0,\"fare\":15.5,\"class\":\"Third\",\"deck\":\"unknown\",\"embark_town\":\"Queenstown\",\"alone\":\"n\"},{\"survived\":1,\"sex\":\"male\",\"age\":45.0,\"n_siblings_spouses\":0,\"parch\":0,\"fare\":26.55,\"class\":\"First\",\"deck\":\"unknown\",\"embark_town\":\"Southampton\",\"alone\":\"y\"},{\"survived\":0,\"sex\":\"male\",\"age\":36.0,\"n_siblings_spouses\":0,\"parch\":0,\"fare\":7.8958,\"class\":\"Third\",\"deck\":\"unknown\",\"embark_town\":\"Southampton\",\"alone\":\"y\"},{\"survived\":1,\"sex\":\"female\",\"age\":32.0,\"n_siblings_spouses\":0,\"parch\":0,\"fare\":13.0,\"class\":\"Second\",\"deck\":\"unknown\",\"embark_town\":\"Southampton\",\"alone\":\"y\"},{\"survived\":1,\"sex\":\"female\",\"age\":19.0,\"n_siblings_spouses\":1,\"parch\":0,\"fare\":7.8542,\"class\":\"Third\",\"deck\":\"unknown\",\"embark_town\":\"Southampton\",\"alone\":\"n\"},{\"survived\":1,\"sex\":\"male\",\"age\":3.0,\"n_siblings_spouses\":1,\"parch\":1,\"fare\":26.0,\"class\":\"Second\",\"deck\":\"F\",\"embark_town\":\"Southampton\",\"alone\":\"n\"},{\"survived\":1,\"sex\":\"female\",\"age\":44.0,\"n_siblings_spouses\":0,\"parch\":0,\"fare\":27.7208,\"class\":\"First\",\"deck\":\"B\",\"embark_town\":\"Cherbourg\",\"alone\":\"y\"},{\"survived\":1,\"sex\":\"female\",\"age\":58.0,\"n_siblings_spouses\":0,\"parch\":0,\"fare\":146.5208,\"class\":\"First\",\"deck\":\"B\",\"embark_town\":\"Cherbourg\",\"alone\":\"y\"},{\"survived\":0,\"sex\":\"male\",\"age\":28.0,\"n_siblings_spouses\":0,\"parch\":0,\"fare\":7.75,\"class\":\"Third\",\"deck\":\"unknown\",\"embark_town\":\"Queenstown\",\"alone\":\"y\"},{\"survived\":1,\"sex\":\"female\",\"age\":28.0,\"n_siblings_spouses\":0,\"parch\":0,\"fare\":7.75,\"class\":\"Third\",\"deck\":\"unknown\",\"embark_town\":\"Queenstown\",\"alone\":\"y\"},{\"survived\":0,\"sex\":\"female\",\"age\":24.0,\"n_siblings_spouses\":0,\"parch\":0,\"fare\":13.0,\"class\":\"Second\",\"deck\":\"unknown\",\"embark_town\":\"Southampton\",\"alone\":\"y\"},{\"survived\":0,\"sex\":\"male\",\"age\":28.0,\"n_siblings_spouses\":0,\"parch\":0,\"fare\":9.5,\"class\":\"Third\",\"deck\":\"unknown\",\"embark_town\":\"Southampton\",\"alone\":\"y\"},{\"survived\":0,\"sex\":\"male\",\"age\":28.0,\"n_siblings_spouses\":8,\"parch\":2,\"fare\":69.55,\"class\":\"Third\",\"deck\":\"unknown\",\"embark_town\":\"Southampton\",\"alone\":\"n\"},{\"survived\":0,\"sex\":\"male\",\"age\":34.0,\"n_siblings_spouses\":0,\"parch\":0,\"fare\":6.4958,\"class\":\"Third\",\"deck\":\"unknown\",\"embark_town\":\"Southampton\",\"alone\":\"y\"},{\"survived\":0,\"sex\":\"female\",\"age\":2.0,\"n_siblings_spouses\":0,\"parch\":1,\"fare\":10.4625,\"class\":\"Third\",\"deck\":\"G\",\"embark_town\":\"Southampton\",\"alone\":\"n\"},{\"survived\":0,\"sex\":\"male\",\"age\":32.0,\"n_siblings_spouses\":1,\"parch\":0,\"fare\":15.85,\"class\":\"Third\",\"deck\":\"unknown\",\"embark_town\":\"Southampton\",\"alone\":\"n\"},{\"survived\":1,\"sex\":\"male\",\"age\":26.0,\"n_siblings_spouses\":0,\"parch\":0,\"fare\":18.7875,\"class\":\"Third\",\"deck\":\"unknown\",\"embark_town\":\"Cherbourg\",\"alone\":\"y\"},{\"survived\":1,\"sex\":\"female\",\"age\":16.0,\"n_siblings_spouses\":0,\"parch\":0,\"fare\":7.75,\"class\":\"Third\",\"deck\":\"unknown\",\"embark_town\":\"Queenstown\",\"alone\":\"y\"},{\"survived\":1,\"sex\":\"male\",\"age\":40.0,\"n_siblings_spouses\":0,\"parch\":0,\"fare\":31.0,\"class\":\"First\",\"deck\":\"A\",\"embark_town\":\"Cherbourg\",\"alone\":\"y\"},{\"survived\":1,\"sex\":\"female\",\"age\":35.0,\"n_siblings_spouses\":0,\"parch\":0,\"fare\":21.0,\"class\":\"Second\",\"deck\":\"unknown\",\"embark_town\":\"Southampton\",\"alone\":\"y\"},{\"survived\":0,\"sex\":\"male\",\"age\":22.0,\"n_siblings_spouses\":0,\"parch\":0,\"fare\":7.25,\"class\":\"Third\",\"deck\":\"unknown\",\"embark_town\":\"Southampton\",\"alone\":\"y\"},{\"survived\":0,\"sex\":\"male\",\"age\":28.0,\"n_siblings_spouses\":1,\"parch\":0,\"fare\":7.75,\"class\":\"Third\",\"deck\":\"unknown\",\"embark_town\":\"Queenstown\",\"alone\":\"n\"},{\"survived\":1,\"sex\":\"female\",\"age\":31.0,\"n_siblings_spouses\":1,\"parch\":0,\"fare\":113.275,\"class\":\"First\",\"deck\":\"D\",\"embark_town\":\"Cherbourg\",\"alone\":\"n\"},{\"survived\":1,\"sex\":\"female\",\"age\":27.0,\"n_siblings_spouses\":0,\"parch\":0,\"fare\":7.925,\"class\":\"Third\",\"deck\":\"unknown\",\"embark_town\":\"Southampton\",\"alone\":\"y\"},{\"survived\":0,\"sex\":\"male\",\"age\":42.0,\"n_siblings_spouses\":1,\"parch\":0,\"fare\":27.0,\"class\":\"Second\",\"deck\":\"unknown\",\"embark_town\":\"Southampton\",\"alone\":\"n\"},{\"survived\":0,\"sex\":\"male\",\"age\":30.0,\"n_siblings_spouses\":0,\"parch\":0,\"fare\":10.5,\"class\":\"Second\",\"deck\":\"unknown\",\"embark_town\":\"Southampton\",\"alone\":\"y\"},{\"survived\":1,\"sex\":\"male\",\"age\":16.0,\"n_siblings_spouses\":0,\"parch\":0,\"fare\":8.05,\"class\":\"Third\",\"deck\":\"unknown\",\"embark_town\":\"Southampton\",\"alone\":\"y\"},{\"survived\":0,\"sex\":\"male\",\"age\":51.0,\"n_siblings_spouses\":0,\"parch\":0,\"fare\":8.05,\"class\":\"Third\",\"deck\":\"unknown\",\"embark_town\":\"Southampton\",\"alone\":\"y\"},{\"survived\":0,\"sex\":\"male\",\"age\":22.0,\"n_siblings_spouses\":0,\"parch\":0,\"fare\":9.35,\"class\":\"Third\",\"deck\":\"unknown\",\"embark_town\":\"Southampton\",\"alone\":\"y\"},{\"survived\":1,\"sex\":\"male\",\"age\":19.0,\"n_siblings_spouses\":0,\"parch\":0,\"fare\":10.5,\"class\":\"Second\",\"deck\":\"unknown\",\"embark_town\":\"Southampton\",\"alone\":\"y\"},{\"survived\":0,\"sex\":\"male\",\"age\":20.5,\"n_siblings_spouses\":0,\"parch\":0,\"fare\":7.25,\"class\":\"Third\",\"deck\":\"unknown\",\"embark_town\":\"Southampton\",\"alone\":\"y\"},{\"survived\":0,\"sex\":\"male\",\"age\":18.0,\"n_siblings_spouses\":0,\"parch\":0,\"fare\":13.0,\"class\":\"Second\",\"deck\":\"unknown\",\"embark_town\":\"Southampton\",\"alone\":\"y\"},{\"survived\":0,\"sex\":\"female\",\"age\":28.0,\"n_siblings_spouses\":3,\"parch\":1,\"fare\":25.4667,\"class\":\"Third\",\"deck\":\"unknown\",\"embark_town\":\"Southampton\",\"alone\":\"n\"},{\"survived\":1,\"sex\":\"female\",\"age\":35.0,\"n_siblings_spouses\":1,\"parch\":0,\"fare\":83.475,\"class\":\"First\",\"deck\":\"C\",\"embark_town\":\"Southampton\",\"alone\":\"n\"},{\"survived\":0,\"sex\":\"male\",\"age\":29.0,\"n_siblings_spouses\":0,\"parch\":0,\"fare\":7.775,\"class\":\"Third\",\"deck\":\"unknown\",\"embark_town\":\"Southampton\",\"alone\":\"y\"},{\"survived\":0,\"sex\":\"male\",\"age\":59.0,\"n_siblings_spouses\":0,\"parch\":0,\"fare\":13.5,\"class\":\"Second\",\"deck\":\"unknown\",\"embark_town\":\"Southampton\",\"alone\":\"y\"},{\"survived\":0,\"sex\":\"female\",\"age\":28.0,\"n_siblings_spouses\":0,\"parch\":0,\"fare\":7.55,\"class\":\"Third\",\"deck\":\"unknown\",\"embark_town\":\"Southampton\",\"alone\":\"y\"},{\"survived\":0,\"sex\":\"male\",\"age\":44.0,\"n_siblings_spouses\":1,\"parch\":0,\"fare\":26.0,\"class\":\"Second\",\"deck\":\"unknown\",\"embark_town\":\"Southampton\",\"alone\":\"n\"},{\"survived\":0,\"sex\":\"male\",\"age\":19.0,\"n_siblings_spouses\":0,\"parch\":0,\"fare\":10.5,\"class\":\"Second\",\"deck\":\"unknown\",\"embark_town\":\"Southampton\",\"alone\":\"y\"},{\"survived\":0,\"sex\":\"male\",\"age\":33.0,\"n_siblings_spouses\":0,\"parch\":0,\"fare\":12.275,\"class\":\"Second\",\"deck\":\"unknown\",\"embark_town\":\"Southampton\",\"alone\":\"y\"},{\"survived\":0,\"sex\":\"female\",\"age\":28.0,\"n_siblings_spouses\":1,\"parch\":0,\"fare\":14.4542,\"class\":\"Third\",\"deck\":\"unknown\",\"embark_town\":\"Cherbourg\",\"alone\":\"n\"},{\"survived\":1,\"sex\":\"female\",\"age\":28.0,\"n_siblings_spouses\":1,\"parch\":0,\"fare\":15.5,\"class\":\"Third\",\"deck\":\"unknown\",\"embark_town\":\"Queenstown\",\"alone\":\"n\"},{\"survived\":0,\"sex\":\"male\",\"age\":22.0,\"n_siblings_spouses\":0,\"parch\":0,\"fare\":7.125,\"class\":\"Third\",\"deck\":\"unknown\",\"embark_town\":\"Southampton\",\"alone\":\"y\"},{\"survived\":0,\"sex\":\"male\",\"age\":30.0,\"n_siblings_spouses\":0,\"parch\":0,\"fare\":7.225,\"class\":\"Third\",\"deck\":\"unknown\",\"embark_town\":\"Cherbourg\",\"alone\":\"y\"},{\"survived\":0,\"sex\":\"male\",\"age\":44.0,\"n_siblings_spouses\":2,\"parch\":0,\"fare\":90.0,\"class\":\"First\",\"deck\":\"C\",\"embark_town\":\"Queenstown\",\"alone\":\"n\"},{\"survived\":1,\"sex\":\"female\",\"age\":24.0,\"n_siblings_spouses\":0,\"parch\":2,\"fare\":14.5,\"class\":\"Second\",\"deck\":\"unknown\",\"embark_town\":\"Southampton\",\"alone\":\"n\"},{\"survived\":0,\"sex\":\"male\",\"age\":28.0,\"n_siblings_spouses\":0,\"parch\":0,\"fare\":7.25,\"class\":\"Third\",\"deck\":\"unknown\",\"embark_town\":\"Southampton\",\"alone\":\"y\"},{\"survived\":0,\"sex\":\"female\",\"age\":29.0,\"n_siblings_spouses\":1,\"parch\":1,\"fare\":10.4625,\"class\":\"Third\",\"deck\":\"G\",\"embark_town\":\"Southampton\",\"alone\":\"n\"},{\"survived\":0,\"sex\":\"male\",\"age\":30.0,\"n_siblings_spouses\":1,\"parch\":0,\"fare\":16.1,\"class\":\"Third\",\"deck\":\"unknown\",\"embark_town\":\"Southampton\",\"alone\":\"n\"},{\"survived\":0,\"sex\":\"female\",\"age\":41.0,\"n_siblings_spouses\":0,\"parch\":2,\"fare\":20.2125,\"class\":\"Third\",\"deck\":\"unknown\",\"embark_town\":\"Southampton\",\"alone\":\"n\"},{\"survived\":1,\"sex\":\"female\",\"age\":28.0,\"n_siblings_spouses\":0,\"parch\":0,\"fare\":79.2,\"class\":\"First\",\"deck\":\"unknown\",\"embark_town\":\"Cherbourg\",\"alone\":\"y\"},{\"survived\":1,\"sex\":\"female\",\"age\":35.0,\"n_siblings_spouses\":0,\"parch\":0,\"fare\":512.3292,\"class\":\"First\",\"deck\":\"unknown\",\"embark_town\":\"Cherbourg\",\"alone\":\"y\"},{\"survived\":1,\"sex\":\"female\",\"age\":50.0,\"n_siblings_spouses\":0,\"parch\":1,\"fare\":26.0,\"class\":\"Second\",\"deck\":\"unknown\",\"embark_town\":\"Southampton\",\"alone\":\"n\"},{\"survived\":0,\"sex\":\"male\",\"age\":28.0,\"n_siblings_spouses\":0,\"parch\":0,\"fare\":7.75,\"class\":\"Third\",\"deck\":\"unknown\",\"embark_town\":\"Queenstown\",\"alone\":\"y\"},{\"survived\":1,\"sex\":\"male\",\"age\":3.0,\"n_siblings_spouses\":4,\"parch\":2,\"fare\":31.3875,\"class\":\"Third\",\"deck\":\"unknown\",\"embark_town\":\"Southampton\",\"alone\":\"n\"},{\"survived\":0,\"sex\":\"male\",\"age\":40.0,\"n_siblings_spouses\":0,\"parch\":0,\"fare\":0.0,\"class\":\"First\",\"deck\":\"B\",\"embark_town\":\"Southampton\",\"alone\":\"y\"},{\"survived\":0,\"sex\":\"female\",\"age\":28.0,\"n_siblings_spouses\":0,\"parch\":0,\"fare\":7.75,\"class\":\"Third\",\"deck\":\"unknown\",\"embark_town\":\"Queenstown\",\"alone\":\"y\"},{\"survived\":0,\"sex\":\"male\",\"age\":36.0,\"n_siblings_spouses\":0,\"parch\":0,\"fare\":10.5,\"class\":\"Second\",\"deck\":\"unknown\",\"embark_town\":\"Southampton\",\"alone\":\"y\"},{\"survived\":0,\"sex\":\"male\",\"age\":16.0,\"n_siblings_spouses\":4,\"parch\":1,\"fare\":39.6875,\"class\":\"Third\",\"deck\":\"unknown\",\"embark_town\":\"Southampton\",\"alone\":\"n\"},{\"survived\":1,\"sex\":\"male\",\"age\":25.0,\"n_siblings_spouses\":1,\"parch\":0,\"fare\":7.775,\"class\":\"Third\",\"deck\":\"unknown\",\"embark_town\":\"Southampton\",\"alone\":\"n\"},{\"survived\":1,\"sex\":\"female\",\"age\":58.0,\"n_siblings_spouses\":0,\"parch\":1,\"fare\":153.4625,\"class\":\"First\",\"deck\":\"C\",\"embark_town\":\"Southampton\",\"alone\":\"n\"},{\"survived\":1,\"sex\":\"female\",\"age\":35.0,\"n_siblings_spouses\":0,\"parch\":0,\"fare\":135.6333,\"class\":\"First\",\"deck\":\"C\",\"embark_town\":\"Southampton\",\"alone\":\"y\"},{\"survived\":0,\"sex\":\"male\",\"age\":28.0,\"n_siblings_spouses\":0,\"parch\":0,\"fare\":31.0,\"class\":\"First\",\"deck\":\"unknown\",\"embark_town\":\"Southampton\",\"alone\":\"y\"},{\"survived\":1,\"sex\":\"male\",\"age\":25.0,\"n_siblings_spouses\":0,\"parch\":0,\"fare\":0.0,\"class\":\"Third\",\"deck\":\"unknown\",\"embark_town\":\"Southampton\",\"alone\":\"y\"},{\"survived\":1,\"sex\":\"female\",\"age\":41.0,\"n_siblings_spouses\":0,\"parch\":1,\"fare\":19.5,\"class\":\"Second\",\"deck\":\"unknown\",\"embark_town\":\"Southampton\",\"alone\":\"n\"},{\"survived\":0,\"sex\":\"male\",\"age\":37.0,\"n_siblings_spouses\":0,\"parch\":1,\"fare\":29.7,\"class\":\"First\",\"deck\":\"C\",\"embark_town\":\"Cherbourg\",\"alone\":\"n\"},{\"survived\":1,\"sex\":\"female\",\"age\":28.0,\"n_siblings_spouses\":0,\"parch\":0,\"fare\":7.75,\"class\":\"Third\",\"deck\":\"unknown\",\"embark_town\":\"Queenstown\",\"alone\":\"y\"},{\"survived\":1,\"sex\":\"female\",\"age\":63.0,\"n_siblings_spouses\":1,\"parch\":0,\"fare\":77.9583,\"class\":\"First\",\"deck\":\"D\",\"embark_town\":\"Southampton\",\"alone\":\"n\"},{\"survived\":0,\"sex\":\"female\",\"age\":45.0,\"n_siblings_spouses\":0,\"parch\":0,\"fare\":7.75,\"class\":\"Third\",\"deck\":\"unknown\",\"embark_town\":\"Southampton\",\"alone\":\"y\"},{\"survived\":0,\"sex\":\"male\",\"age\":28.0,\"n_siblings_spouses\":0,\"parch\":0,\"fare\":0.0,\"class\":\"Second\",\"deck\":\"unknown\",\"embark_town\":\"Southampton\",\"alone\":\"y\"},{\"survived\":0,\"sex\":\"male\",\"age\":7.0,\"n_siblings_spouses\":4,\"parch\":1,\"fare\":29.125,\"class\":\"Third\",\"deck\":\"unknown\",\"embark_town\":\"Queenstown\",\"alone\":\"n\"},{\"survived\":1,\"sex\":\"female\",\"age\":35.0,\"n_siblings_spouses\":1,\"parch\":1,\"fare\":20.25,\"class\":\"Third\",\"deck\":\"unknown\",\"embark_town\":\"Southampton\",\"alone\":\"n\"},{\"survived\":0,\"sex\":\"male\",\"age\":28.0,\"n_siblings_spouses\":0,\"parch\":0,\"fare\":7.8542,\"class\":\"Third\",\"deck\":\"unknown\",\"embark_town\":\"Southampton\",\"alone\":\"y\"},{\"survived\":0,\"sex\":\"male\",\"age\":16.0,\"n_siblings_spouses\":0,\"parch\":0,\"fare\":9.5,\"class\":\"Third\",\"deck\":\"unknown\",\"embark_town\":\"Southampton\",\"alone\":\"y\"},{\"survived\":0,\"sex\":\"male\",\"age\":28.0,\"n_siblings_spouses\":0,\"parch\":0,\"fare\":26.0,\"class\":\"First\",\"deck\":\"A\",\"embark_town\":\"Southampton\",\"alone\":\"y\"},{\"survived\":1,\"sex\":\"female\",\"age\":26.0,\"n_siblings_spouses\":0,\"parch\":0,\"fare\":78.85,\"class\":\"First\",\"deck\":\"unknown\",\"embark_town\":\"Southampton\",\"alone\":\"y\"},{\"survived\":0,\"sex\":\"male\",\"age\":36.0,\"n_siblings_spouses\":0,\"parch\":0,\"fare\":12.875,\"class\":\"Second\",\"deck\":\"D\",\"embark_town\":\"Cherbourg\",\"alone\":\"y\"},{\"survived\":0,\"sex\":\"male\",\"age\":24.0,\"n_siblings_spouses\":0,\"parch\":0,\"fare\":7.8958,\"class\":\"Third\",\"deck\":\"unknown\",\"embark_town\":\"Southampton\",\"alone\":\"y\"},{\"survived\":1,\"sex\":\"male\",\"age\":28.0,\"n_siblings_spouses\":0,\"parch\":0,\"fare\":30.5,\"class\":\"First\",\"deck\":\"C\",\"embark_town\":\"Southampton\",\"alone\":\"y\"},{\"survived\":1,\"sex\":\"female\",\"age\":50.0,\"n_siblings_spouses\":0,\"parch\":1,\"fare\":247.5208,\"class\":\"First\",\"deck\":\"B\",\"embark_town\":\"Cherbourg\",\"alone\":\"n\"},{\"survived\":1,\"sex\":\"female\",\"age\":28.0,\"n_siblings_spouses\":0,\"parch\":0,\"fare\":7.75,\"class\":\"Third\",\"deck\":\"unknown\",\"embark_town\":\"Queenstown\",\"alone\":\"y\"},{\"survived\":0,\"sex\":\"male\",\"age\":19.0,\"n_siblings_spouses\":0,\"parch\":0,\"fare\":0.0,\"class\":\"Third\",\"deck\":\"unknown\",\"embark_town\":\"Southampton\",\"alone\":\"y\"},{\"survived\":1,\"sex\":\"female\",\"age\":28.0,\"n_siblings_spouses\":0,\"parch\":0,\"fare\":12.35,\"class\":\"Second\",\"deck\":\"E\",\"embark_town\":\"Queenstown\",\"alone\":\"y\"},{\"survived\":0,\"sex\":\"male\",\"age\":28.0,\"n_siblings_spouses\":0,\"parch\":0,\"fare\":8.05,\"class\":\"Third\",\"deck\":\"unknown\",\"embark_town\":\"Southampton\",\"alone\":\"y\"},{\"survived\":1,\"sex\":\"female\",\"age\":28.0,\"n_siblings_spouses\":0,\"parch\":0,\"fare\":110.8833,\"class\":\"First\",\"deck\":\"unknown\",\"embark_town\":\"Cherbourg\",\"alone\":\"y\"},{\"survived\":1,\"sex\":\"female\",\"age\":17.0,\"n_siblings_spouses\":1,\"parch\":0,\"fare\":108.9,\"class\":\"First\",\"deck\":\"C\",\"embark_town\":\"Cherbourg\",\"alone\":\"n\"},{\"survived\":0,\"sex\":\"male\",\"age\":30.0,\"n_siblings_spouses\":1,\"parch\":0,\"fare\":24.0,\"class\":\"Second\",\"deck\":\"unknown\",\"embark_town\":\"Cherbourg\",\"alone\":\"n\"},{\"survived\":1,\"sex\":\"female\",\"age\":30.0,\"n_siblings_spouses\":0,\"parch\":0,\"fare\":56.9292,\"class\":\"First\",\"deck\":\"E\",\"embark_town\":\"Cherbourg\",\"alone\":\"y\"},{\"survived\":1,\"sex\":\"female\",\"age\":24.0,\"n_siblings_spouses\":0,\"parch\":0,\"fare\":83.1583,\"class\":\"First\",\"deck\":\"C\",\"embark_town\":\"Cherbourg\",\"alone\":\"y\"},{\"survived\":1,\"sex\":\"female\",\"age\":18.0,\"n_siblings_spouses\":2,\"parch\":2,\"fare\":262.375,\"class\":\"First\",\"deck\":\"B\",\"embark_town\":\"Cherbourg\",\"alone\":\"n\"},{\"survived\":0,\"sex\":\"female\",\"age\":26.0,\"n_siblings_spouses\":1,\"parch\":1,\"fare\":26.0,\"class\":\"Second\",\"deck\":\"unknown\",\"embark_town\":\"Southampton\",\"alone\":\"n\"},{\"survived\":0,\"sex\":\"male\",\"age\":28.0,\"n_siblings_spouses\":0,\"parch\":0,\"fare\":7.8958,\"class\":\"Third\",\"deck\":\"unknown\",\"embark_town\":\"Southampton\",\"alone\":\"y\"},{\"survived\":0,\"sex\":\"male\",\"age\":43.0,\"n_siblings_spouses\":1,\"parch\":1,\"fare\":26.25,\"class\":\"Second\",\"deck\":\"unknown\",\"embark_town\":\"Southampton\",\"alone\":\"n\"},{\"survived\":1,\"sex\":\"female\",\"age\":24.0,\"n_siblings_spouses\":1,\"parch\":0,\"fare\":26.0,\"class\":\"Second\",\"deck\":\"unknown\",\"embark_town\":\"Southampton\",\"alone\":\"n\"},{\"survived\":1,\"sex\":\"female\",\"age\":31.0,\"n_siblings_spouses\":0,\"parch\":2,\"fare\":164.8667,\"class\":\"First\",\"deck\":\"C\",\"embark_town\":\"Southampton\",\"alone\":\"n\"},{\"survived\":1,\"sex\":\"female\",\"age\":40.0,\"n_siblings_spouses\":1,\"parch\":1,\"fare\":134.5,\"class\":\"First\",\"deck\":\"E\",\"embark_town\":\"Cherbourg\",\"alone\":\"n\"},{\"survived\":0,\"sex\":\"male\",\"age\":22.0,\"n_siblings_spouses\":0,\"parch\":0,\"fare\":7.25,\"class\":\"Third\",\"deck\":\"unknown\",\"embark_town\":\"Southampton\",\"alone\":\"y\"},{\"survived\":0,\"sex\":\"male\",\"age\":27.0,\"n_siblings_spouses\":0,\"parch\":0,\"fare\":7.8958,\"class\":\"Third\",\"deck\":\"unknown\",\"embark_town\":\"Southampton\",\"alone\":\"y\"},{\"survived\":1,\"sex\":\"female\",\"age\":22.0,\"n_siblings_spouses\":1,\"parch\":1,\"fare\":29.0,\"class\":\"Second\",\"deck\":\"unknown\",\"embark_town\":\"Southampton\",\"alone\":\"n\"},{\"survived\":0,\"sex\":\"male\",\"age\":28.0,\"n_siblings_spouses\":8,\"parch\":2,\"fare\":69.55,\"class\":\"Third\",\"deck\":\"unknown\",\"embark_town\":\"Southampton\",\"alone\":\"n\"},{\"survived\":1,\"sex\":\"female\",\"age\":36.0,\"n_siblings_spouses\":0,\"parch\":0,\"fare\":135.6333,\"class\":\"First\",\"deck\":\"C\",\"embark_town\":\"Cherbourg\",\"alone\":\"y\"},{\"survived\":0,\"sex\":\"male\",\"age\":61.0,\"n_siblings_spouses\":0,\"parch\":0,\"fare\":6.2375,\"class\":\"Third\",\"deck\":\"unknown\",\"embark_town\":\"Southampton\",\"alone\":\"y\"},{\"survived\":1,\"sex\":\"female\",\"age\":31.0,\"n_siblings_spouses\":1,\"parch\":1,\"fare\":20.525,\"class\":\"Third\",\"deck\":\"unknown\",\"embark_town\":\"Southampton\",\"alone\":\"n\"},{\"survived\":1,\"sex\":\"female\",\"age\":28.0,\"n_siblings_spouses\":2,\"parch\":0,\"fare\":23.25,\"class\":\"Third\",\"deck\":\"unknown\",\"embark_town\":\"Queenstown\",\"alone\":\"n\"},{\"survived\":0,\"sex\":\"male\",\"age\":38.0,\"n_siblings_spouses\":0,\"parch\":1,\"fare\":153.4625,\"class\":\"First\",\"deck\":\"C\",\"embark_town\":\"Southampton\",\"alone\":\"n\"},{\"survived\":1,\"sex\":\"female\",\"age\":28.0,\"n_siblings_spouses\":1,\"parch\":0,\"fare\":133.65,\"class\":\"First\",\"deck\":\"unknown\",\"embark_town\":\"Southampton\",\"alone\":\"n\"},{\"survived\":0,\"sex\":\"male\",\"age\":28.0,\"n_siblings_spouses\":0,\"parch\":0,\"fare\":7.8958,\"class\":\"Third\",\"deck\":\"unknown\",\"embark_town\":\"Southampton\",\"alone\":\"y\"},{\"survived\":0,\"sex\":\"male\",\"age\":29.0,\"n_siblings_spouses\":1,\"parch\":0,\"fare\":66.6,\"class\":\"First\",\"deck\":\"C\",\"embark_town\":\"Southampton\",\"alone\":\"n\"},{\"survived\":1,\"sex\":\"male\",\"age\":45.0,\"n_siblings_spouses\":0,\"parch\":0,\"fare\":8.05,\"class\":\"Third\",\"deck\":\"unknown\",\"embark_town\":\"Southampton\",\"alone\":\"y\"},{\"survived\":0,\"sex\":\"male\",\"age\":45.0,\"n_siblings_spouses\":0,\"parch\":0,\"fare\":35.5,\"class\":\"First\",\"deck\":\"unknown\",\"embark_town\":\"Southampton\",\"alone\":\"y\"},{\"survived\":0,\"sex\":\"male\",\"age\":28.0,\"n_siblings_spouses\":0,\"parch\":0,\"fare\":13.0,\"class\":\"Second\",\"deck\":\"unknown\",\"embark_town\":\"Southampton\",\"alone\":\"y\"},{\"survived\":0,\"sex\":\"male\",\"age\":25.0,\"n_siblings_spouses\":0,\"parch\":0,\"fare\":13.0,\"class\":\"Second\",\"deck\":\"unknown\",\"embark_town\":\"Southampton\",\"alone\":\"y\"},{\"survived\":0,\"sex\":\"male\",\"age\":36.0,\"n_siblings_spouses\":0,\"parch\":0,\"fare\":13.0,\"class\":\"Second\",\"deck\":\"unknown\",\"embark_town\":\"Southampton\",\"alone\":\"y\"},{\"survived\":1,\"sex\":\"female\",\"age\":24.0,\"n_siblings_spouses\":0,\"parch\":0,\"fare\":13.0,\"class\":\"Second\",\"deck\":\"F\",\"embark_town\":\"Southampton\",\"alone\":\"y\"},{\"survived\":1,\"sex\":\"female\",\"age\":40.0,\"n_siblings_spouses\":0,\"parch\":0,\"fare\":13.0,\"class\":\"Second\",\"deck\":\"unknown\",\"embark_town\":\"Southampton\",\"alone\":\"y\"},{\"survived\":1,\"sex\":\"female\",\"age\":28.0,\"n_siblings_spouses\":1,\"parch\":0,\"fare\":16.1,\"class\":\"Third\",\"deck\":\"unknown\",\"embark_town\":\"Southampton\",\"alone\":\"n\"},{\"survived\":0,\"sex\":\"male\",\"age\":15.0,\"n_siblings_spouses\":1,\"parch\":1,\"fare\":7.2292,\"class\":\"Third\",\"deck\":\"unknown\",\"embark_town\":\"Cherbourg\",\"alone\":\"n\"},{\"survived\":0,\"sex\":\"male\",\"age\":25.0,\"n_siblings_spouses\":1,\"parch\":0,\"fare\":17.8,\"class\":\"Third\",\"deck\":\"unknown\",\"embark_town\":\"Southampton\",\"alone\":\"n\"},{\"survived\":0,\"sex\":\"male\",\"age\":28.0,\"n_siblings_spouses\":0,\"parch\":0,\"fare\":7.225,\"class\":\"Third\",\"deck\":\"unknown\",\"embark_town\":\"Cherbourg\",\"alone\":\"y\"},{\"survived\":0,\"sex\":\"male\",\"age\":28.0,\"n_siblings_spouses\":0,\"parch\":0,\"fare\":9.5,\"class\":\"Third\",\"deck\":\"unknown\",\"embark_town\":\"Southampton\",\"alone\":\"y\"},{\"survived\":1,\"sex\":\"female\",\"age\":22.0,\"n_siblings_spouses\":0,\"parch\":1,\"fare\":55.0,\"class\":\"First\",\"deck\":\"E\",\"embark_town\":\"Southampton\",\"alone\":\"n\"},{\"survived\":0,\"sex\":\"female\",\"age\":38.0,\"n_siblings_spouses\":0,\"parch\":0,\"fare\":13.0,\"class\":\"Second\",\"deck\":\"unknown\",\"embark_town\":\"Southampton\",\"alone\":\"y\"},{\"survived\":1,\"sex\":\"female\",\"age\":28.0,\"n_siblings_spouses\":0,\"parch\":0,\"fare\":7.8792,\"class\":\"Third\",\"deck\":\"unknown\",\"embark_town\":\"Queenstown\",\"alone\":\"y\"},{\"survived\":1,\"sex\":\"female\",\"age\":28.0,\"n_siblings_spouses\":0,\"parch\":0,\"fare\":7.8792,\"class\":\"Third\",\"deck\":\"unknown\",\"embark_town\":\"Queenstown\",\"alone\":\"y\"},{\"survived\":0,\"sex\":\"male\",\"age\":40.0,\"n_siblings_spouses\":1,\"parch\":4,\"fare\":27.9,\"class\":\"Third\",\"deck\":\"unknown\",\"embark_town\":\"Southampton\",\"alone\":\"n\"},{\"survived\":0,\"sex\":\"male\",\"age\":29.0,\"n_siblings_spouses\":1,\"parch\":0,\"fare\":27.7208,\"class\":\"Second\",\"deck\":\"unknown\",\"embark_town\":\"Cherbourg\",\"alone\":\"n\"},{\"survived\":0,\"sex\":\"female\",\"age\":45.0,\"n_siblings_spouses\":0,\"parch\":1,\"fare\":14.4542,\"class\":\"Third\",\"deck\":\"unknown\",\"embark_town\":\"Cherbourg\",\"alone\":\"n\"},{\"survived\":0,\"sex\":\"male\",\"age\":35.0,\"n_siblings_spouses\":0,\"parch\":0,\"fare\":7.05,\"class\":\"Third\",\"deck\":\"unknown\",\"embark_town\":\"Southampton\",\"alone\":\"y\"},{\"survived\":0,\"sex\":\"male\",\"age\":28.0,\"n_siblings_spouses\":1,\"parch\":0,\"fare\":15.5,\"class\":\"Third\",\"deck\":\"unknown\",\"embark_town\":\"Queenstown\",\"alone\":\"n\"},{\"survived\":1,\"sex\":\"female\",\"age\":60.0,\"n_siblings_spouses\":1,\"parch\":0,\"fare\":75.25,\"class\":\"First\",\"deck\":\"D\",\"embark_town\":\"Cherbourg\",\"alone\":\"n\"},{\"survived\":1,\"sex\":\"female\",\"age\":28.0,\"n_siblings_spouses\":0,\"parch\":0,\"fare\":7.2292,\"class\":\"Third\",\"deck\":\"unknown\",\"embark_town\":\"Cherbourg\",\"alone\":\"y\"},{\"survived\":1,\"sex\":\"female\",\"age\":28.0,\"n_siblings_spouses\":0,\"parch\":0,\"fare\":7.75,\"class\":\"Third\",\"deck\":\"unknown\",\"embark_town\":\"Queenstown\",\"alone\":\"y\"},{\"survived\":1,\"sex\":\"female\",\"age\":24.0,\"n_siblings_spouses\":0,\"parch\":0,\"fare\":69.3,\"class\":\"First\",\"deck\":\"B\",\"embark_town\":\"Cherbourg\",\"alone\":\"y\"},{\"survived\":0,\"sex\":\"male\",\"age\":18.0,\"n_siblings_spouses\":1,\"parch\":0,\"fare\":6.4958,\"class\":\"Third\",\"deck\":\"unknown\",\"embark_town\":\"Southampton\",\"alone\":\"n\"},{\"survived\":0,\"sex\":\"male\",\"age\":19.0,\"n_siblings_spouses\":0,\"parch\":0,\"fare\":8.05,\"class\":\"Third\",\"deck\":\"unknown\",\"embark_town\":\"Southampton\",\"alone\":\"y\"},{\"survived\":1,\"sex\":\"female\",\"age\":28.0,\"n_siblings_spouses\":1,\"parch\":0,\"fare\":82.1708,\"class\":\"First\",\"deck\":\"unknown\",\"embark_town\":\"Cherbourg\",\"alone\":\"n\"},{\"survived\":0,\"sex\":\"male\",\"age\":27.0,\"n_siblings_spouses\":0,\"parch\":2,\"fare\":211.5,\"class\":\"First\",\"deck\":\"C\",\"embark_town\":\"Cherbourg\",\"alone\":\"n\"},{\"survived\":0,\"sex\":\"male\",\"age\":19.0,\"n_siblings_spouses\":0,\"parch\":0,\"fare\":7.775,\"class\":\"Third\",\"deck\":\"unknown\",\"embark_town\":\"Southampton\",\"alone\":\"y\"},{\"survived\":1,\"sex\":\"female\",\"age\":42.0,\"n_siblings_spouses\":0,\"parch\":0,\"fare\":227.525,\"class\":\"First\",\"deck\":\"unknown\",\"embark_town\":\"Cherbourg\",\"alone\":\"y\"},{\"survived\":0,\"sex\":\"male\",\"age\":32.0,\"n_siblings_spouses\":0,\"parch\":0,\"fare\":7.925,\"class\":\"Third\",\"deck\":\"unknown\",\"embark_town\":\"Southampton\",\"alone\":\"y\"},{\"survived\":0,\"sex\":\"male\",\"age\":28.0,\"n_siblings_spouses\":0,\"parch\":0,\"fare\":7.8958,\"class\":\"Third\",\"deck\":\"unknown\",\"embark_town\":\"Southampton\",\"alone\":\"y\"},{\"survived\":0,\"sex\":\"male\",\"age\":18.0,\"n_siblings_spouses\":0,\"parch\":0,\"fare\":73.5,\"class\":\"Second\",\"deck\":\"unknown\",\"embark_town\":\"Southampton\",\"alone\":\"y\"},{\"survived\":0,\"sex\":\"male\",\"age\":1.0,\"n_siblings_spouses\":5,\"parch\":2,\"fare\":46.9,\"class\":\"Third\",\"deck\":\"unknown\",\"embark_town\":\"Southampton\",\"alone\":\"n\"},{\"survived\":0,\"sex\":\"male\",\"age\":28.0,\"n_siblings_spouses\":0,\"parch\":0,\"fare\":7.7292,\"class\":\"Third\",\"deck\":\"unknown\",\"embark_town\":\"Queenstown\",\"alone\":\"y\"},{\"survived\":1,\"sex\":\"female\",\"age\":17.0,\"n_siblings_spouses\":0,\"parch\":0,\"fare\":12.0,\"class\":\"Second\",\"deck\":\"unknown\",\"embark_town\":\"Cherbourg\",\"alone\":\"y\"},{\"survived\":1,\"sex\":\"male\",\"age\":36.0,\"n_siblings_spouses\":1,\"parch\":2,\"fare\":120.0,\"class\":\"First\",\"deck\":\"B\",\"embark_town\":\"Southampton\",\"alone\":\"n\"},{\"survived\":1,\"sex\":\"male\",\"age\":21.0,\"n_siblings_spouses\":0,\"parch\":0,\"fare\":7.7958,\"class\":\"Third\",\"deck\":\"unknown\",\"embark_town\":\"Southampton\",\"alone\":\"y\"},{\"survived\":1,\"sex\":\"female\",\"age\":23.0,\"n_siblings_spouses\":1,\"parch\":0,\"fare\":113.275,\"class\":\"First\",\"deck\":\"D\",\"embark_town\":\"Cherbourg\",\"alone\":\"n\"},{\"survived\":1,\"sex\":\"female\",\"age\":24.0,\"n_siblings_spouses\":0,\"parch\":2,\"fare\":16.7,\"class\":\"Third\",\"deck\":\"G\",\"embark_town\":\"Southampton\",\"alone\":\"n\"},{\"survived\":0,\"sex\":\"male\",\"age\":22.0,\"n_siblings_spouses\":0,\"parch\":0,\"fare\":7.7958,\"class\":\"Third\",\"deck\":\"unknown\",\"embark_town\":\"Southampton\",\"alone\":\"y\"},{\"survived\":0,\"sex\":\"female\",\"age\":31.0,\"n_siblings_spouses\":0,\"parch\":0,\"fare\":7.8542,\"class\":\"Third\",\"deck\":\"unknown\",\"embark_town\":\"Southampton\",\"alone\":\"y\"},{\"survived\":0,\"sex\":\"male\",\"age\":46.0,\"n_siblings_spouses\":0,\"parch\":0,\"fare\":26.0,\"class\":\"Second\",\"deck\":\"unknown\",\"embark_town\":\"Southampton\",\"alone\":\"y\"},{\"survived\":0,\"sex\":\"male\",\"age\":23.0,\"n_siblings_spouses\":0,\"parch\":0,\"fare\":10.5,\"class\":\"Second\",\"deck\":\"unknown\",\"embark_town\":\"Southampton\",\"alone\":\"y\"},{\"survived\":1,\"sex\":\"male\",\"age\":39.0,\"n_siblings_spouses\":0,\"parch\":0,\"fare\":7.925,\"class\":\"Third\",\"deck\":\"unknown\",\"embark_town\":\"Southampton\",\"alone\":\"y\"},{\"survived\":0,\"sex\":\"male\",\"age\":26.0,\"n_siblings_spouses\":0,\"parch\":0,\"fare\":8.05,\"class\":\"Third\",\"deck\":\"unknown\",\"embark_town\":\"Southampton\",\"alone\":\"y\"},{\"survived\":0,\"sex\":\"male\",\"age\":28.0,\"n_siblings_spouses\":1,\"parch\":0,\"fare\":15.85,\"class\":\"Third\",\"deck\":\"unknown\",\"embark_town\":\"Southampton\",\"alone\":\"n\"},{\"survived\":0,\"sex\":\"male\",\"age\":34.0,\"n_siblings_spouses\":1,\"parch\":0,\"fare\":21.0,\"class\":\"Second\",\"deck\":\"unknown\",\"embark_town\":\"Southampton\",\"alone\":\"n\"},{\"survived\":1,\"sex\":\"male\",\"age\":3.0,\"n_siblings_spouses\":1,\"parch\":1,\"fare\":18.75,\"class\":\"Second\",\"deck\":\"unknown\",\"embark_town\":\"Southampton\",\"alone\":\"n\"},{\"survived\":0,\"sex\":\"male\",\"age\":21.0,\"n_siblings_spouses\":0,\"parch\":0,\"fare\":7.775,\"class\":\"Third\",\"deck\":\"unknown\",\"embark_town\":\"Southampton\",\"alone\":\"y\"},{\"survived\":0,\"sex\":\"female\",\"age\":28.0,\"n_siblings_spouses\":3,\"parch\":1,\"fare\":25.4667,\"class\":\"Third\",\"deck\":\"unknown\",\"embark_town\":\"Southampton\",\"alone\":\"n\"},{\"survived\":0,\"sex\":\"male\",\"age\":28.0,\"n_siblings_spouses\":0,\"parch\":0,\"fare\":7.8958,\"class\":\"Third\",\"deck\":\"unknown\",\"embark_town\":\"Southampton\",\"alone\":\"y\"},{\"survived\":0,\"sex\":\"male\",\"age\":28.0,\"n_siblings_spouses\":0,\"parch\":0,\"fare\":6.8583,\"class\":\"Third\",\"deck\":\"unknown\",\"embark_town\":\"Queenstown\",\"alone\":\"y\"},{\"survived\":0,\"sex\":\"male\",\"age\":28.0,\"n_siblings_spouses\":0,\"parch\":0,\"fare\":0.0,\"class\":\"Second\",\"deck\":\"unknown\",\"embark_town\":\"Southampton\",\"alone\":\"y\"},{\"survived\":1,\"sex\":\"male\",\"age\":44.0,\"n_siblings_spouses\":0,\"parch\":0,\"fare\":7.925,\"class\":\"Third\",\"deck\":\"unknown\",\"embark_town\":\"Southampton\",\"alone\":\"y\"},{\"survived\":0,\"sex\":\"female\",\"age\":28.0,\"n_siblings_spouses\":0,\"parch\":0,\"fare\":8.05,\"class\":\"Third\",\"deck\":\"unknown\",\"embark_town\":\"Southampton\",\"alone\":\"y\"},{\"survived\":1,\"sex\":\"female\",\"age\":34.0,\"n_siblings_spouses\":1,\"parch\":1,\"fare\":32.5,\"class\":\"Second\",\"deck\":\"unknown\",\"embark_town\":\"Southampton\",\"alone\":\"n\"},{\"survived\":1,\"sex\":\"female\",\"age\":18.0,\"n_siblings_spouses\":0,\"parch\":2,\"fare\":13.0,\"class\":\"Second\",\"deck\":\"unknown\",\"embark_town\":\"Southampton\",\"alone\":\"n\"},{\"survived\":0,\"sex\":\"male\",\"age\":30.0,\"n_siblings_spouses\":0,\"parch\":0,\"fare\":13.0,\"class\":\"Second\",\"deck\":\"unknown\",\"embark_town\":\"Southampton\",\"alone\":\"y\"},{\"survived\":0,\"sex\":\"male\",\"age\":28.0,\"n_siblings_spouses\":0,\"parch\":0,\"fare\":7.8958,\"class\":\"Third\",\"deck\":\"unknown\",\"embark_town\":\"Cherbourg\",\"alone\":\"y\"},{\"survived\":0,\"sex\":\"male\",\"age\":21.0,\"n_siblings_spouses\":0,\"parch\":0,\"fare\":7.7333,\"class\":\"Third\",\"deck\":\"unknown\",\"embark_town\":\"Queenstown\",\"alone\":\"y\"},{\"survived\":0,\"sex\":\"male\",\"age\":18.0,\"n_siblings_spouses\":1,\"parch\":1,\"fare\":20.2125,\"class\":\"Third\",\"deck\":\"unknown\",\"embark_town\":\"Southampton\",\"alone\":\"n\"},{\"survived\":1,\"sex\":\"female\",\"age\":19.0,\"n_siblings_spouses\":0,\"parch\":0,\"fare\":26.0,\"class\":\"Second\",\"deck\":\"unknown\",\"embark_town\":\"Southampton\",\"alone\":\"y\"},{\"survived\":0,\"sex\":\"male\",\"age\":28.0,\"n_siblings_spouses\":0,\"parch\":0,\"fare\":7.75,\"class\":\"Third\",\"deck\":\"unknown\",\"embark_town\":\"Queenstown\",\"alone\":\"y\"},{\"survived\":1,\"sex\":\"male\",\"age\":32.0,\"n_siblings_spouses\":0,\"parch\":0,\"fare\":8.05,\"class\":\"Third\",\"deck\":\"E\",\"embark_town\":\"Southampton\",\"alone\":\"y\"},{\"survived\":1,\"sex\":\"male\",\"age\":28.0,\"n_siblings_spouses\":0,\"parch\":0,\"fare\":26.55,\"class\":\"First\",\"deck\":\"C\",\"embark_town\":\"Southampton\",\"alone\":\"y\"},{\"survived\":1,\"sex\":\"female\",\"age\":28.0,\"n_siblings_spouses\":1,\"parch\":0,\"fare\":16.1,\"class\":\"Third\",\"deck\":\"unknown\",\"embark_town\":\"Southampton\",\"alone\":\"n\"},{\"survived\":1,\"sex\":\"female\",\"age\":42.0,\"n_siblings_spouses\":1,\"parch\":0,\"fare\":26.0,\"class\":\"Second\",\"deck\":\"unknown\",\"embark_town\":\"Southampton\",\"alone\":\"n\"},{\"survived\":0,\"sex\":\"male\",\"age\":17.0,\"n_siblings_spouses\":0,\"parch\":0,\"fare\":7.125,\"class\":\"Third\",\"deck\":\"unknown\",\"embark_town\":\"Southampton\",\"alone\":\"y\"},{\"survived\":0,\"sex\":\"male\",\"age\":50.0,\"n_siblings_spouses\":1,\"parch\":0,\"fare\":55.9,\"class\":\"First\",\"deck\":\"E\",\"embark_town\":\"Southampton\",\"alone\":\"n\"},{\"survived\":1,\"sex\":\"female\",\"age\":14.0,\"n_siblings_spouses\":1,\"parch\":2,\"fare\":120.0,\"class\":\"First\",\"deck\":\"B\",\"embark_town\":\"Southampton\",\"alone\":\"n\"},{\"survived\":1,\"sex\":\"female\",\"age\":24.0,\"n_siblings_spouses\":2,\"parch\":3,\"fare\":18.75,\"class\":\"Second\",\"deck\":\"unknown\",\"embark_town\":\"Southampton\",\"alone\":\"n\"},{\"survived\":0,\"sex\":\"male\",\"age\":64.0,\"n_siblings_spouses\":1,\"parch\":4,\"fare\":263.0,\"class\":\"First\",\"deck\":\"C\",\"embark_town\":\"Southampton\",\"alone\":\"n\"},{\"survived\":0,\"sex\":\"male\",\"age\":31.0,\"n_siblings_spouses\":0,\"parch\":0,\"fare\":10.5,\"class\":\"Second\",\"deck\":\"unknown\",\"embark_town\":\"Southampton\",\"alone\":\"y\"},{\"survived\":1,\"sex\":\"female\",\"age\":45.0,\"n_siblings_spouses\":1,\"parch\":1,\"fare\":26.25,\"class\":\"Second\",\"deck\":\"unknown\",\"embark_town\":\"Southampton\",\"alone\":\"n\"},{\"survived\":0,\"sex\":\"male\",\"age\":20.0,\"n_siblings_spouses\":0,\"parch\":0,\"fare\":9.5,\"class\":\"Third\",\"deck\":\"unknown\",\"embark_town\":\"Southampton\",\"alone\":\"y\"},{\"survived\":1,\"sex\":\"female\",\"age\":28.0,\"n_siblings_spouses\":0,\"parch\":0,\"fare\":13.0,\"class\":\"Second\",\"deck\":\"unknown\",\"embark_town\":\"Southampton\",\"alone\":\"y\"},{\"survived\":1,\"sex\":\"male\",\"age\":28.0,\"n_siblings_spouses\":0,\"parch\":0,\"fare\":8.1125,\"class\":\"Third\",\"deck\":\"unknown\",\"embark_town\":\"Southampton\",\"alone\":\"y\"},{\"survived\":1,\"sex\":\"male\",\"age\":34.0,\"n_siblings_spouses\":0,\"parch\":0,\"fare\":26.55,\"class\":\"First\",\"deck\":\"unknown\",\"embark_town\":\"Southampton\",\"alone\":\"y\"},{\"survived\":1,\"sex\":\"female\",\"age\":5.0,\"n_siblings_spouses\":2,\"parch\":1,\"fare\":19.2583,\"class\":\"Third\",\"deck\":\"unknown\",\"embark_town\":\"Cherbourg\",\"alone\":\"n\"},{\"survived\":1,\"sex\":\"male\",\"age\":52.0,\"n_siblings_spouses\":0,\"parch\":0,\"fare\":30.5,\"class\":\"First\",\"deck\":\"C\",\"embark_town\":\"Southampton\",\"alone\":\"y\"},{\"survived\":0,\"sex\":\"male\",\"age\":36.0,\"n_siblings_spouses\":1,\"parch\":2,\"fare\":27.75,\"class\":\"Second\",\"deck\":\"unknown\",\"embark_town\":\"Southampton\",\"alone\":\"n\"},{\"survived\":0,\"sex\":\"male\",\"age\":30.0,\"n_siblings_spouses\":0,\"parch\":0,\"fare\":27.75,\"class\":\"First\",\"deck\":\"C\",\"embark_town\":\"Cherbourg\",\"alone\":\"y\"},{\"survived\":1,\"sex\":\"male\",\"age\":49.0,\"n_siblings_spouses\":1,\"parch\":0,\"fare\":89.1042,\"class\":\"First\",\"deck\":\"C\",\"embark_town\":\"Cherbourg\",\"alone\":\"n\"},{\"survived\":1,\"sex\":\"male\",\"age\":29.0,\"n_siblings_spouses\":0,\"parch\":0,\"fare\":7.8958,\"class\":\"Third\",\"deck\":\"unknown\",\"embark_town\":\"Cherbourg\",\"alone\":\"y\"},{\"survived\":0,\"sex\":\"male\",\"age\":65.0,\"n_siblings_spouses\":0,\"parch\":0,\"fare\":26.55,\"class\":\"First\",\"deck\":\"E\",\"embark_town\":\"Southampton\",\"alone\":\"y\"},{\"survived\":1,\"sex\":\"female\",\"age\":28.0,\"n_siblings_spouses\":1,\"parch\":0,\"fare\":51.8625,\"class\":\"First\",\"deck\":\"D\",\"embark_town\":\"Southampton\",\"alone\":\"n\"},{\"survived\":1,\"sex\":\"male\",\"age\":48.0,\"n_siblings_spouses\":0,\"parch\":0,\"fare\":26.55,\"class\":\"First\",\"deck\":\"E\",\"embark_town\":\"Southampton\",\"alone\":\"y\"},{\"survived\":0,\"sex\":\"male\",\"age\":34.0,\"n_siblings_spouses\":0,\"parch\":0,\"fare\":8.05,\"class\":\"Third\",\"deck\":\"unknown\",\"embark_town\":\"Southampton\",\"alone\":\"y\"},{\"survived\":0,\"sex\":\"male\",\"age\":47.0,\"n_siblings_spouses\":0,\"parch\":0,\"fare\":38.5,\"class\":\"First\",\"deck\":\"E\",\"embark_town\":\"Southampton\",\"alone\":\"y\"},{\"survived\":0,\"sex\":\"male\",\"age\":28.0,\"n_siblings_spouses\":0,\"parch\":0,\"fare\":8.05,\"class\":\"Third\",\"deck\":\"unknown\",\"embark_town\":\"Southampton\",\"alone\":\"y\"},{\"survived\":0,\"sex\":\"male\",\"age\":38.0,\"n_siblings_spouses\":0,\"parch\":0,\"fare\":7.05,\"class\":\"Third\",\"deck\":\"unknown\",\"embark_town\":\"Southampton\",\"alone\":\"y\"},{\"survived\":0,\"sex\":\"male\",\"age\":56.0,\"n_siblings_spouses\":0,\"parch\":0,\"fare\":26.55,\"class\":\"First\",\"deck\":\"unknown\",\"embark_town\":\"Southampton\",\"alone\":\"y\"},{\"survived\":0,\"sex\":\"male\",\"age\":28.0,\"n_siblings_spouses\":0,\"parch\":0,\"fare\":7.725,\"class\":\"Third\",\"deck\":\"unknown\",\"embark_town\":\"Queenstown\",\"alone\":\"y\"},{\"survived\":1,\"sex\":\"female\",\"age\":0.75,\"n_siblings_spouses\":2,\"parch\":1,\"fare\":19.2583,\"class\":\"Third\",\"deck\":\"unknown\",\"embark_town\":\"Cherbourg\",\"alone\":\"n\"},{\"survived\":0,\"sex\":\"male\",\"age\":28.0,\"n_siblings_spouses\":0,\"parch\":0,\"fare\":7.25,\"class\":\"Third\",\"deck\":\"unknown\",\"embark_town\":\"Southampton\",\"alone\":\"y\"},{\"survived\":1,\"sex\":\"female\",\"age\":33.0,\"n_siblings_spouses\":1,\"parch\":2,\"fare\":27.75,\"class\":\"Second\",\"deck\":\"unknown\",\"embark_town\":\"Southampton\",\"alone\":\"n\"},{\"survived\":1,\"sex\":\"female\",\"age\":23.0,\"n_siblings_spouses\":0,\"parch\":0,\"fare\":13.7917,\"class\":\"Second\",\"deck\":\"D\",\"embark_town\":\"Cherbourg\",\"alone\":\"y\"},{\"survived\":0,\"sex\":\"male\",\"age\":28.0,\"n_siblings_spouses\":0,\"parch\":0,\"fare\":52.0,\"class\":\"First\",\"deck\":\"A\",\"embark_town\":\"Southampton\",\"alone\":\"y\"},{\"survived\":0,\"sex\":\"male\",\"age\":34.0,\"n_siblings_spouses\":1,\"parch\":0,\"fare\":21.0,\"class\":\"Second\",\"deck\":\"unknown\",\"embark_town\":\"Southampton\",\"alone\":\"n\"},{\"survived\":0,\"sex\":\"male\",\"age\":29.0,\"n_siblings_spouses\":1,\"parch\":0,\"fare\":7.0458,\"class\":\"Third\",\"deck\":\"unknown\",\"embark_town\":\"Southampton\",\"alone\":\"n\"},{\"survived\":1,\"sex\":\"female\",\"age\":2.0,\"n_siblings_spouses\":0,\"parch\":1,\"fare\":12.2875,\"class\":\"Third\",\"deck\":\"unknown\",\"embark_town\":\"Southampton\",\"alone\":\"n\"},{\"survived\":0,\"sex\":\"male\",\"age\":9.0,\"n_siblings_spouses\":5,\"parch\":2,\"fare\":46.9,\"class\":\"Third\",\"deck\":\"unknown\",\"embark_town\":\"Southampton\",\"alone\":\"n\"},{\"survived\":0,\"sex\":\"male\",\"age\":28.0,\"n_siblings_spouses\":0,\"parch\":0,\"fare\":0.0,\"class\":\"Second\",\"deck\":\"unknown\",\"embark_town\":\"Southampton\",\"alone\":\"y\"},{\"survived\":1,\"sex\":\"female\",\"age\":63.0,\"n_siblings_spouses\":0,\"parch\":0,\"fare\":9.5875,\"class\":\"Third\",\"deck\":\"unknown\",\"embark_town\":\"Southampton\",\"alone\":\"y\"},{\"survived\":1,\"sex\":\"male\",\"age\":25.0,\"n_siblings_spouses\":1,\"parch\":0,\"fare\":91.0792,\"class\":\"First\",\"deck\":\"B\",\"embark_town\":\"Cherbourg\",\"alone\":\"n\"},{\"survived\":0,\"sex\":\"female\",\"age\":28.0,\"n_siblings_spouses\":3,\"parch\":1,\"fare\":25.4667,\"class\":\"Third\",\"deck\":\"unknown\",\"embark_town\":\"Southampton\",\"alone\":\"n\"},{\"survived\":1,\"sex\":\"female\",\"age\":35.0,\"n_siblings_spouses\":1,\"parch\":0,\"fare\":90.0,\"class\":\"First\",\"deck\":\"C\",\"embark_town\":\"Southampton\",\"alone\":\"n\"},{\"survived\":0,\"sex\":\"male\",\"age\":58.0,\"n_siblings_spouses\":0,\"parch\":0,\"fare\":29.7,\"class\":\"First\",\"deck\":\"B\",\"embark_town\":\"Cherbourg\",\"alone\":\"y\"},{\"survived\":1,\"sex\":\"male\",\"age\":9.0,\"n_siblings_spouses\":1,\"parch\":1,\"fare\":15.9,\"class\":\"Third\",\"deck\":\"unknown\",\"embark_town\":\"Southampton\",\"alone\":\"n\"},{\"survived\":0,\"sex\":\"male\",\"age\":28.0,\"n_siblings_spouses\":1,\"parch\":0,\"fare\":19.9667,\"class\":\"Third\",\"deck\":\"unknown\",\"embark_town\":\"Southampton\",\"alone\":\"n\"},{\"survived\":0,\"sex\":\"male\",\"age\":71.0,\"n_siblings_spouses\":0,\"parch\":0,\"fare\":49.5042,\"class\":\"First\",\"deck\":\"unknown\",\"embark_town\":\"Cherbourg\",\"alone\":\"y\"},{\"survived\":0,\"sex\":\"male\",\"age\":21.0,\"n_siblings_spouses\":0,\"parch\":0,\"fare\":8.05,\"class\":\"Third\",\"deck\":\"unknown\",\"embark_town\":\"Southampton\",\"alone\":\"y\"},{\"survived\":0,\"sex\":\"female\",\"age\":25.0,\"n_siblings_spouses\":1,\"parch\":2,\"fare\":151.55,\"class\":\"First\",\"deck\":\"C\",\"embark_town\":\"Southampton\",\"alone\":\"n\"},{\"survived\":0,\"sex\":\"male\",\"age\":17.0,\"n_siblings_spouses\":0,\"parch\":0,\"fare\":8.6625,\"class\":\"Third\",\"deck\":\"unknown\",\"embark_town\":\"Southampton\",\"alone\":\"y\"},{\"survived\":0,\"sex\":\"female\",\"age\":21.0,\"n_siblings_spouses\":0,\"parch\":0,\"fare\":7.75,\"class\":\"Third\",\"deck\":\"unknown\",\"embark_town\":\"Queenstown\",\"alone\":\"y\"},{\"survived\":0,\"sex\":\"female\",\"age\":37.0,\"n_siblings_spouses\":0,\"parch\":0,\"fare\":9.5875,\"class\":\"Third\",\"deck\":\"unknown\",\"embark_town\":\"Southampton\",\"alone\":\"y\"},{\"survived\":0,\"sex\":\"male\",\"age\":18.0,\"n_siblings_spouses\":1,\"parch\":0,\"fare\":108.9,\"class\":\"First\",\"deck\":\"C\",\"embark_town\":\"Cherbourg\",\"alone\":\"n\"},{\"survived\":1,\"sex\":\"female\",\"age\":33.0,\"n_siblings_spouses\":0,\"parch\":2,\"fare\":26.0,\"class\":\"Second\",\"deck\":\"unknown\",\"embark_town\":\"Southampton\",\"alone\":\"n\"},{\"survived\":1,\"sex\":\"male\",\"age\":28.0,\"n_siblings_spouses\":0,\"parch\":0,\"fare\":26.55,\"class\":\"First\",\"deck\":\"unknown\",\"embark_town\":\"Southampton\",\"alone\":\"y\"},{\"survived\":1,\"sex\":\"male\",\"age\":26.0,\"n_siblings_spouses\":0,\"parch\":0,\"fare\":56.4958,\"class\":\"Third\",\"deck\":\"unknown\",\"embark_town\":\"Southampton\",\"alone\":\"y\"},{\"survived\":1,\"sex\":\"female\",\"age\":54.0,\"n_siblings_spouses\":1,\"parch\":0,\"fare\":59.4,\"class\":\"First\",\"deck\":\"unknown\",\"embark_town\":\"Cherbourg\",\"alone\":\"n\"},{\"survived\":0,\"sex\":\"male\",\"age\":24.0,\"n_siblings_spouses\":0,\"parch\":0,\"fare\":7.4958,\"class\":\"Third\",\"deck\":\"unknown\",\"embark_town\":\"Southampton\",\"alone\":\"y\"},{\"survived\":0,\"sex\":\"male\",\"age\":47.0,\"n_siblings_spouses\":0,\"parch\":0,\"fare\":34.0208,\"class\":\"First\",\"deck\":\"D\",\"embark_town\":\"Southampton\",\"alone\":\"y\"},{\"survived\":1,\"sex\":\"female\",\"age\":34.0,\"n_siblings_spouses\":0,\"parch\":0,\"fare\":10.5,\"class\":\"Second\",\"deck\":\"F\",\"embark_town\":\"Southampton\",\"alone\":\"y\"},{\"survived\":1,\"sex\":\"female\",\"age\":36.0,\"n_siblings_spouses\":1,\"parch\":0,\"fare\":26.0,\"class\":\"Second\",\"deck\":\"unknown\",\"embark_town\":\"Southampton\",\"alone\":\"n\"},{\"survived\":0,\"sex\":\"male\",\"age\":32.0,\"n_siblings_spouses\":0,\"parch\":0,\"fare\":7.8958,\"class\":\"Third\",\"deck\":\"unknown\",\"embark_town\":\"Southampton\",\"alone\":\"y\"},{\"survived\":1,\"sex\":\"female\",\"age\":30.0,\"n_siblings_spouses\":0,\"parch\":0,\"fare\":93.5,\"class\":\"First\",\"deck\":\"B\",\"embark_town\":\"Southampton\",\"alone\":\"y\"},{\"survived\":0,\"sex\":\"male\",\"age\":22.0,\"n_siblings_spouses\":0,\"parch\":0,\"fare\":7.8958,\"class\":\"Third\",\"deck\":\"unknown\",\"embark_town\":\"Southampton\",\"alone\":\"y\"},{\"survived\":1,\"sex\":\"female\",\"age\":44.0,\"n_siblings_spouses\":0,\"parch\":1,\"fare\":57.9792,\"class\":\"First\",\"deck\":\"B\",\"embark_town\":\"Cherbourg\",\"alone\":\"n\"},{\"survived\":0,\"sex\":\"male\",\"age\":28.0,\"n_siblings_spouses\":0,\"parch\":0,\"fare\":7.2292,\"class\":\"Third\",\"deck\":\"unknown\",\"embark_town\":\"Cherbourg\",\"alone\":\"y\"},{\"survived\":0,\"sex\":\"male\",\"age\":40.5,\"n_siblings_spouses\":0,\"parch\":0,\"fare\":7.75,\"class\":\"Third\",\"deck\":\"unknown\",\"embark_town\":\"Queenstown\",\"alone\":\"y\"},{\"survived\":1,\"sex\":\"female\",\"age\":50.0,\"n_siblings_spouses\":0,\"parch\":0,\"fare\":10.5,\"class\":\"Second\",\"deck\":\"unknown\",\"embark_town\":\"Southampton\",\"alone\":\"y\"},{\"survived\":0,\"sex\":\"male\",\"age\":28.0,\"n_siblings_spouses\":0,\"parch\":0,\"fare\":221.7792,\"class\":\"First\",\"deck\":\"C\",\"embark_town\":\"Southampton\",\"alone\":\"y\"},{\"survived\":0,\"sex\":\"male\",\"age\":23.0,\"n_siblings_spouses\":2,\"parch\":1,\"fare\":11.5,\"class\":\"Second\",\"deck\":\"unknown\",\"embark_town\":\"Southampton\",\"alone\":\"n\"},{\"survived\":1,\"sex\":\"female\",\"age\":2.0,\"n_siblings_spouses\":1,\"parch\":1,\"fare\":26.0,\"class\":\"Second\",\"deck\":\"unknown\",\"embark_town\":\"Southampton\",\"alone\":\"n\"},{\"survived\":0,\"sex\":\"male\",\"age\":17.0,\"n_siblings_spouses\":1,\"parch\":1,\"fare\":7.2292,\"class\":\"Third\",\"deck\":\"unknown\",\"embark_town\":\"Cherbourg\",\"alone\":\"n\"},{\"survived\":1,\"sex\":\"female\",\"age\":28.0,\"n_siblings_spouses\":0,\"parch\":2,\"fare\":22.3583,\"class\":\"Third\",\"deck\":\"unknown\",\"embark_town\":\"Cherbourg\",\"alone\":\"n\"},{\"survived\":0,\"sex\":\"female\",\"age\":30.0,\"n_siblings_spouses\":0,\"parch\":0,\"fare\":8.6625,\"class\":\"Third\",\"deck\":\"unknown\",\"embark_town\":\"Southampton\",\"alone\":\"y\"},{\"survived\":1,\"sex\":\"female\",\"age\":7.0,\"n_siblings_spouses\":0,\"parch\":2,\"fare\":26.25,\"class\":\"Second\",\"deck\":\"unknown\",\"embark_town\":\"Southampton\",\"alone\":\"n\"},{\"survived\":0,\"sex\":\"male\",\"age\":45.0,\"n_siblings_spouses\":0,\"parch\":0,\"fare\":26.55,\"class\":\"First\",\"deck\":\"B\",\"embark_town\":\"Southampton\",\"alone\":\"y\"},{\"survived\":1,\"sex\":\"female\",\"age\":30.0,\"n_siblings_spouses\":0,\"parch\":0,\"fare\":106.425,\"class\":\"First\",\"deck\":\"unknown\",\"embark_town\":\"Cherbourg\",\"alone\":\"y\"},{\"survived\":1,\"sex\":\"female\",\"age\":22.0,\"n_siblings_spouses\":0,\"parch\":2,\"fare\":49.5,\"class\":\"First\",\"deck\":\"B\",\"embark_town\":\"Cherbourg\",\"alone\":\"n\"},{\"survived\":1,\"sex\":\"female\",\"age\":36.0,\"n_siblings_spouses\":0,\"parch\":2,\"fare\":71.0,\"class\":\"First\",\"deck\":\"B\",\"embark_town\":\"Southampton\",\"alone\":\"n\"},{\"survived\":0,\"sex\":\"female\",\"age\":9.0,\"n_siblings_spouses\":4,\"parch\":2,\"fare\":31.275,\"class\":\"Third\",\"deck\":\"unknown\",\"embark_town\":\"Southampton\",\"alone\":\"n\"},{\"survived\":0,\"sex\":\"female\",\"age\":11.0,\"n_siblings_spouses\":4,\"parch\":2,\"fare\":31.275,\"class\":\"Third\",\"deck\":\"unknown\",\"embark_town\":\"Southampton\",\"alone\":\"n\"},{\"survived\":0,\"sex\":\"male\",\"age\":50.0,\"n_siblings_spouses\":1,\"parch\":0,\"fare\":106.425,\"class\":\"First\",\"deck\":\"C\",\"embark_town\":\"Cherbourg\",\"alone\":\"n\"},{\"survived\":1,\"sex\":\"female\",\"age\":19.0,\"n_siblings_spouses\":1,\"parch\":0,\"fare\":26.0,\"class\":\"Second\",\"deck\":\"unknown\",\"embark_town\":\"Southampton\",\"alone\":\"n\"},{\"survived\":1,\"sex\":\"male\",\"age\":28.0,\"n_siblings_spouses\":0,\"parch\":0,\"fare\":13.8625,\"class\":\"Second\",\"deck\":\"unknown\",\"embark_town\":\"Cherbourg\",\"alone\":\"y\"},{\"survived\":0,\"sex\":\"male\",\"age\":33.0,\"n_siblings_spouses\":1,\"parch\":1,\"fare\":20.525,\"class\":\"Third\",\"deck\":\"unknown\",\"embark_town\":\"Southampton\",\"alone\":\"n\"},{\"survived\":1,\"sex\":\"male\",\"age\":17.0,\"n_siblings_spouses\":0,\"parch\":2,\"fare\":110.8833,\"class\":\"First\",\"deck\":\"C\",\"embark_town\":\"Cherbourg\",\"alone\":\"n\"},{\"survived\":0,\"sex\":\"male\",\"age\":27.0,\"n_siblings_spouses\":0,\"parch\":0,\"fare\":26.0,\"class\":\"Second\",\"deck\":\"unknown\",\"embark_town\":\"Southampton\",\"alone\":\"y\"},{\"survived\":0,\"sex\":\"male\",\"age\":28.0,\"n_siblings_spouses\":0,\"parch\":0,\"fare\":7.8292,\"class\":\"Third\",\"deck\":\"unknown\",\"embark_town\":\"Queenstown\",\"alone\":\"y\"},{\"survived\":1,\"sex\":\"female\",\"age\":22.0,\"n_siblings_spouses\":0,\"parch\":0,\"fare\":7.775,\"class\":\"Third\",\"deck\":\"unknown\",\"embark_town\":\"Southampton\",\"alone\":\"y\"},{\"survived\":1,\"sex\":\"female\",\"age\":48.0,\"n_siblings_spouses\":1,\"parch\":0,\"fare\":39.6,\"class\":\"First\",\"deck\":\"A\",\"embark_town\":\"Cherbourg\",\"alone\":\"n\"},{\"survived\":0,\"sex\":\"male\",\"age\":28.0,\"n_siblings_spouses\":0,\"parch\":0,\"fare\":227.525,\"class\":\"First\",\"deck\":\"unknown\",\"embark_town\":\"Cherbourg\",\"alone\":\"y\"},{\"survived\":1,\"sex\":\"female\",\"age\":39.0,\"n_siblings_spouses\":1,\"parch\":1,\"fare\":79.65,\"class\":\"First\",\"deck\":\"E\",\"embark_town\":\"Southampton\",\"alone\":\"n\"},{\"survived\":1,\"sex\":\"female\",\"age\":36.0,\"n_siblings_spouses\":1,\"parch\":0,\"fare\":17.4,\"class\":\"Third\",\"deck\":\"unknown\",\"embark_town\":\"Southampton\",\"alone\":\"n\"},{\"survived\":0,\"sex\":\"male\",\"age\":28.0,\"n_siblings_spouses\":0,\"parch\":0,\"fare\":7.75,\"class\":\"Third\",\"deck\":\"unknown\",\"embark_town\":\"Queenstown\",\"alone\":\"y\"},{\"survived\":0,\"sex\":\"male\",\"age\":40.0,\"n_siblings_spouses\":0,\"parch\":0,\"fare\":7.8958,\"class\":\"Third\",\"deck\":\"unknown\",\"embark_town\":\"Southampton\",\"alone\":\"y\"},{\"survived\":0,\"sex\":\"male\",\"age\":28.0,\"n_siblings_spouses\":0,\"parch\":0,\"fare\":8.05,\"class\":\"Third\",\"deck\":\"unknown\",\"embark_town\":\"Southampton\",\"alone\":\"y\"},{\"survived\":0,\"sex\":\"male\",\"age\":24.0,\"n_siblings_spouses\":2,\"parch\":0,\"fare\":24.15,\"class\":\"Third\",\"deck\":\"unknown\",\"embark_town\":\"Southampton\",\"alone\":\"n\"},{\"survived\":0,\"sex\":\"male\",\"age\":19.0,\"n_siblings_spouses\":0,\"parch\":0,\"fare\":7.8958,\"class\":\"Third\",\"deck\":\"unknown\",\"embark_town\":\"Southampton\",\"alone\":\"y\"},{\"survived\":0,\"sex\":\"female\",\"age\":29.0,\"n_siblings_spouses\":0,\"parch\":4,\"fare\":21.075,\"class\":\"Third\",\"deck\":\"unknown\",\"embark_town\":\"Southampton\",\"alone\":\"n\"},{\"survived\":1,\"sex\":\"male\",\"age\":32.0,\"n_siblings_spouses\":0,\"parch\":0,\"fare\":7.8542,\"class\":\"Third\",\"deck\":\"unknown\",\"embark_town\":\"Southampton\",\"alone\":\"y\"},{\"survived\":1,\"sex\":\"male\",\"age\":62.0,\"n_siblings_spouses\":0,\"parch\":0,\"fare\":10.5,\"class\":\"Second\",\"deck\":\"unknown\",\"embark_town\":\"Southampton\",\"alone\":\"y\"},{\"survived\":1,\"sex\":\"female\",\"age\":53.0,\"n_siblings_spouses\":2,\"parch\":0,\"fare\":51.4792,\"class\":\"First\",\"deck\":\"C\",\"embark_town\":\"Southampton\",\"alone\":\"n\"},{\"survived\":1,\"sex\":\"male\",\"age\":36.0,\"n_siblings_spouses\":0,\"parch\":0,\"fare\":26.3875,\"class\":\"First\",\"deck\":\"E\",\"embark_town\":\"Southampton\",\"alone\":\"y\"},{\"survived\":0,\"sex\":\"male\",\"age\":16.0,\"n_siblings_spouses\":0,\"parch\":0,\"fare\":8.05,\"class\":\"Third\",\"deck\":\"unknown\",\"embark_town\":\"Southampton\",\"alone\":\"y\"},{\"survived\":1,\"sex\":\"female\",\"age\":34.0,\"n_siblings_spouses\":0,\"parch\":0,\"fare\":13.0,\"class\":\"Second\",\"deck\":\"unknown\",\"embark_town\":\"Southampton\",\"alone\":\"y\"},{\"survived\":1,\"sex\":\"female\",\"age\":25.0,\"n_siblings_spouses\":1,\"parch\":1,\"fare\":30.0,\"class\":\"Second\",\"deck\":\"unknown\",\"embark_town\":\"Southampton\",\"alone\":\"n\"},{\"survived\":0,\"sex\":\"male\",\"age\":36.0,\"n_siblings_spouses\":0,\"parch\":0,\"fare\":40.125,\"class\":\"First\",\"deck\":\"A\",\"embark_town\":\"Cherbourg\",\"alone\":\"y\"},{\"survived\":0,\"sex\":\"male\",\"age\":47.0,\"n_siblings_spouses\":0,\"parch\":0,\"fare\":15.0,\"class\":\"Second\",\"deck\":\"unknown\",\"embark_town\":\"Southampton\",\"alone\":\"y\"},{\"survived\":1,\"sex\":\"male\",\"age\":60.0,\"n_siblings_spouses\":1,\"parch\":1,\"fare\":79.2,\"class\":\"First\",\"deck\":\"B\",\"embark_town\":\"Cherbourg\",\"alone\":\"n\"},{\"survived\":0,\"sex\":\"male\",\"age\":28.0,\"n_siblings_spouses\":0,\"parch\":0,\"fare\":8.05,\"class\":\"Third\",\"deck\":\"unknown\",\"embark_town\":\"Southampton\",\"alone\":\"y\"},{\"survived\":0,\"sex\":\"male\",\"age\":35.0,\"n_siblings_spouses\":0,\"parch\":0,\"fare\":7.125,\"class\":\"Third\",\"deck\":\"unknown\",\"embark_town\":\"Southampton\",\"alone\":\"y\"},{\"survived\":1,\"sex\":\"female\",\"age\":52.0,\"n_siblings_spouses\":1,\"parch\":0,\"fare\":78.2667,\"class\":\"First\",\"deck\":\"D\",\"embark_town\":\"Cherbourg\",\"alone\":\"n\"},{\"survived\":0,\"sex\":\"male\",\"age\":47.0,\"n_siblings_spouses\":0,\"parch\":0,\"fare\":7.25,\"class\":\"Third\",\"deck\":\"unknown\",\"embark_town\":\"Southampton\",\"alone\":\"y\"},{\"survived\":0,\"sex\":\"female\",\"age\":28.0,\"n_siblings_spouses\":0,\"parch\":2,\"fare\":7.75,\"class\":\"Third\",\"deck\":\"unknown\",\"embark_town\":\"Queenstown\",\"alone\":\"n\"},{\"survived\":0,\"sex\":\"male\",\"age\":37.0,\"n_siblings_spouses\":1,\"parch\":0,\"fare\":26.0,\"class\":\"Second\",\"deck\":\"unknown\",\"embark_town\":\"Southampton\",\"alone\":\"n\"},{\"survived\":0,\"sex\":\"male\",\"age\":36.0,\"n_siblings_spouses\":1,\"parch\":1,\"fare\":24.15,\"class\":\"Third\",\"deck\":\"unknown\",\"embark_town\":\"Southampton\",\"alone\":\"n\"},{\"survived\":1,\"sex\":\"female\",\"age\":28.0,\"n_siblings_spouses\":0,\"parch\":0,\"fare\":33.0,\"class\":\"Second\",\"deck\":\"unknown\",\"embark_town\":\"Southampton\",\"alone\":\"y\"},{\"survived\":0,\"sex\":\"male\",\"age\":49.0,\"n_siblings_spouses\":0,\"parch\":0,\"fare\":0.0,\"class\":\"Third\",\"deck\":\"unknown\",\"embark_town\":\"Southampton\",\"alone\":\"y\"},{\"survived\":0,\"sex\":\"male\",\"age\":28.0,\"n_siblings_spouses\":0,\"parch\":0,\"fare\":7.225,\"class\":\"Third\",\"deck\":\"unknown\",\"embark_town\":\"Cherbourg\",\"alone\":\"y\"},{\"survived\":1,\"sex\":\"male\",\"age\":49.0,\"n_siblings_spouses\":1,\"parch\":0,\"fare\":56.9292,\"class\":\"First\",\"deck\":\"A\",\"embark_town\":\"Cherbourg\",\"alone\":\"n\"},{\"survived\":1,\"sex\":\"male\",\"age\":35.0,\"n_siblings_spouses\":0,\"parch\":0,\"fare\":26.55,\"class\":\"First\",\"deck\":\"unknown\",\"embark_town\":\"Cherbourg\",\"alone\":\"y\"},{\"survived\":0,\"sex\":\"male\",\"age\":36.0,\"n_siblings_spouses\":1,\"parch\":0,\"fare\":15.55,\"class\":\"Third\",\"deck\":\"unknown\",\"embark_town\":\"Southampton\",\"alone\":\"n\"},{\"survived\":0,\"sex\":\"male\",\"age\":30.0,\"n_siblings_spouses\":0,\"parch\":0,\"fare\":7.8958,\"class\":\"Third\",\"deck\":\"unknown\",\"embark_town\":\"Southampton\",\"alone\":\"y\"},{\"survived\":1,\"sex\":\"male\",\"age\":27.0,\"n_siblings_spouses\":0,\"parch\":0,\"fare\":30.5,\"class\":\"First\",\"deck\":\"unknown\",\"embark_town\":\"Southampton\",\"alone\":\"y\"},{\"survived\":1,\"sex\":\"female\",\"age\":22.0,\"n_siblings_spouses\":1,\"parch\":2,\"fare\":41.5792,\"class\":\"Second\",\"deck\":\"unknown\",\"embark_town\":\"Cherbourg\",\"alone\":\"n\"},{\"survived\":1,\"sex\":\"female\",\"age\":40.0,\"n_siblings_spouses\":0,\"parch\":0,\"fare\":153.4625,\"class\":\"First\",\"deck\":\"C\",\"embark_town\":\"Southampton\",\"alone\":\"y\"},{\"survived\":0,\"sex\":\"female\",\"age\":39.0,\"n_siblings_spouses\":1,\"parch\":5,\"fare\":31.275,\"class\":\"Third\",\"deck\":\"unknown\",\"embark_town\":\"Southampton\",\"alone\":\"n\"},{\"survived\":0,\"sex\":\"male\",\"age\":28.0,\"n_siblings_spouses\":0,\"parch\":0,\"fare\":7.05,\"class\":\"Third\",\"deck\":\"unknown\",\"embark_town\":\"Southampton\",\"alone\":\"y\"},{\"survived\":1,\"sex\":\"female\",\"age\":28.0,\"n_siblings_spouses\":1,\"parch\":0,\"fare\":15.5,\"class\":\"Third\",\"deck\":\"unknown\",\"embark_town\":\"Queenstown\",\"alone\":\"n\"},{\"survived\":0,\"sex\":\"male\",\"age\":35.0,\"n_siblings_spouses\":0,\"parch\":0,\"fare\":8.05,\"class\":\"Third\",\"deck\":\"unknown\",\"embark_town\":\"Southampton\",\"alone\":\"y\"},{\"survived\":1,\"sex\":\"female\",\"age\":24.0,\"n_siblings_spouses\":1,\"parch\":2,\"fare\":65.0,\"class\":\"Second\",\"deck\":\"unknown\",\"embark_town\":\"Southampton\",\"alone\":\"n\"},{\"survived\":0,\"sex\":\"male\",\"age\":34.0,\"n_siblings_spouses\":1,\"parch\":1,\"fare\":14.4,\"class\":\"Third\",\"deck\":\"unknown\",\"embark_town\":\"Southampton\",\"alone\":\"n\"},{\"survived\":0,\"sex\":\"male\",\"age\":26.0,\"n_siblings_spouses\":0,\"parch\":0,\"fare\":10.5,\"class\":\"Second\",\"deck\":\"unknown\",\"embark_town\":\"Southampton\",\"alone\":\"y\"},{\"survived\":1,\"sex\":\"male\",\"age\":20.0,\"n_siblings_spouses\":1,\"parch\":1,\"fare\":15.7417,\"class\":\"Third\",\"deck\":\"unknown\",\"embark_town\":\"Cherbourg\",\"alone\":\"n\"},{\"survived\":0,\"sex\":\"male\",\"age\":61.0,\"n_siblings_spouses\":0,\"parch\":0,\"fare\":32.3208,\"class\":\"First\",\"deck\":\"D\",\"embark_town\":\"Southampton\",\"alone\":\"y\"},{\"survived\":0,\"sex\":\"male\",\"age\":57.0,\"n_siblings_spouses\":0,\"parch\":0,\"fare\":12.35,\"class\":\"Second\",\"deck\":\"unknown\",\"embark_town\":\"Queenstown\",\"alone\":\"y\"},{\"survived\":1,\"sex\":\"female\",\"age\":21.0,\"n_siblings_spouses\":0,\"parch\":0,\"fare\":77.9583,\"class\":\"First\",\"deck\":\"D\",\"embark_town\":\"Southampton\",\"alone\":\"y\"},{\"survived\":0,\"sex\":\"male\",\"age\":26.0,\"n_siblings_spouses\":0,\"parch\":0,\"fare\":7.8958,\"class\":\"Third\",\"deck\":\"unknown\",\"embark_town\":\"Southampton\",\"alone\":\"y\"},{\"survived\":0,\"sex\":\"male\",\"age\":28.0,\"n_siblings_spouses\":0,\"parch\":0,\"fare\":7.7333,\"class\":\"Third\",\"deck\":\"unknown\",\"embark_town\":\"Queenstown\",\"alone\":\"y\"},{\"survived\":1,\"sex\":\"male\",\"age\":80.0,\"n_siblings_spouses\":0,\"parch\":0,\"fare\":30.0,\"class\":\"First\",\"deck\":\"A\",\"embark_town\":\"Southampton\",\"alone\":\"y\"},{\"survived\":0,\"sex\":\"male\",\"age\":51.0,\"n_siblings_spouses\":0,\"parch\":0,\"fare\":7.0542,\"class\":\"Third\",\"deck\":\"unknown\",\"embark_town\":\"Southampton\",\"alone\":\"y\"},{\"survived\":1,\"sex\":\"male\",\"age\":32.0,\"n_siblings_spouses\":0,\"parch\":0,\"fare\":30.5,\"class\":\"First\",\"deck\":\"B\",\"embark_town\":\"Cherbourg\",\"alone\":\"y\"},{\"survived\":0,\"sex\":\"female\",\"age\":9.0,\"n_siblings_spouses\":3,\"parch\":2,\"fare\":27.9,\"class\":\"Third\",\"deck\":\"unknown\",\"embark_town\":\"Southampton\",\"alone\":\"n\"},{\"survived\":1,\"sex\":\"female\",\"age\":28.0,\"n_siblings_spouses\":0,\"parch\":0,\"fare\":13.0,\"class\":\"Second\",\"deck\":\"unknown\",\"embark_town\":\"Southampton\",\"alone\":\"y\"},{\"survived\":0,\"sex\":\"male\",\"age\":32.0,\"n_siblings_spouses\":0,\"parch\":0,\"fare\":7.925,\"class\":\"Third\",\"deck\":\"unknown\",\"embark_town\":\"Southampton\",\"alone\":\"y\"},{\"survived\":0,\"sex\":\"female\",\"age\":41.0,\"n_siblings_spouses\":0,\"parch\":5,\"fare\":39.6875,\"class\":\"Third\",\"deck\":\"unknown\",\"embark_town\":\"Southampton\",\"alone\":\"n\"},{\"survived\":0,\"sex\":\"male\",\"age\":28.0,\"n_siblings_spouses\":1,\"parch\":0,\"fare\":16.1,\"class\":\"Third\",\"deck\":\"unknown\",\"embark_town\":\"Southampton\",\"alone\":\"n\"},{\"survived\":0,\"sex\":\"male\",\"age\":20.0,\"n_siblings_spouses\":0,\"parch\":0,\"fare\":7.8542,\"class\":\"Third\",\"deck\":\"unknown\",\"embark_town\":\"Southampton\",\"alone\":\"y\"},{\"survived\":1,\"sex\":\"male\",\"age\":28.0,\"n_siblings_spouses\":0,\"parch\":0,\"fare\":56.4958,\"class\":\"Third\",\"deck\":\"unknown\",\"embark_town\":\"Southampton\",\"alone\":\"y\"},{\"survived\":1,\"sex\":\"female\",\"age\":0.75,\"n_siblings_spouses\":2,\"parch\":1,\"fare\":19.2583,\"class\":\"Third\",\"deck\":\"unknown\",\"embark_town\":\"Cherbourg\",\"alone\":\"n\"},{\"survived\":1,\"sex\":\"male\",\"age\":48.0,\"n_siblings_spouses\":1,\"parch\":0,\"fare\":76.7292,\"class\":\"First\",\"deck\":\"D\",\"embark_town\":\"Cherbourg\",\"alone\":\"n\"},{\"survived\":0,\"sex\":\"male\",\"age\":28.0,\"n_siblings_spouses\":0,\"parch\":0,\"fare\":7.55,\"class\":\"Third\",\"deck\":\"unknown\",\"embark_town\":\"Southampton\",\"alone\":\"y\"},{\"survived\":1,\"sex\":\"female\",\"age\":23.0,\"n_siblings_spouses\":0,\"parch\":0,\"fare\":7.55,\"class\":\"Third\",\"deck\":\"unknown\",\"embark_town\":\"Southampton\",\"alone\":\"y\"},{\"survived\":0,\"sex\":\"male\",\"age\":28.0,\"n_siblings_spouses\":0,\"parch\":0,\"fare\":7.8958,\"class\":\"Third\",\"deck\":\"unknown\",\"embark_town\":\"Southampton\",\"alone\":\"y\"},{\"survived\":1,\"sex\":\"female\",\"age\":18.0,\"n_siblings_spouses\":0,\"parch\":1,\"fare\":23.0,\"class\":\"Second\",\"deck\":\"unknown\",\"embark_town\":\"Southampton\",\"alone\":\"n\"},{\"survived\":0,\"sex\":\"male\",\"age\":21.0,\"n_siblings_spouses\":0,\"parch\":0,\"fare\":8.4333,\"class\":\"Third\",\"deck\":\"unknown\",\"embark_town\":\"Southampton\",\"alone\":\"y\"},{\"survived\":0,\"sex\":\"male\",\"age\":24.0,\"n_siblings_spouses\":2,\"parch\":0,\"fare\":73.5,\"class\":\"Second\",\"deck\":\"unknown\",\"embark_town\":\"Southampton\",\"alone\":\"n\"},{\"survived\":0,\"sex\":\"male\",\"age\":28.0,\"n_siblings_spouses\":0,\"parch\":0,\"fare\":7.8958,\"class\":\"Third\",\"deck\":\"unknown\",\"embark_town\":\"Southampton\",\"alone\":\"y\"},{\"survived\":0,\"sex\":\"female\",\"age\":32.0,\"n_siblings_spouses\":1,\"parch\":1,\"fare\":15.5,\"class\":\"Third\",\"deck\":\"unknown\",\"embark_town\":\"Queenstown\",\"alone\":\"n\"},{\"survived\":1,\"sex\":\"male\",\"age\":50.0,\"n_siblings_spouses\":2,\"parch\":0,\"fare\":133.65,\"class\":\"First\",\"deck\":\"unknown\",\"embark_town\":\"Southampton\",\"alone\":\"n\"},{\"survived\":0,\"sex\":\"male\",\"age\":47.0,\"n_siblings_spouses\":0,\"parch\":0,\"fare\":25.5875,\"class\":\"First\",\"deck\":\"E\",\"embark_town\":\"Southampton\",\"alone\":\"y\"},{\"survived\":0,\"sex\":\"male\",\"age\":36.0,\"n_siblings_spouses\":0,\"parch\":0,\"fare\":7.4958,\"class\":\"Third\",\"deck\":\"unknown\",\"embark_town\":\"Southampton\",\"alone\":\"y\"},{\"survived\":1,\"sex\":\"male\",\"age\":20.0,\"n_siblings_spouses\":1,\"parch\":0,\"fare\":7.925,\"class\":\"Third\",\"deck\":\"unknown\",\"embark_town\":\"Southampton\",\"alone\":\"n\"},{\"survived\":0,\"sex\":\"male\",\"age\":25.0,\"n_siblings_spouses\":0,\"parch\":0,\"fare\":13.0,\"class\":\"Second\",\"deck\":\"unknown\",\"embark_town\":\"Southampton\",\"alone\":\"y\"},{\"survived\":0,\"sex\":\"male\",\"age\":28.0,\"n_siblings_spouses\":0,\"parch\":0,\"fare\":7.775,\"class\":\"Third\",\"deck\":\"unknown\",\"embark_town\":\"Southampton\",\"alone\":\"y\"},{\"survived\":0,\"sex\":\"male\",\"age\":43.0,\"n_siblings_spouses\":0,\"parch\":0,\"fare\":8.05,\"class\":\"Third\",\"deck\":\"unknown\",\"embark_town\":\"Southampton\",\"alone\":\"y\"},{\"survived\":1,\"sex\":\"female\",\"age\":40.0,\"n_siblings_spouses\":1,\"parch\":1,\"fare\":39.0,\"class\":\"Second\",\"deck\":\"unknown\",\"embark_town\":\"Southampton\",\"alone\":\"n\"},{\"survived\":0,\"sex\":\"male\",\"age\":31.0,\"n_siblings_spouses\":1,\"parch\":0,\"fare\":52.0,\"class\":\"First\",\"deck\":\"B\",\"embark_town\":\"Southampton\",\"alone\":\"n\"},{\"survived\":1,\"sex\":\"male\",\"age\":31.0,\"n_siblings_spouses\":0,\"parch\":0,\"fare\":13.0,\"class\":\"Second\",\"deck\":\"unknown\",\"embark_town\":\"Southampton\",\"alone\":\"y\"},{\"survived\":0,\"sex\":\"male\",\"age\":28.0,\"n_siblings_spouses\":0,\"parch\":0,\"fare\":0.0,\"class\":\"Second\",\"deck\":\"unknown\",\"embark_town\":\"Southampton\",\"alone\":\"y\"},{\"survived\":0,\"sex\":\"male\",\"age\":18.0,\"n_siblings_spouses\":0,\"parch\":0,\"fare\":7.775,\"class\":\"Third\",\"deck\":\"unknown\",\"embark_town\":\"Southampton\",\"alone\":\"y\"},{\"survived\":1,\"sex\":\"female\",\"age\":18.0,\"n_siblings_spouses\":0,\"parch\":0,\"fare\":9.8417,\"class\":\"Third\",\"deck\":\"unknown\",\"embark_town\":\"Southampton\",\"alone\":\"y\"},{\"survived\":1,\"sex\":\"male\",\"age\":36.0,\"n_siblings_spouses\":0,\"parch\":1,\"fare\":512.3292,\"class\":\"First\",\"deck\":\"B\",\"embark_town\":\"Cherbourg\",\"alone\":\"n\"},{\"survived\":1,\"sex\":\"male\",\"age\":27.0,\"n_siblings_spouses\":0,\"parch\":0,\"fare\":76.7292,\"class\":\"First\",\"deck\":\"D\",\"embark_town\":\"Cherbourg\",\"alone\":\"y\"},{\"survived\":0,\"sex\":\"male\",\"age\":20.0,\"n_siblings_spouses\":0,\"parch\":0,\"fare\":9.225,\"class\":\"Third\",\"deck\":\"unknown\",\"embark_town\":\"Southampton\",\"alone\":\"y\"},{\"survived\":0,\"sex\":\"male\",\"age\":14.0,\"n_siblings_spouses\":5,\"parch\":2,\"fare\":46.9,\"class\":\"Third\",\"deck\":\"unknown\",\"embark_town\":\"Southampton\",\"alone\":\"n\"},{\"survived\":0,\"sex\":\"male\",\"age\":60.0,\"n_siblings_spouses\":1,\"parch\":1,\"fare\":39.0,\"class\":\"Second\",\"deck\":\"unknown\",\"embark_town\":\"Southampton\",\"alone\":\"n\"},{\"survived\":0,\"sex\":\"male\",\"age\":19.0,\"n_siblings_spouses\":0,\"parch\":0,\"fare\":10.1708,\"class\":\"Third\",\"deck\":\"unknown\",\"embark_town\":\"Southampton\",\"alone\":\"y\"},{\"survived\":0,\"sex\":\"male\",\"age\":18.0,\"n_siblings_spouses\":0,\"parch\":0,\"fare\":7.7958,\"class\":\"Third\",\"deck\":\"unknown\",\"embark_town\":\"Southampton\",\"alone\":\"y\"},{\"survived\":1,\"sex\":\"female\",\"age\":15.0,\"n_siblings_spouses\":0,\"parch\":1,\"fare\":211.3375,\"class\":\"First\",\"deck\":\"B\",\"embark_town\":\"Southampton\",\"alone\":\"n\"},{\"survived\":1,\"sex\":\"male\",\"age\":31.0,\"n_siblings_spouses\":1,\"parch\":0,\"fare\":57.0,\"class\":\"First\",\"deck\":\"B\",\"embark_town\":\"Southampton\",\"alone\":\"n\"},{\"survived\":1,\"sex\":\"female\",\"age\":4.0,\"n_siblings_spouses\":0,\"parch\":1,\"fare\":13.4167,\"class\":\"Third\",\"deck\":\"unknown\",\"embark_town\":\"Cherbourg\",\"alone\":\"n\"},{\"survived\":1,\"sex\":\"male\",\"age\":28.0,\"n_siblings_spouses\":0,\"parch\":0,\"fare\":56.4958,\"class\":\"Third\",\"deck\":\"unknown\",\"embark_town\":\"Southampton\",\"alone\":\"y\"},{\"survived\":0,\"sex\":\"male\",\"age\":60.0,\"n_siblings_spouses\":0,\"parch\":0,\"fare\":26.55,\"class\":\"First\",\"deck\":\"unknown\",\"embark_town\":\"Southampton\",\"alone\":\"y\"},{\"survived\":1,\"sex\":\"female\",\"age\":28.0,\"n_siblings_spouses\":0,\"parch\":0,\"fare\":7.7333,\"class\":\"Third\",\"deck\":\"unknown\",\"embark_town\":\"Queenstown\",\"alone\":\"y\"},{\"survived\":0,\"sex\":\"male\",\"age\":49.0,\"n_siblings_spouses\":1,\"parch\":1,\"fare\":110.8833,\"class\":\"First\",\"deck\":\"C\",\"embark_town\":\"Cherbourg\",\"alone\":\"n\"},{\"survived\":1,\"sex\":\"male\",\"age\":35.0,\"n_siblings_spouses\":0,\"parch\":0,\"fare\":26.2875,\"class\":\"First\",\"deck\":\"E\",\"embark_town\":\"Southampton\",\"alone\":\"y\"},{\"survived\":0,\"sex\":\"male\",\"age\":25.0,\"n_siblings_spouses\":0,\"parch\":0,\"fare\":7.7417,\"class\":\"Third\",\"deck\":\"unknown\",\"embark_town\":\"Queenstown\",\"alone\":\"y\"},{\"survived\":0,\"sex\":\"male\",\"age\":39.0,\"n_siblings_spouses\":0,\"parch\":0,\"fare\":26.0,\"class\":\"Second\",\"deck\":\"unknown\",\"embark_town\":\"Southampton\",\"alone\":\"y\"},{\"survived\":1,\"sex\":\"female\",\"age\":22.0,\"n_siblings_spouses\":0,\"parch\":0,\"fare\":151.55,\"class\":\"First\",\"deck\":\"unknown\",\"embark_town\":\"Southampton\",\"alone\":\"y\"},{\"survived\":1,\"sex\":\"male\",\"age\":28.0,\"n_siblings_spouses\":1,\"parch\":1,\"fare\":15.2458,\"class\":\"Third\",\"deck\":\"unknown\",\"embark_town\":\"Cherbourg\",\"alone\":\"n\"},{\"survived\":1,\"sex\":\"female\",\"age\":24.0,\"n_siblings_spouses\":0,\"parch\":0,\"fare\":49.5042,\"class\":\"First\",\"deck\":\"C\",\"embark_town\":\"Cherbourg\",\"alone\":\"y\"},{\"survived\":0,\"sex\":\"male\",\"age\":28.0,\"n_siblings_spouses\":0,\"parch\":0,\"fare\":26.55,\"class\":\"First\",\"deck\":\"C\",\"embark_town\":\"Southampton\",\"alone\":\"y\"},{\"survived\":1,\"sex\":\"male\",\"age\":48.0,\"n_siblings_spouses\":1,\"parch\":0,\"fare\":52.0,\"class\":\"First\",\"deck\":\"C\",\"embark_town\":\"Southampton\",\"alone\":\"n\"},{\"survived\":0,\"sex\":\"male\",\"age\":29.0,\"n_siblings_spouses\":0,\"parch\":0,\"fare\":9.4833,\"class\":\"Third\",\"deck\":\"unknown\",\"embark_town\":\"Southampton\",\"alone\":\"y\"},{\"survived\":0,\"sex\":\"male\",\"age\":19.0,\"n_siblings_spouses\":0,\"parch\":0,\"fare\":7.65,\"class\":\"Third\",\"deck\":\"F\",\"embark_town\":\"Southampton\",\"alone\":\"y\"},{\"survived\":1,\"sex\":\"female\",\"age\":38.0,\"n_siblings_spouses\":0,\"parch\":0,\"fare\":227.525,\"class\":\"First\",\"deck\":\"C\",\"embark_town\":\"Cherbourg\",\"alone\":\"y\"},{\"survived\":1,\"sex\":\"female\",\"age\":27.0,\"n_siblings_spouses\":0,\"parch\":0,\"fare\":10.5,\"class\":\"Second\",\"deck\":\"E\",\"embark_town\":\"Southampton\",\"alone\":\"y\"},{\"survived\":0,\"sex\":\"male\",\"age\":28.0,\"n_siblings_spouses\":0,\"parch\":0,\"fare\":15.5,\"class\":\"Third\",\"deck\":\"unknown\",\"embark_town\":\"Queenstown\",\"alone\":\"y\"},{\"survived\":0,\"sex\":\"male\",\"age\":33.0,\"n_siblings_spouses\":0,\"parch\":0,\"fare\":7.775,\"class\":\"Third\",\"deck\":\"unknown\",\"embark_town\":\"Southampton\",\"alone\":\"y\"},{\"survived\":1,\"sex\":\"female\",\"age\":6.0,\"n_siblings_spouses\":0,\"parch\":1,\"fare\":33.0,\"class\":\"Second\",\"deck\":\"unknown\",\"embark_town\":\"Southampton\",\"alone\":\"n\"},{\"survived\":0,\"sex\":\"male\",\"age\":50.0,\"n_siblings_spouses\":0,\"parch\":0,\"fare\":13.0,\"class\":\"Second\",\"deck\":\"unknown\",\"embark_town\":\"Southampton\",\"alone\":\"y\"},{\"survived\":1,\"sex\":\"male\",\"age\":27.0,\"n_siblings_spouses\":1,\"parch\":0,\"fare\":53.1,\"class\":\"First\",\"deck\":\"E\",\"embark_town\":\"Southampton\",\"alone\":\"n\"},{\"survived\":1,\"sex\":\"female\",\"age\":30.0,\"n_siblings_spouses\":3,\"parch\":0,\"fare\":21.0,\"class\":\"Second\",\"deck\":\"unknown\",\"embark_town\":\"Southampton\",\"alone\":\"n\"},{\"survived\":0,\"sex\":\"male\",\"age\":25.0,\"n_siblings_spouses\":1,\"parch\":0,\"fare\":26.0,\"class\":\"Second\",\"deck\":\"unknown\",\"embark_town\":\"Southampton\",\"alone\":\"n\"},{\"survived\":0,\"sex\":\"female\",\"age\":25.0,\"n_siblings_spouses\":1,\"parch\":0,\"fare\":7.925,\"class\":\"Third\",\"deck\":\"unknown\",\"embark_town\":\"Southampton\",\"alone\":\"n\"},{\"survived\":1,\"sex\":\"female\",\"age\":29.0,\"n_siblings_spouses\":0,\"parch\":0,\"fare\":211.3375,\"class\":\"First\",\"deck\":\"B\",\"embark_town\":\"Southampton\",\"alone\":\"y\"},{\"survived\":0,\"sex\":\"male\",\"age\":11.0,\"n_siblings_spouses\":0,\"parch\":0,\"fare\":18.7875,\"class\":\"Third\",\"deck\":\"unknown\",\"embark_town\":\"Cherbourg\",\"alone\":\"y\"},{\"survived\":0,\"sex\":\"male\",\"age\":28.0,\"n_siblings_spouses\":0,\"parch\":0,\"fare\":0.0,\"class\":\"Second\",\"deck\":\"unknown\",\"embark_town\":\"Southampton\",\"alone\":\"y\"},{\"survived\":0,\"sex\":\"male\",\"age\":23.0,\"n_siblings_spouses\":0,\"parch\":0,\"fare\":13.0,\"class\":\"Second\",\"deck\":\"unknown\",\"embark_town\":\"Southampton\",\"alone\":\"y\"},{\"survived\":0,\"sex\":\"male\",\"age\":23.0,\"n_siblings_spouses\":0,\"parch\":0,\"fare\":13.0,\"class\":\"Second\",\"deck\":\"unknown\",\"embark_town\":\"Southampton\",\"alone\":\"y\"},{\"survived\":1,\"sex\":\"male\",\"age\":35.0,\"n_siblings_spouses\":0,\"parch\":0,\"fare\":512.3292,\"class\":\"First\",\"deck\":\"B\",\"embark_town\":\"Cherbourg\",\"alone\":\"y\"},{\"survived\":0,\"sex\":\"male\",\"age\":28.0,\"n_siblings_spouses\":0,\"parch\":0,\"fare\":7.8958,\"class\":\"Third\",\"deck\":\"unknown\",\"embark_town\":\"Southampton\",\"alone\":\"y\"},{\"survived\":0,\"sex\":\"male\",\"age\":28.0,\"n_siblings_spouses\":0,\"parch\":0,\"fare\":7.8958,\"class\":\"Third\",\"deck\":\"unknown\",\"embark_town\":\"Southampton\",\"alone\":\"y\"},{\"survived\":0,\"sex\":\"male\",\"age\":36.0,\"n_siblings_spouses\":1,\"parch\":0,\"fare\":78.85,\"class\":\"First\",\"deck\":\"C\",\"embark_town\":\"Southampton\",\"alone\":\"n\"},{\"survived\":1,\"sex\":\"female\",\"age\":21.0,\"n_siblings_spouses\":2,\"parch\":2,\"fare\":262.375,\"class\":\"First\",\"deck\":\"B\",\"embark_town\":\"Cherbourg\",\"alone\":\"n\"},{\"survived\":0,\"sex\":\"male\",\"age\":24.0,\"n_siblings_spouses\":1,\"parch\":0,\"fare\":16.1,\"class\":\"Third\",\"deck\":\"unknown\",\"embark_town\":\"Southampton\",\"alone\":\"n\"},{\"survived\":0,\"sex\":\"male\",\"age\":70.0,\"n_siblings_spouses\":1,\"parch\":1,\"fare\":71.0,\"class\":\"First\",\"deck\":\"B\",\"embark_town\":\"Southampton\",\"alone\":\"n\"},{\"survived\":1,\"sex\":\"female\",\"age\":4.0,\"n_siblings_spouses\":1,\"parch\":1,\"fare\":23.0,\"class\":\"Second\",\"deck\":\"unknown\",\"embark_town\":\"Southampton\",\"alone\":\"n\"},{\"survived\":1,\"sex\":\"male\",\"age\":6.0,\"n_siblings_spouses\":0,\"parch\":1,\"fare\":12.475,\"class\":\"Third\",\"deck\":\"E\",\"embark_town\":\"Southampton\",\"alone\":\"n\"},{\"survived\":0,\"sex\":\"male\",\"age\":33.0,\"n_siblings_spouses\":0,\"parch\":0,\"fare\":9.5,\"class\":\"Third\",\"deck\":\"unknown\",\"embark_town\":\"Southampton\",\"alone\":\"y\"},{\"survived\":0,\"sex\":\"male\",\"age\":23.0,\"n_siblings_spouses\":0,\"parch\":0,\"fare\":7.8958,\"class\":\"Third\",\"deck\":\"unknown\",\"embark_town\":\"Southampton\",\"alone\":\"y\"},{\"survived\":1,\"sex\":\"female\",\"age\":48.0,\"n_siblings_spouses\":1,\"parch\":2,\"fare\":65.0,\"class\":\"Second\",\"deck\":\"unknown\",\"embark_town\":\"Southampton\",\"alone\":\"n\"},{\"survived\":0,\"sex\":\"male\",\"age\":28.0,\"n_siblings_spouses\":0,\"parch\":0,\"fare\":7.7958,\"class\":\"Third\",\"deck\":\"unknown\",\"embark_town\":\"Southampton\",\"alone\":\"y\"},{\"survived\":0,\"sex\":\"male\",\"age\":34.0,\"n_siblings_spouses\":0,\"parch\":0,\"fare\":8.05,\"class\":\"Third\",\"deck\":\"unknown\",\"embark_town\":\"Southampton\",\"alone\":\"y\"},{\"survived\":0,\"sex\":\"male\",\"age\":28.0,\"n_siblings_spouses\":0,\"parch\":0,\"fare\":14.5,\"class\":\"Third\",\"deck\":\"unknown\",\"embark_town\":\"Southampton\",\"alone\":\"y\"},{\"survived\":0,\"sex\":\"male\",\"age\":41.0,\"n_siblings_spouses\":0,\"parch\":0,\"fare\":7.125,\"class\":\"Third\",\"deck\":\"unknown\",\"embark_town\":\"Southampton\",\"alone\":\"y\"},{\"survived\":1,\"sex\":\"male\",\"age\":20.0,\"n_siblings_spouses\":0,\"parch\":0,\"fare\":7.2292,\"class\":\"Third\",\"deck\":\"unknown\",\"embark_town\":\"Cherbourg\",\"alone\":\"y\"},{\"survived\":1,\"sex\":\"female\",\"age\":51.0,\"n_siblings_spouses\":1,\"parch\":0,\"fare\":77.9583,\"class\":\"First\",\"deck\":\"D\",\"embark_town\":\"Southampton\",\"alone\":\"n\"},{\"survived\":0,\"sex\":\"male\",\"age\":28.0,\"n_siblings_spouses\":0,\"parch\":0,\"fare\":39.6,\"class\":\"First\",\"deck\":\"unknown\",\"embark_town\":\"Cherbourg\",\"alone\":\"y\"},{\"survived\":0,\"sex\":\"male\",\"age\":28.0,\"n_siblings_spouses\":1,\"parch\":0,\"fare\":24.15,\"class\":\"Third\",\"deck\":\"unknown\",\"embark_town\":\"Queenstown\",\"alone\":\"n\"},{\"survived\":0,\"sex\":\"male\",\"age\":32.0,\"n_siblings_spouses\":0,\"parch\":0,\"fare\":8.3625,\"class\":\"Third\",\"deck\":\"unknown\",\"embark_town\":\"Southampton\",\"alone\":\"y\"},{\"survived\":0,\"sex\":\"male\",\"age\":48.0,\"n_siblings_spouses\":0,\"parch\":0,\"fare\":7.8542,\"class\":\"Third\",\"deck\":\"unknown\",\"embark_town\":\"Southampton\",\"alone\":\"y\"},{\"survived\":0,\"sex\":\"female\",\"age\":57.0,\"n_siblings_spouses\":0,\"parch\":0,\"fare\":10.5,\"class\":\"Second\",\"deck\":\"E\",\"embark_town\":\"Southampton\",\"alone\":\"y\"},{\"survived\":0,\"sex\":\"male\",\"age\":18.0,\"n_siblings_spouses\":0,\"parch\":0,\"fare\":7.75,\"class\":\"Third\",\"deck\":\"unknown\",\"embark_town\":\"Southampton\",\"alone\":\"y\"},{\"survived\":0,\"sex\":\"male\",\"age\":28.0,\"n_siblings_spouses\":0,\"parch\":0,\"fare\":7.75,\"class\":\"Third\",\"deck\":\"F\",\"embark_town\":\"Queenstown\",\"alone\":\"y\"},{\"survived\":1,\"sex\":\"female\",\"age\":5.0,\"n_siblings_spouses\":0,\"parch\":0,\"fare\":12.475,\"class\":\"Third\",\"deck\":\"unknown\",\"embark_town\":\"Southampton\",\"alone\":\"y\"},{\"survived\":1,\"sex\":\"female\",\"age\":17.0,\"n_siblings_spouses\":1,\"parch\":0,\"fare\":57.0,\"class\":\"First\",\"deck\":\"B\",\"embark_town\":\"Southampton\",\"alone\":\"n\"},{\"survived\":0,\"sex\":\"male\",\"age\":29.0,\"n_siblings_spouses\":0,\"parch\":0,\"fare\":30.0,\"class\":\"First\",\"deck\":\"D\",\"embark_town\":\"Southampton\",\"alone\":\"y\"},{\"survived\":0,\"sex\":\"male\",\"age\":28.0,\"n_siblings_spouses\":1,\"parch\":2,\"fare\":23.45,\"class\":\"Third\",\"deck\":\"unknown\",\"embark_town\":\"Southampton\",\"alone\":\"n\"},{\"survived\":0,\"sex\":\"male\",\"age\":25.0,\"n_siblings_spouses\":0,\"parch\":0,\"fare\":7.05,\"class\":\"Third\",\"deck\":\"unknown\",\"embark_town\":\"Southampton\",\"alone\":\"y\"},{\"survived\":1,\"sex\":\"male\",\"age\":1.0,\"n_siblings_spouses\":1,\"parch\":2,\"fare\":20.575,\"class\":\"Third\",\"deck\":\"unknown\",\"embark_town\":\"Southampton\",\"alone\":\"n\"},{\"survived\":0,\"sex\":\"male\",\"age\":46.0,\"n_siblings_spouses\":0,\"parch\":0,\"fare\":79.2,\"class\":\"First\",\"deck\":\"B\",\"embark_town\":\"Cherbourg\",\"alone\":\"y\"},{\"survived\":0,\"sex\":\"male\",\"age\":28.0,\"n_siblings_spouses\":0,\"parch\":0,\"fare\":7.75,\"class\":\"Third\",\"deck\":\"unknown\",\"embark_town\":\"Queenstown\",\"alone\":\"y\"},{\"survived\":0,\"sex\":\"male\",\"age\":16.0,\"n_siblings_spouses\":0,\"parch\":0,\"fare\":26.0,\"class\":\"Second\",\"deck\":\"unknown\",\"embark_town\":\"Southampton\",\"alone\":\"y\"},{\"survived\":0,\"sex\":\"female\",\"age\":28.0,\"n_siblings_spouses\":8,\"parch\":2,\"fare\":69.55,\"class\":\"Third\",\"deck\":\"unknown\",\"embark_town\":\"Southampton\",\"alone\":\"n\"},{\"survived\":0,\"sex\":\"male\",\"age\":28.0,\"n_siblings_spouses\":0,\"parch\":0,\"fare\":30.6958,\"class\":\"First\",\"deck\":\"unknown\",\"embark_town\":\"Cherbourg\",\"alone\":\"y\"},{\"survived\":0,\"sex\":\"male\",\"age\":25.0,\"n_siblings_spouses\":0,\"parch\":0,\"fare\":7.8958,\"class\":\"Third\",\"deck\":\"unknown\",\"embark_town\":\"Southampton\",\"alone\":\"y\"},{\"survived\":0,\"sex\":\"male\",\"age\":39.0,\"n_siblings_spouses\":0,\"parch\":0,\"fare\":13.0,\"class\":\"Second\",\"deck\":\"unknown\",\"embark_town\":\"Southampton\",\"alone\":\"y\"},{\"survived\":1,\"sex\":\"female\",\"age\":49.0,\"n_siblings_spouses\":0,\"parch\":0,\"fare\":25.9292,\"class\":\"First\",\"deck\":\"D\",\"embark_town\":\"Southampton\",\"alone\":\"y\"},{\"survived\":1,\"sex\":\"female\",\"age\":31.0,\"n_siblings_spouses\":0,\"parch\":0,\"fare\":8.6833,\"class\":\"Third\",\"deck\":\"unknown\",\"embark_town\":\"Southampton\",\"alone\":\"y\"},{\"survived\":0,\"sex\":\"male\",\"age\":30.0,\"n_siblings_spouses\":0,\"parch\":0,\"fare\":7.2292,\"class\":\"Third\",\"deck\":\"unknown\",\"embark_town\":\"Cherbourg\",\"alone\":\"y\"},{\"survived\":0,\"sex\":\"female\",\"age\":30.0,\"n_siblings_spouses\":1,\"parch\":1,\"fare\":24.15,\"class\":\"Third\",\"deck\":\"unknown\",\"embark_town\":\"Southampton\",\"alone\":\"n\"},{\"survived\":0,\"sex\":\"male\",\"age\":34.0,\"n_siblings_spouses\":0,\"parch\":0,\"fare\":13.0,\"class\":\"Second\",\"deck\":\"unknown\",\"embark_town\":\"Southampton\",\"alone\":\"y\"},{\"survived\":1,\"sex\":\"female\",\"age\":31.0,\"n_siblings_spouses\":1,\"parch\":1,\"fare\":26.25,\"class\":\"Second\",\"deck\":\"unknown\",\"embark_town\":\"Southampton\",\"alone\":\"n\"},{\"survived\":1,\"sex\":\"male\",\"age\":11.0,\"n_siblings_spouses\":1,\"parch\":2,\"fare\":120.0,\"class\":\"First\",\"deck\":\"B\",\"embark_town\":\"Southampton\",\"alone\":\"n\"},{\"survived\":0,\"sex\":\"male\",\"age\":31.0,\"n_siblings_spouses\":0,\"parch\":0,\"fare\":7.775,\"class\":\"Third\",\"deck\":\"unknown\",\"embark_town\":\"Southampton\",\"alone\":\"y\"},{\"survived\":0,\"sex\":\"male\",\"age\":39.0,\"n_siblings_spouses\":0,\"parch\":0,\"fare\":0.0,\"class\":\"First\",\"deck\":\"A\",\"embark_town\":\"Southampton\",\"alone\":\"y\"},{\"survived\":0,\"sex\":\"male\",\"age\":39.0,\"n_siblings_spouses\":0,\"parch\":0,\"fare\":13.0,\"class\":\"Second\",\"deck\":\"unknown\",\"embark_town\":\"Southampton\",\"alone\":\"y\"},{\"survived\":1,\"sex\":\"female\",\"age\":33.0,\"n_siblings_spouses\":1,\"parch\":0,\"fare\":53.1,\"class\":\"First\",\"deck\":\"E\",\"embark_town\":\"Southampton\",\"alone\":\"n\"},{\"survived\":0,\"sex\":\"male\",\"age\":26.0,\"n_siblings_spouses\":0,\"parch\":0,\"fare\":7.8875,\"class\":\"Third\",\"deck\":\"unknown\",\"embark_town\":\"Southampton\",\"alone\":\"y\"},{\"survived\":0,\"sex\":\"male\",\"age\":39.0,\"n_siblings_spouses\":0,\"parch\":0,\"fare\":24.15,\"class\":\"Third\",\"deck\":\"unknown\",\"embark_town\":\"Southampton\",\"alone\":\"y\"},{\"survived\":0,\"sex\":\"male\",\"age\":35.0,\"n_siblings_spouses\":0,\"parch\":0,\"fare\":10.5,\"class\":\"Second\",\"deck\":\"unknown\",\"embark_town\":\"Southampton\",\"alone\":\"y\"},{\"survived\":0,\"sex\":\"male\",\"age\":30.5,\"n_siblings_spouses\":0,\"parch\":0,\"fare\":8.05,\"class\":\"Third\",\"deck\":\"unknown\",\"embark_town\":\"Southampton\",\"alone\":\"y\"},{\"survived\":0,\"sex\":\"male\",\"age\":28.0,\"n_siblings_spouses\":0,\"parch\":0,\"fare\":0.0,\"class\":\"First\",\"deck\":\"B\",\"embark_town\":\"Southampton\",\"alone\":\"y\"},{\"survived\":0,\"sex\":\"female\",\"age\":23.0,\"n_siblings_spouses\":0,\"parch\":0,\"fare\":7.925,\"class\":\"Third\",\"deck\":\"unknown\",\"embark_town\":\"Southampton\",\"alone\":\"y\"},{\"survived\":0,\"sex\":\"male\",\"age\":31.0,\"n_siblings_spouses\":1,\"parch\":1,\"fare\":37.0042,\"class\":\"Second\",\"deck\":\"unknown\",\"embark_town\":\"Cherbourg\",\"alone\":\"n\"},{\"survived\":0,\"sex\":\"male\",\"age\":10.0,\"n_siblings_spouses\":3,\"parch\":2,\"fare\":27.9,\"class\":\"Third\",\"deck\":\"unknown\",\"embark_town\":\"Southampton\",\"alone\":\"n\"},{\"survived\":1,\"sex\":\"female\",\"age\":52.0,\"n_siblings_spouses\":1,\"parch\":1,\"fare\":93.5,\"class\":\"First\",\"deck\":\"B\",\"embark_town\":\"Southampton\",\"alone\":\"n\"},{\"survived\":1,\"sex\":\"male\",\"age\":27.0,\"n_siblings_spouses\":0,\"parch\":0,\"fare\":8.6625,\"class\":\"Third\",\"deck\":\"unknown\",\"embark_town\":\"Southampton\",\"alone\":\"y\"},{\"survived\":0,\"sex\":\"male\",\"age\":2.0,\"n_siblings_spouses\":4,\"parch\":1,\"fare\":39.6875,\"class\":\"Third\",\"deck\":\"unknown\",\"embark_town\":\"Southampton\",\"alone\":\"n\"},{\"survived\":0,\"sex\":\"male\",\"age\":28.0,\"n_siblings_spouses\":0,\"parch\":0,\"fare\":6.95,\"class\":\"Third\",\"deck\":\"unknown\",\"embark_town\":\"Queenstown\",\"alone\":\"y\"},{\"survived\":0,\"sex\":\"male\",\"age\":28.0,\"n_siblings_spouses\":0,\"parch\":0,\"fare\":56.4958,\"class\":\"Third\",\"deck\":\"unknown\",\"embark_town\":\"Southampton\",\"alone\":\"y\"},{\"survived\":1,\"sex\":\"male\",\"age\":28.0,\"n_siblings_spouses\":0,\"parch\":0,\"fare\":7.75,\"class\":\"Third\",\"deck\":\"unknown\",\"embark_town\":\"Queenstown\",\"alone\":\"y\"},{\"survived\":1,\"sex\":\"female\",\"age\":15.0,\"n_siblings_spouses\":1,\"parch\":0,\"fare\":14.4542,\"class\":\"Third\",\"deck\":\"unknown\",\"embark_town\":\"Cherbourg\",\"alone\":\"n\"},{\"survived\":0,\"sex\":\"male\",\"age\":28.0,\"n_siblings_spouses\":0,\"parch\":0,\"fare\":7.2292,\"class\":\"Third\",\"deck\":\"unknown\",\"embark_town\":\"Cherbourg\",\"alone\":\"y\"},{\"survived\":0,\"sex\":\"male\",\"age\":23.0,\"n_siblings_spouses\":0,\"parch\":0,\"fare\":7.8542,\"class\":\"Third\",\"deck\":\"unknown\",\"embark_town\":\"Southampton\",\"alone\":\"y\"},{\"survived\":0,\"sex\":\"male\",\"age\":18.0,\"n_siblings_spouses\":0,\"parch\":0,\"fare\":8.3,\"class\":\"Third\",\"deck\":\"unknown\",\"embark_town\":\"Southampton\",\"alone\":\"y\"},{\"survived\":1,\"sex\":\"female\",\"age\":39.0,\"n_siblings_spouses\":1,\"parch\":1,\"fare\":83.1583,\"class\":\"First\",\"deck\":\"E\",\"embark_town\":\"Cherbourg\",\"alone\":\"n\"},{\"survived\":0,\"sex\":\"male\",\"age\":21.0,\"n_siblings_spouses\":0,\"parch\":0,\"fare\":8.6625,\"class\":\"Third\",\"deck\":\"unknown\",\"embark_town\":\"Southampton\",\"alone\":\"y\"},{\"survived\":0,\"sex\":\"male\",\"age\":28.0,\"n_siblings_spouses\":0,\"parch\":0,\"fare\":8.05,\"class\":\"Third\",\"deck\":\"unknown\",\"embark_town\":\"Southampton\",\"alone\":\"y\"},{\"survived\":1,\"sex\":\"male\",\"age\":28.0,\"n_siblings_spouses\":0,\"parch\":0,\"fare\":29.7,\"class\":\"First\",\"deck\":\"C\",\"embark_town\":\"Cherbourg\",\"alone\":\"y\"},{\"survived\":0,\"sex\":\"male\",\"age\":16.0,\"n_siblings_spouses\":0,\"parch\":0,\"fare\":10.5,\"class\":\"Second\",\"deck\":\"unknown\",\"embark_town\":\"Southampton\",\"alone\":\"y\"},{\"survived\":1,\"sex\":\"female\",\"age\":30.0,\"n_siblings_spouses\":0,\"parch\":0,\"fare\":31.0,\"class\":\"First\",\"deck\":\"unknown\",\"embark_town\":\"Cherbourg\",\"alone\":\"y\"},{\"survived\":0,\"sex\":\"male\",\"age\":34.5,\"n_siblings_spouses\":0,\"parch\":0,\"fare\":6.4375,\"class\":\"Third\",\"deck\":\"unknown\",\"embark_town\":\"Cherbourg\",\"alone\":\"y\"},{\"survived\":0,\"sex\":\"male\",\"age\":42.0,\"n_siblings_spouses\":0,\"parch\":0,\"fare\":7.55,\"class\":\"Third\",\"deck\":\"unknown\",\"embark_town\":\"Southampton\",\"alone\":\"y\"},{\"survived\":0,\"sex\":\"male\",\"age\":28.0,\"n_siblings_spouses\":8,\"parch\":2,\"fare\":69.55,\"class\":\"Third\",\"deck\":\"unknown\",\"embark_town\":\"Southampton\",\"alone\":\"n\"},{\"survived\":0,\"sex\":\"male\",\"age\":35.0,\"n_siblings_spouses\":0,\"parch\":0,\"fare\":7.8958,\"class\":\"Third\",\"deck\":\"unknown\",\"embark_town\":\"Cherbourg\",\"alone\":\"y\"},{\"survived\":0,\"sex\":\"male\",\"age\":28.0,\"n_siblings_spouses\":0,\"parch\":1,\"fare\":33.0,\"class\":\"Second\",\"deck\":\"unknown\",\"embark_town\":\"Southampton\",\"alone\":\"n\"},{\"survived\":1,\"sex\":\"female\",\"age\":28.0,\"n_siblings_spouses\":1,\"parch\":0,\"fare\":89.1042,\"class\":\"First\",\"deck\":\"C\",\"embark_town\":\"Cherbourg\",\"alone\":\"n\"},{\"survived\":0,\"sex\":\"male\",\"age\":4.0,\"n_siblings_spouses\":4,\"parch\":2,\"fare\":31.275,\"class\":\"Third\",\"deck\":\"unknown\",\"embark_town\":\"Southampton\",\"alone\":\"n\"},{\"survived\":1,\"sex\":\"female\",\"age\":16.0,\"n_siblings_spouses\":0,\"parch\":1,\"fare\":39.4,\"class\":\"First\",\"deck\":\"D\",\"embark_town\":\"Southampton\",\"alone\":\"n\"},{\"survived\":1,\"sex\":\"female\",\"age\":18.0,\"n_siblings_spouses\":0,\"parch\":1,\"fare\":9.35,\"class\":\"Third\",\"deck\":\"unknown\",\"embark_town\":\"Southampton\",\"alone\":\"n\"},{\"survived\":1,\"sex\":\"female\",\"age\":45.0,\"n_siblings_spouses\":1,\"parch\":1,\"fare\":164.8667,\"class\":\"First\",\"deck\":\"unknown\",\"embark_town\":\"Southampton\",\"alone\":\"n\"},{\"survived\":1,\"sex\":\"male\",\"age\":51.0,\"n_siblings_spouses\":0,\"parch\":0,\"fare\":26.55,\"class\":\"First\",\"deck\":\"E\",\"embark_town\":\"Southampton\",\"alone\":\"y\"},{\"survived\":1,\"sex\":\"female\",\"age\":24.0,\"n_siblings_spouses\":0,\"parch\":3,\"fare\":19.2583,\"class\":\"Third\",\"deck\":\"unknown\",\"embark_town\":\"Cherbourg\",\"alone\":\"n\"},{\"survived\":0,\"sex\":\"male\",\"age\":41.0,\"n_siblings_spouses\":2,\"parch\":0,\"fare\":14.1083,\"class\":\"Third\",\"deck\":\"unknown\",\"embark_town\":\"Southampton\",\"alone\":\"n\"},{\"survived\":0,\"sex\":\"male\",\"age\":24.0,\"n_siblings_spouses\":0,\"parch\":0,\"fare\":13.0,\"class\":\"Second\",\"deck\":\"unknown\",\"embark_town\":\"Southampton\",\"alone\":\"y\"},{\"survived\":1,\"sex\":\"female\",\"age\":42.0,\"n_siblings_spouses\":0,\"parch\":0,\"fare\":13.0,\"class\":\"Second\",\"deck\":\"unknown\",\"embark_town\":\"Southampton\",\"alone\":\"y\"},{\"survived\":1,\"sex\":\"female\",\"age\":27.0,\"n_siblings_spouses\":1,\"parch\":0,\"fare\":13.8583,\"class\":\"Second\",\"deck\":\"unknown\",\"embark_town\":\"Cherbourg\",\"alone\":\"n\"},{\"survived\":0,\"sex\":\"male\",\"age\":31.0,\"n_siblings_spouses\":0,\"parch\":0,\"fare\":50.4958,\"class\":\"First\",\"deck\":\"A\",\"embark_town\":\"Southampton\",\"alone\":\"y\"},{\"survived\":1,\"sex\":\"male\",\"age\":4.0,\"n_siblings_spouses\":1,\"parch\":1,\"fare\":11.1333,\"class\":\"Third\",\"deck\":\"unknown\",\"embark_town\":\"Southampton\",\"alone\":\"n\"},{\"survived\":0,\"sex\":\"male\",\"age\":26.0,\"n_siblings_spouses\":0,\"parch\":0,\"fare\":7.8958,\"class\":\"Third\",\"deck\":\"unknown\",\"embark_town\":\"Southampton\",\"alone\":\"y\"},{\"survived\":1,\"sex\":\"female\",\"age\":47.0,\"n_siblings_spouses\":1,\"parch\":1,\"fare\":52.5542,\"class\":\"First\",\"deck\":\"D\",\"embark_town\":\"Southampton\",\"alone\":\"n\"},{\"survived\":0,\"sex\":\"male\",\"age\":33.0,\"n_siblings_spouses\":0,\"parch\":0,\"fare\":5.0,\"class\":\"First\",\"deck\":\"B\",\"embark_town\":\"Southampton\",\"alone\":\"y\"},{\"survived\":0,\"sex\":\"male\",\"age\":47.0,\"n_siblings_spouses\":0,\"parch\":0,\"fare\":9.0,\"class\":\"Third\",\"deck\":\"unknown\",\"embark_town\":\"Southampton\",\"alone\":\"y\"},{\"survived\":1,\"sex\":\"female\",\"age\":28.0,\"n_siblings_spouses\":1,\"parch\":0,\"fare\":24.0,\"class\":\"Second\",\"deck\":\"unknown\",\"embark_town\":\"Cherbourg\",\"alone\":\"n\"},{\"survived\":1,\"sex\":\"female\",\"age\":15.0,\"n_siblings_spouses\":0,\"parch\":0,\"fare\":7.225,\"class\":\"Third\",\"deck\":\"unknown\",\"embark_town\":\"Cherbourg\",\"alone\":\"y\"},{\"survived\":0,\"sex\":\"male\",\"age\":20.0,\"n_siblings_spouses\":0,\"parch\":0,\"fare\":9.8458,\"class\":\"Third\",\"deck\":\"unknown\",\"embark_town\":\"Southampton\",\"alone\":\"y\"},{\"survived\":0,\"sex\":\"male\",\"age\":19.0,\"n_siblings_spouses\":0,\"parch\":0,\"fare\":7.8958,\"class\":\"Third\",\"deck\":\"unknown\",\"embark_town\":\"Southampton\",\"alone\":\"y\"},{\"survived\":0,\"sex\":\"male\",\"age\":28.0,\"n_siblings_spouses\":0,\"parch\":0,\"fare\":7.8958,\"class\":\"Third\",\"deck\":\"unknown\",\"embark_town\":\"Southampton\",\"alone\":\"y\"},{\"survived\":0,\"sex\":\"female\",\"age\":22.0,\"n_siblings_spouses\":0,\"parch\":0,\"fare\":10.5167,\"class\":\"Third\",\"deck\":\"unknown\",\"embark_town\":\"Southampton\",\"alone\":\"y\"},{\"survived\":0,\"sex\":\"male\",\"age\":28.0,\"n_siblings_spouses\":0,\"parch\":0,\"fare\":10.5,\"class\":\"Second\",\"deck\":\"unknown\",\"embark_town\":\"Southampton\",\"alone\":\"y\"},{\"survived\":0,\"sex\":\"male\",\"age\":25.0,\"n_siblings_spouses\":0,\"parch\":0,\"fare\":7.05,\"class\":\"Third\",\"deck\":\"unknown\",\"embark_town\":\"Southampton\",\"alone\":\"y\"},{\"survived\":1,\"sex\":\"female\",\"age\":19.0,\"n_siblings_spouses\":0,\"parch\":0,\"fare\":30.0,\"class\":\"First\",\"deck\":\"B\",\"embark_town\":\"Southampton\",\"alone\":\"y\"},{\"survived\":0,\"sex\":\"female\",\"age\":28.0,\"n_siblings_spouses\":1,\"parch\":2,\"fare\":23.45,\"class\":\"Third\",\"deck\":\"unknown\",\"embark_town\":\"Southampton\",\"alone\":\"n\"},{\"survived\":0,\"sex\":\"male\",\"age\":32.0,\"n_siblings_spouses\":0,\"parch\":0,\"fare\":7.75,\"class\":\"Third\",\"deck\":\"unknown\",\"embark_town\":\"Queenstown\",\"alone\":\"y\"}];\n",
              "          document.querySelector(\"#elem\").data = data;\n",
              "        </script>"
            ],
            "text/plain": [
              "<IPython.core.display.HTML object>"
            ]
          },
          "metadata": {
            "tags": []
          }
        }
      ]
    },
    {
      "cell_type": "markdown",
      "metadata": {
        "id": "YJFKv_AvoSKc",
        "colab_type": "text"
      },
      "source": [
        "## Load data into tensorflow\n",
        " \n",
        "It is highly recommended to use tf.data to achieve highest peformance.\n",
        "\n",
        "The following features have been excluded:\n",
        "+ Name\n",
        "+ Cabin\n",
        "+ PassengerId"
      ]
    },
    {
      "cell_type": "code",
      "metadata": {
        "id": "fkD-p-e2NxvP",
        "colab_type": "code",
        "outputId": "63cda659-cb85-4230-bb22-c984c7d496e5",
        "colab": {
          "base_uri": "https://localhost:8080/",
          "height": 70
        }
      },
      "source": [
        "df[\"Sex\"].value_counts()"
      ],
      "execution_count": 0,
      "outputs": [
        {
          "output_type": "execute_result",
          "data": {
            "text/plain": [
              "male      100\n",
              "female     56\n",
              "Name: Sex, dtype: int64"
            ]
          },
          "metadata": {
            "tags": []
          },
          "execution_count": 111
        }
      ]
    },
    {
      "cell_type": "code",
      "metadata": {
        "id": "lUe1Tzo2oZE_",
        "colab_type": "code",
        "colab": {}
      },
      "source": [
        "LABEL_COLUMN = 'survived'\n",
        "SELECTED_COLUMNS = ['survived','class','age','fare','embark_town','n_siblings_spouses','sex']\n",
        "\n",
        "def get_dataset(file_path):\n",
        "  dataset = tf.data.experimental.make_csv_dataset(\n",
        "      file_path,\n",
        "      batch_size=5,\n",
        "      label_name=LABEL_COLUMN,\n",
        "      na_value=\"?\",\n",
        "      num_epochs=1,\n",
        "      ignore_errors=True,\n",
        "      select_columns=SELECTED_COLUMNS\n",
        "      )\n",
        "  return dataset\n",
        "\n",
        "data_tf = get_dataset(train_file_path)"
      ],
      "execution_count": 0,
      "outputs": []
    },
    {
      "cell_type": "markdown",
      "metadata": {
        "id": "kA23Xt5Dq0H8",
        "colab_type": "text"
      },
      "source": [
        "### Inspect tensorflow data"
      ]
    },
    {
      "cell_type": "code",
      "metadata": {
        "id": "-V28d5BwqtZx",
        "colab_type": "code",
        "outputId": "c6df320b-04ff-4bf2-a560-c07dfea9f99d",
        "colab": {
          "base_uri": "https://localhost:8080/",
          "height": 123
        }
      },
      "source": [
        "def show_batch(dataset):\n",
        "  for batch, label in dataset.take(1):\n",
        "    for key, value in batch.items():\n",
        "      print(\"{:20s}: {}\".format(key,value.numpy()))\n",
        "\n",
        "show_batch(data_tf)"
      ],
      "execution_count": 0,
      "outputs": [
        {
          "output_type": "stream",
          "text": [
            "sex                 : [b'male' b'female' b'female' b'male' b'male']\n",
            "age                 : [24. 21. 18. 71. 28.]\n",
            "n_siblings_spouses  : [2 0 0 0 0]\n",
            "fare                : [73.5    77.9583 13.     49.5042  7.8958]\n",
            "class               : [b'Second' b'First' b'Second' b'First' b'Third']\n",
            "embark_town         : [b'Southampton' b'Southampton' b'Southampton' b'Cherbourg' b'Southampton']\n"
          ],
          "name": "stdout"
        }
      ]
    },
    {
      "cell_type": "code",
      "metadata": {
        "id": "-Th-h_r5VuNn",
        "colab_type": "code",
        "colab": {}
      },
      "source": [
        "from tensorflow import feature_column\n",
        "\n",
        "feature_columns = []\n",
        "\n",
        "# Numeric cols\n",
        "for header in [\"fare\"]:\n",
        "  feature_columns.append(feature_column.numeric_column(header))\n",
        "\n",
        "# Bucketized cols.\n",
        "age = feature_column.numeric_column(\"age\")\n",
        "feature_columns.append(feature_column.bucketized_column(age, boundaries=[3, 10, 20, 50, 80]))\n",
        "\n",
        "n_siblings_spouses = feature_column.numeric_column(\"n_siblings_spouses\")\n",
        "feature_columns.append(feature_column.bucketized_column(n_siblings_spouses, boundaries=[0, 1, 3]))\n",
        "\n",
        "# Categorical columns.\n",
        "ship_class = feature_column.categorical_column_with_vocabulary_list(\n",
        "    'class', [\"First\", \"Second\", \"Third\"])\n",
        "feature_columns.append(feature_column.indicator_column(ship_class))\n",
        "\n",
        "embark_town = feature_column.categorical_column_with_vocabulary_list(\n",
        "    'embark_town', [\"Southampton\", \"Queenstown\", \"Cherbourg\", \"unknown\"])\n",
        "feature_columns.append(feature_column.indicator_column(embark_town))\n",
        "\n",
        "sex = feature_column.categorical_column_with_vocabulary_list(\n",
        "    'sex', [\"male\", \"female\"])\n",
        "feature_columns.append(feature_column.indicator_column(sex))"
      ],
      "execution_count": 0,
      "outputs": []
    },
    {
      "cell_type": "code",
      "metadata": {
        "id": "wAsq7GcCPMzj",
        "colab_type": "code",
        "outputId": "e2b9180e-0c54-4650-c093-08f65dd8785d",
        "colab": {
          "base_uri": "https://localhost:8080/",
          "height": 105
        }
      },
      "source": [
        "# See how the preprocessed data looks like\n",
        "example_batch = next(iter(data_tf))[0]\n",
        "\n",
        "def demo(feature_column):\n",
        "  feature_layer = tf.keras.layers.DenseFeatures(feature_column)\n",
        "  print(feature_layer(example_batch).numpy())\n",
        "\n",
        "n_siblings_spouses = feature_column.numeric_column(\"n_siblings_spouses\")\n",
        "demo(feature_column.bucketized_column(n_siblings_spouses, boundaries=[0, 1, 3]))"
      ],
      "execution_count": 0,
      "outputs": [
        {
          "output_type": "stream",
          "text": [
            "[[0. 1. 0. 0.]\n",
            " [0. 0. 1. 0.]\n",
            " [0. 1. 0. 0.]\n",
            " [0. 0. 1. 0.]\n",
            " [0. 0. 1. 0.]]\n"
          ],
          "name": "stdout"
        }
      ]
    },
    {
      "cell_type": "code",
      "metadata": {
        "id": "yqy8DHztav01",
        "colab_type": "code",
        "outputId": "ac386b59-76fa-4af7-f3d8-0357cb6af60d",
        "colab": {
          "base_uri": "https://localhost:8080/",
          "height": 387
        }
      },
      "source": [
        "feature_layer = tf.keras.layers.DenseFeatures(feature_columns)\n",
        "\n",
        "# Select between different models.\n",
        "def model_types(model_type):\n",
        "  if model_type is \"DNN\":\n",
        "    model = tf.keras.Sequential(\n",
        "        [\n",
        "         feature_layer,\n",
        "         tf.keras.layers.Dense(128, activation='relu'),\n",
        "         tf.keras.layers.Dense(128, activation='relu'),\n",
        "         tf.keras.layers.Dense(1)\n",
        "         ]\n",
        "    )\n",
        "\n",
        "  if model_type is \"LR\":\n",
        "    model = tf.keras.Sequential(\n",
        "        [\n",
        "         feature_layer,\n",
        "         tf.keras.layers.Dense(1)\n",
        "         ]\n",
        "    )\n",
        "  return model\n",
        "\n",
        "model_types(\"DNN\")\n",
        "model.compile(optimizer='adam',\n",
        "                  loss=tf.keras.losses.BinaryCrossentropy(from_logits=True),\n",
        "                  metrics=['accuracy'])\n",
        "\n",
        "model.fit(\n",
        "    get_dataset(train_file_path),\n",
        "    validation_data=get_dataset(eval_file_path),\n",
        "    epochs=10\n",
        "    )"
      ],
      "execution_count": 0,
      "outputs": [
        {
          "output_type": "stream",
          "text": [
            "Epoch 1/10\n",
            "126/126 [==============================] - 0s 4ms/step - loss: 0.3294 - accuracy: 0.8437 - val_loss: 0.5876 - val_accuracy: 0.8106\n",
            "Epoch 2/10\n",
            "126/126 [==============================] - 0s 2ms/step - loss: 0.3235 - accuracy: 0.8485 - val_loss: 0.5967 - val_accuracy: 0.8220\n",
            "Epoch 3/10\n",
            "126/126 [==============================] - 0s 2ms/step - loss: 0.3205 - accuracy: 0.8469 - val_loss: 0.5632 - val_accuracy: 0.8182\n",
            "Epoch 4/10\n",
            "126/126 [==============================] - 0s 2ms/step - loss: 0.3265 - accuracy: 0.8549 - val_loss: 0.5663 - val_accuracy: 0.8068\n",
            "Epoch 5/10\n",
            "126/126 [==============================] - 0s 2ms/step - loss: 0.3144 - accuracy: 0.8517 - val_loss: 0.5856 - val_accuracy: 0.8182\n",
            "Epoch 6/10\n",
            "126/126 [==============================] - 0s 2ms/step - loss: 0.3178 - accuracy: 0.8517 - val_loss: 0.5795 - val_accuracy: 0.8182\n",
            "Epoch 7/10\n",
            "126/126 [==============================] - 0s 2ms/step - loss: 0.3160 - accuracy: 0.8517 - val_loss: 0.5748 - val_accuracy: 0.8182\n",
            "Epoch 8/10\n",
            "126/126 [==============================] - 0s 2ms/step - loss: 0.3085 - accuracy: 0.8549 - val_loss: 0.5720 - val_accuracy: 0.8182\n",
            "Epoch 9/10\n",
            "126/126 [==============================] - 0s 2ms/step - loss: 0.3127 - accuracy: 0.8517 - val_loss: 0.5859 - val_accuracy: 0.8106\n",
            "Epoch 10/10\n",
            "126/126 [==============================] - 0s 2ms/step - loss: 0.3149 - accuracy: 0.8485 - val_loss: 0.5763 - val_accuracy: 0.8182\n"
          ],
          "name": "stdout"
        },
        {
          "output_type": "execute_result",
          "data": {
            "text/plain": [
              "<tensorflow.python.keras.callbacks.History at 0x7ffa7a7d0400>"
            ]
          },
          "metadata": {
            "tags": []
          },
          "execution_count": 129
        }
      ]
    }
  ]
}